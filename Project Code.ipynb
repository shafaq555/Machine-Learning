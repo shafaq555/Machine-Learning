{
  "nbformat": 4,
  "nbformat_minor": 0,
  "metadata": {
    "colab": {
      "name": "Combined Project Code.ipynb",
      "version": "0.3.2",
      "provenance": [],
      "collapsed_sections": []
    },
    "kernelspec": {
      "display_name": "Python 3",
      "language": "python",
      "name": "python3"
    }
  },
  "cells": [
    {
      "metadata": {
        "id": "47HZM4Z4zDyD",
        "colab_type": "text"
      },
      "cell_type": "markdown",
      "source": [
        "<center><Bold><font size ='+2'> FRAUD DETECTION </Bold></center></font>\n"
      ]
    },
    {
      "metadata": {
        "id": "uTquzHknzDyH",
        "colab_type": "code",
        "colab": {}
      },
      "cell_type": "code",
      "source": [
        "import numpy as np\n",
        "import pandas as pd\n",
        "import matplotlib.pyplot as plt\n",
        "from collections import Counter\n",
        "from sklearn.datasets import make_classification\n",
        "from imblearn.over_sampling import ADASYN \n",
        "from sklearn.ensemble import RandomForestClassifier\n",
        "from sklearn import svm\n",
        "from sklearn.naive_bayes import GaussianNB\n",
        "from sklearn.neural_network import MLPClassifier\n",
        "from sklearn.linear_model import LogisticRegression\n",
        "from sklearn.metrics import confusion_matrix, classification_report, auc, precision_recall_curve,roc_curve, accuracy_score, cohen_kappa_score\n",
        "from sklearn.preprocessing import StandardScaler\n",
        "from sklearn.manifold import TSNE\n",
        "from sklearn.utils import shuffle\n",
        "from sklearn import svm, datasets\n",
        "from sklearn.model_selection import GridSearchCV\n",
        "from sklearn.model_selection import RandomizedSearchCV\n",
        "import matplotlib.gridspec as gridspec\n",
        "from sklearn import tree\n",
        "import seaborn as sns\n",
        "%matplotlib inline"
      ],
      "execution_count": 0,
      "outputs": []
    },
    {
      "metadata": {
        "id": "vWsDSeIQzDyR",
        "colab_type": "code",
        "outputId": "a5141330-6559-459e-b90d-05bb5660c600",
        "colab": {
          "base_uri": "https://localhost:8080/",
          "height": 256
        }
      },
      "cell_type": "code",
      "source": [
        "df = pd.read_csv(\"creditcard.csv\")\n",
        "df.head()"
      ],
      "execution_count": 2,
      "outputs": [
        {
          "output_type": "execute_result",
          "data": {
            "text/html": [
              "<div>\n",
              "<style scoped>\n",
              "    .dataframe tbody tr th:only-of-type {\n",
              "        vertical-align: middle;\n",
              "    }\n",
              "\n",
              "    .dataframe tbody tr th {\n",
              "        vertical-align: top;\n",
              "    }\n",
              "\n",
              "    .dataframe thead th {\n",
              "        text-align: right;\n",
              "    }\n",
              "</style>\n",
              "<table border=\"1\" class=\"dataframe\">\n",
              "  <thead>\n",
              "    <tr style=\"text-align: right;\">\n",
              "      <th></th>\n",
              "      <th>Time</th>\n",
              "      <th>V1</th>\n",
              "      <th>V2</th>\n",
              "      <th>V3</th>\n",
              "      <th>V4</th>\n",
              "      <th>V5</th>\n",
              "      <th>V6</th>\n",
              "      <th>V7</th>\n",
              "      <th>V8</th>\n",
              "      <th>V9</th>\n",
              "      <th>...</th>\n",
              "      <th>V21</th>\n",
              "      <th>V22</th>\n",
              "      <th>V23</th>\n",
              "      <th>V24</th>\n",
              "      <th>V25</th>\n",
              "      <th>V26</th>\n",
              "      <th>V27</th>\n",
              "      <th>V28</th>\n",
              "      <th>Amount</th>\n",
              "      <th>Class</th>\n",
              "    </tr>\n",
              "  </thead>\n",
              "  <tbody>\n",
              "    <tr>\n",
              "      <th>0</th>\n",
              "      <td>0.0</td>\n",
              "      <td>-1.359807</td>\n",
              "      <td>-0.072781</td>\n",
              "      <td>2.536347</td>\n",
              "      <td>1.378155</td>\n",
              "      <td>-0.338321</td>\n",
              "      <td>0.462388</td>\n",
              "      <td>0.239599</td>\n",
              "      <td>0.098698</td>\n",
              "      <td>0.363787</td>\n",
              "      <td>...</td>\n",
              "      <td>-0.018307</td>\n",
              "      <td>0.277838</td>\n",
              "      <td>-0.110474</td>\n",
              "      <td>0.066928</td>\n",
              "      <td>0.128539</td>\n",
              "      <td>-0.189115</td>\n",
              "      <td>0.133558</td>\n",
              "      <td>-0.021053</td>\n",
              "      <td>149.62</td>\n",
              "      <td>0</td>\n",
              "    </tr>\n",
              "    <tr>\n",
              "      <th>1</th>\n",
              "      <td>0.0</td>\n",
              "      <td>1.191857</td>\n",
              "      <td>0.266151</td>\n",
              "      <td>0.166480</td>\n",
              "      <td>0.448154</td>\n",
              "      <td>0.060018</td>\n",
              "      <td>-0.082361</td>\n",
              "      <td>-0.078803</td>\n",
              "      <td>0.085102</td>\n",
              "      <td>-0.255425</td>\n",
              "      <td>...</td>\n",
              "      <td>-0.225775</td>\n",
              "      <td>-0.638672</td>\n",
              "      <td>0.101288</td>\n",
              "      <td>-0.339846</td>\n",
              "      <td>0.167170</td>\n",
              "      <td>0.125895</td>\n",
              "      <td>-0.008983</td>\n",
              "      <td>0.014724</td>\n",
              "      <td>2.69</td>\n",
              "      <td>0</td>\n",
              "    </tr>\n",
              "    <tr>\n",
              "      <th>2</th>\n",
              "      <td>1.0</td>\n",
              "      <td>-1.358354</td>\n",
              "      <td>-1.340163</td>\n",
              "      <td>1.773209</td>\n",
              "      <td>0.379780</td>\n",
              "      <td>-0.503198</td>\n",
              "      <td>1.800499</td>\n",
              "      <td>0.791461</td>\n",
              "      <td>0.247676</td>\n",
              "      <td>-1.514654</td>\n",
              "      <td>...</td>\n",
              "      <td>0.247998</td>\n",
              "      <td>0.771679</td>\n",
              "      <td>0.909412</td>\n",
              "      <td>-0.689281</td>\n",
              "      <td>-0.327642</td>\n",
              "      <td>-0.139097</td>\n",
              "      <td>-0.055353</td>\n",
              "      <td>-0.059752</td>\n",
              "      <td>378.66</td>\n",
              "      <td>0</td>\n",
              "    </tr>\n",
              "    <tr>\n",
              "      <th>3</th>\n",
              "      <td>1.0</td>\n",
              "      <td>-0.966272</td>\n",
              "      <td>-0.185226</td>\n",
              "      <td>1.792993</td>\n",
              "      <td>-0.863291</td>\n",
              "      <td>-0.010309</td>\n",
              "      <td>1.247203</td>\n",
              "      <td>0.237609</td>\n",
              "      <td>0.377436</td>\n",
              "      <td>-1.387024</td>\n",
              "      <td>...</td>\n",
              "      <td>-0.108300</td>\n",
              "      <td>0.005274</td>\n",
              "      <td>-0.190321</td>\n",
              "      <td>-1.175575</td>\n",
              "      <td>0.647376</td>\n",
              "      <td>-0.221929</td>\n",
              "      <td>0.062723</td>\n",
              "      <td>0.061458</td>\n",
              "      <td>123.50</td>\n",
              "      <td>0</td>\n",
              "    </tr>\n",
              "    <tr>\n",
              "      <th>4</th>\n",
              "      <td>2.0</td>\n",
              "      <td>-1.158233</td>\n",
              "      <td>0.877737</td>\n",
              "      <td>1.548718</td>\n",
              "      <td>0.403034</td>\n",
              "      <td>-0.407193</td>\n",
              "      <td>0.095921</td>\n",
              "      <td>0.592941</td>\n",
              "      <td>-0.270533</td>\n",
              "      <td>0.817739</td>\n",
              "      <td>...</td>\n",
              "      <td>-0.009431</td>\n",
              "      <td>0.798278</td>\n",
              "      <td>-0.137458</td>\n",
              "      <td>0.141267</td>\n",
              "      <td>-0.206010</td>\n",
              "      <td>0.502292</td>\n",
              "      <td>0.219422</td>\n",
              "      <td>0.215153</td>\n",
              "      <td>69.99</td>\n",
              "      <td>0</td>\n",
              "    </tr>\n",
              "  </tbody>\n",
              "</table>\n",
              "<p>5 rows × 31 columns</p>\n",
              "</div>"
            ],
            "text/plain": [
              "   Time        V1        V2        V3        V4        V5        V6        V7  \\\n",
              "0   0.0 -1.359807 -0.072781  2.536347  1.378155 -0.338321  0.462388  0.239599   \n",
              "1   0.0  1.191857  0.266151  0.166480  0.448154  0.060018 -0.082361 -0.078803   \n",
              "2   1.0 -1.358354 -1.340163  1.773209  0.379780 -0.503198  1.800499  0.791461   \n",
              "3   1.0 -0.966272 -0.185226  1.792993 -0.863291 -0.010309  1.247203  0.237609   \n",
              "4   2.0 -1.158233  0.877737  1.548718  0.403034 -0.407193  0.095921  0.592941   \n",
              "\n",
              "         V8        V9  ...         V21       V22       V23       V24  \\\n",
              "0  0.098698  0.363787  ...   -0.018307  0.277838 -0.110474  0.066928   \n",
              "1  0.085102 -0.255425  ...   -0.225775 -0.638672  0.101288 -0.339846   \n",
              "2  0.247676 -1.514654  ...    0.247998  0.771679  0.909412 -0.689281   \n",
              "3  0.377436 -1.387024  ...   -0.108300  0.005274 -0.190321 -1.175575   \n",
              "4 -0.270533  0.817739  ...   -0.009431  0.798278 -0.137458  0.141267   \n",
              "\n",
              "        V25       V26       V27       V28  Amount  Class  \n",
              "0  0.128539 -0.189115  0.133558 -0.021053  149.62      0  \n",
              "1  0.167170  0.125895 -0.008983  0.014724    2.69      0  \n",
              "2 -0.327642 -0.139097 -0.055353 -0.059752  378.66      0  \n",
              "3  0.647376 -0.221929  0.062723  0.061458  123.50      0  \n",
              "4 -0.206010  0.502292  0.219422  0.215153   69.99      0  \n",
              "\n",
              "[5 rows x 31 columns]"
            ]
          },
          "metadata": {
            "tags": []
          },
          "execution_count": 2
        }
      ]
    },
    {
      "metadata": {
        "colab_type": "code",
        "id": "CMM7P_9ezVrv",
        "colab": {}
      },
      "cell_type": "code",
      "source": [
        "#infor about data\n",
        "df.info()"
      ],
      "execution_count": 0,
      "outputs": []
    },
    {
      "metadata": {
        "id": "Lykqm8HkzDyl",
        "colab_type": "code",
        "colab": {}
      },
      "cell_type": "code",
      "source": [
        "# check if there is any null values\n",
        "df.isnull().sum() "
      ],
      "execution_count": 0,
      "outputs": []
    },
    {
      "metadata": {
        "id": "ni11KwR7zDyr",
        "colab_type": "code",
        "colab": {}
      },
      "cell_type": "code",
      "source": [
        "pd.set_option('precision', 3)\n",
        "df.loc[:, ['Time', 'Amount']].describe()"
      ],
      "execution_count": 0,
      "outputs": []
    },
    {
      "metadata": {
        "id": "fa8cVx5XzDyz",
        "colab_type": "code",
        "colab": {}
      },
      "cell_type": "code",
      "source": [
        "#visualizations of time and amount\n",
        "plt.figure(figsize=(10,8))\n",
        "plt.title('Distribution of Time Feature')\n",
        "sns.distplot(df.Time)"
      ],
      "execution_count": 0,
      "outputs": []
    },
    {
      "metadata": {
        "id": "A82S0u7SzDy9",
        "colab_type": "code",
        "colab": {}
      },
      "cell_type": "code",
      "source": [
        "plt.figure(figsize=(10,8))\n",
        "plt.title('Distribution of Monetary Value Feature')\n",
        "sns.distplot(df.Amount)"
      ],
      "execution_count": 0,
      "outputs": []
    },
    {
      "metadata": {
        "id": "zs4La0-hzDzH",
        "colab_type": "code",
        "outputId": "b511cee0-ecbc-4a3d-80b4-e57b7196a1e2",
        "colab": {}
      },
      "cell_type": "code",
      "source": [
        "f, (ax1, ax2) = plt.subplots(2, 1, sharex=True, figsize=(12,4))\n",
        "ax1.hist(df.Time[df.Class == 1], bins = 50)\n",
        "ax1.set_title('Fraud')\n",
        "ax2.hist(df.Time[df.Class == 0], bins = 50)\n",
        "ax2.set_title('Normal')\n",
        "plt.xlabel('Time (s)')\n",
        "plt.ylabel('Transactions')\n",
        "plt.show()"
      ],
      "execution_count": 0,
      "outputs": [
        {
          "output_type": "display_data",
          "data": {
            "image/png": "[encoded data removed]",
            "text/plain": [
              "<Figure size 864x288 with 2 Axes>"
            ]
          },
          "metadata": {
            "tags": [],
            "needs_background": "light"
          }
        }
      ]
    },
    {
      "metadata": {
        "id": "hKbPOrRJzDzQ",
        "colab_type": "code",
        "outputId": "6a129c14-204d-40f2-a5df-28f9b30e447f",
        "colab": {}
      },
      "cell_type": "code",
      "source": [
        "f, (ax1, ax2) = plt.subplots(2, 1, sharex=True, figsize=(12,4))\n",
        "ax1.hist(df.Amount[df.Class == 1], bins = 30)\n",
        "ax1.set_title('Fraud')\n",
        "ax2.hist(df.Amount[df.Class == 0], bins = 30)\n",
        "ax2.set_title('Normal')\n",
        "plt.xlabel('Amount ($)')\n",
        "plt.ylabel('Number of Transactions')\n",
        "plt.yscale('log')\n",
        "plt.show()"
      ],
      "execution_count": 0,
      "outputs": [
        {
          "output_type": "display_data",
          "data": {
            "image/png": "[encoded data removed]",
            "text/plain": [
              "<Figure size 864x288 with 2 Axes>"
            ]
          },
          "metadata": {
            "tags": [],
            "needs_background": "light"
          }
        }
      ]
    },
    {
      "metadata": {
        "id": "5AG4AkVqzDzX",
        "colab_type": "text"
      },
      "cell_type": "markdown",
      "source": [
        "The graph above shows the imbalanaced state of the dataset. It can be seen that there are very less frauds present a compared to the normal transactions."
      ]
    },
    {
      "metadata": {
        "id": "JCZEgpVdzDze",
        "colab_type": "code",
        "colab": {}
      },
      "cell_type": "code",
      "source": [
        "# print(train_features_T.duplicated().sum())  "
      ],
      "execution_count": 0,
      "outputs": []
    },
    {
      "metadata": {
        "id": "4JL5CocNzDzi",
        "colab_type": "code",
        "colab": {}
      },
      "cell_type": "code",
      "source": [
        "import seaborn as sns\n",
        "import matplotlib.gridspec as gridspec\n",
        "\n",
        "plt.figure(figsize=(12,28*4))\n",
        "gs = gridspec.GridSpec(28, 1)\n",
        "for i in range(1, 29):\n",
        "    ax = plt.subplot(gs[i-1])\n",
        "    sns.distplot(df['V'+str(i)][df.Class == 1], bins=50)\n",
        "    sns.distplot(df['V'+str(i)][df.Class == 0], bins=50)\n",
        "    ax.set_xlabel('')\n",
        "    ax.set_title('histogram of feature: ' + 'V'+str(i))\n",
        "plt.show()\n",
        "plt.tight_layout()"
      ],
      "execution_count": 0,
      "outputs": []
    },
    {
      "metadata": {
        "id": "j8bBErcUzDzp",
        "colab_type": "code",
        "colab": {
          "base_uri": "https://localhost:8080/",
          "height": 256
        },
        "outputId": "694ce514-585b-4623-d62e-9d383d33560f"
      },
      "cell_type": "code",
      "source": [
        "# Removing time since it is relatively redundant\n",
        "df= df.drop(['Time'], axis =1)\n",
        "df.head()"
      ],
      "execution_count": 4,
      "outputs": [
        {
          "output_type": "execute_result",
          "data": {
            "text/html": [
              "<div>\n",
              "<style scoped>\n",
              "    .dataframe tbody tr th:only-of-type {\n",
              "        vertical-align: middle;\n",
              "    }\n",
              "\n",
              "    .dataframe tbody tr th {\n",
              "        vertical-align: top;\n",
              "    }\n",
              "\n",
              "    .dataframe thead th {\n",
              "        text-align: right;\n",
              "    }\n",
              "</style>\n",
              "<table border=\"1\" class=\"dataframe\">\n",
              "  <thead>\n",
              "    <tr style=\"text-align: right;\">\n",
              "      <th></th>\n",
              "      <th>V1</th>\n",
              "      <th>V2</th>\n",
              "      <th>V3</th>\n",
              "      <th>V4</th>\n",
              "      <th>V5</th>\n",
              "      <th>V6</th>\n",
              "      <th>V7</th>\n",
              "      <th>V8</th>\n",
              "      <th>V9</th>\n",
              "      <th>V10</th>\n",
              "      <th>...</th>\n",
              "      <th>V21</th>\n",
              "      <th>V22</th>\n",
              "      <th>V23</th>\n",
              "      <th>V24</th>\n",
              "      <th>V25</th>\n",
              "      <th>V26</th>\n",
              "      <th>V27</th>\n",
              "      <th>V28</th>\n",
              "      <th>Amount</th>\n",
              "      <th>Class</th>\n",
              "    </tr>\n",
              "  </thead>\n",
              "  <tbody>\n",
              "    <tr>\n",
              "      <th>0</th>\n",
              "      <td>-1.359807</td>\n",
              "      <td>-0.072781</td>\n",
              "      <td>2.536347</td>\n",
              "      <td>1.378155</td>\n",
              "      <td>-0.338321</td>\n",
              "      <td>0.462388</td>\n",
              "      <td>0.239599</td>\n",
              "      <td>0.098698</td>\n",
              "      <td>0.363787</td>\n",
              "      <td>0.090794</td>\n",
              "      <td>...</td>\n",
              "      <td>-0.018307</td>\n",
              "      <td>0.277838</td>\n",
              "      <td>-0.110474</td>\n",
              "      <td>0.066928</td>\n",
              "      <td>0.128539</td>\n",
              "      <td>-0.189115</td>\n",
              "      <td>0.133558</td>\n",
              "      <td>-0.021053</td>\n",
              "      <td>149.62</td>\n",
              "      <td>0</td>\n",
              "    </tr>\n",
              "    <tr>\n",
              "      <th>1</th>\n",
              "      <td>1.191857</td>\n",
              "      <td>0.266151</td>\n",
              "      <td>0.166480</td>\n",
              "      <td>0.448154</td>\n",
              "      <td>0.060018</td>\n",
              "      <td>-0.082361</td>\n",
              "      <td>-0.078803</td>\n",
              "      <td>0.085102</td>\n",
              "      <td>-0.255425</td>\n",
              "      <td>-0.166974</td>\n",
              "      <td>...</td>\n",
              "      <td>-0.225775</td>\n",
              "      <td>-0.638672</td>\n",
              "      <td>0.101288</td>\n",
              "      <td>-0.339846</td>\n",
              "      <td>0.167170</td>\n",
              "      <td>0.125895</td>\n",
              "      <td>-0.008983</td>\n",
              "      <td>0.014724</td>\n",
              "      <td>2.69</td>\n",
              "      <td>0</td>\n",
              "    </tr>\n",
              "    <tr>\n",
              "      <th>2</th>\n",
              "      <td>-1.358354</td>\n",
              "      <td>-1.340163</td>\n",
              "      <td>1.773209</td>\n",
              "      <td>0.379780</td>\n",
              "      <td>-0.503198</td>\n",
              "      <td>1.800499</td>\n",
              "      <td>0.791461</td>\n",
              "      <td>0.247676</td>\n",
              "      <td>-1.514654</td>\n",
              "      <td>0.207643</td>\n",
              "      <td>...</td>\n",
              "      <td>0.247998</td>\n",
              "      <td>0.771679</td>\n",
              "      <td>0.909412</td>\n",
              "      <td>-0.689281</td>\n",
              "      <td>-0.327642</td>\n",
              "      <td>-0.139097</td>\n",
              "      <td>-0.055353</td>\n",
              "      <td>-0.059752</td>\n",
              "      <td>378.66</td>\n",
              "      <td>0</td>\n",
              "    </tr>\n",
              "    <tr>\n",
              "      <th>3</th>\n",
              "      <td>-0.966272</td>\n",
              "      <td>-0.185226</td>\n",
              "      <td>1.792993</td>\n",
              "      <td>-0.863291</td>\n",
              "      <td>-0.010309</td>\n",
              "      <td>1.247203</td>\n",
              "      <td>0.237609</td>\n",
              "      <td>0.377436</td>\n",
              "      <td>-1.387024</td>\n",
              "      <td>-0.054952</td>\n",
              "      <td>...</td>\n",
              "      <td>-0.108300</td>\n",
              "      <td>0.005274</td>\n",
              "      <td>-0.190321</td>\n",
              "      <td>-1.175575</td>\n",
              "      <td>0.647376</td>\n",
              "      <td>-0.221929</td>\n",
              "      <td>0.062723</td>\n",
              "      <td>0.061458</td>\n",
              "      <td>123.50</td>\n",
              "      <td>0</td>\n",
              "    </tr>\n",
              "    <tr>\n",
              "      <th>4</th>\n",
              "      <td>-1.158233</td>\n",
              "      <td>0.877737</td>\n",
              "      <td>1.548718</td>\n",
              "      <td>0.403034</td>\n",
              "      <td>-0.407193</td>\n",
              "      <td>0.095921</td>\n",
              "      <td>0.592941</td>\n",
              "      <td>-0.270533</td>\n",
              "      <td>0.817739</td>\n",
              "      <td>0.753074</td>\n",
              "      <td>...</td>\n",
              "      <td>-0.009431</td>\n",
              "      <td>0.798278</td>\n",
              "      <td>-0.137458</td>\n",
              "      <td>0.141267</td>\n",
              "      <td>-0.206010</td>\n",
              "      <td>0.502292</td>\n",
              "      <td>0.219422</td>\n",
              "      <td>0.215153</td>\n",
              "      <td>69.99</td>\n",
              "      <td>0</td>\n",
              "    </tr>\n",
              "  </tbody>\n",
              "</table>\n",
              "<p>5 rows × 30 columns</p>\n",
              "</div>"
            ],
            "text/plain": [
              "         V1        V2        V3        V4        V5        V6        V7  \\\n",
              "0 -1.359807 -0.072781  2.536347  1.378155 -0.338321  0.462388  0.239599   \n",
              "1  1.191857  0.266151  0.166480  0.448154  0.060018 -0.082361 -0.078803   \n",
              "2 -1.358354 -1.340163  1.773209  0.379780 -0.503198  1.800499  0.791461   \n",
              "3 -0.966272 -0.185226  1.792993 -0.863291 -0.010309  1.247203  0.237609   \n",
              "4 -1.158233  0.877737  1.548718  0.403034 -0.407193  0.095921  0.592941   \n",
              "\n",
              "         V8        V9       V10  ...         V21       V22       V23  \\\n",
              "0  0.098698  0.363787  0.090794  ...   -0.018307  0.277838 -0.110474   \n",
              "1  0.085102 -0.255425 -0.166974  ...   -0.225775 -0.638672  0.101288   \n",
              "2  0.247676 -1.514654  0.207643  ...    0.247998  0.771679  0.909412   \n",
              "3  0.377436 -1.387024 -0.054952  ...   -0.108300  0.005274 -0.190321   \n",
              "4 -0.270533  0.817739  0.753074  ...   -0.009431  0.798278 -0.137458   \n",
              "\n",
              "        V24       V25       V26       V27       V28  Amount  Class  \n",
              "0  0.066928  0.128539 -0.189115  0.133558 -0.021053  149.62      0  \n",
              "1 -0.339846  0.167170  0.125895 -0.008983  0.014724    2.69      0  \n",
              "2 -0.689281 -0.327642 -0.139097 -0.055353 -0.059752  378.66      0  \n",
              "3 -1.175575  0.647376 -0.221929  0.062723  0.061458  123.50      0  \n",
              "4  0.141267 -0.206010  0.502292  0.219422  0.215153   69.99      0  \n",
              "\n",
              "[5 rows x 30 columns]"
            ]
          },
          "metadata": {
            "tags": []
          },
          "execution_count": 4
        }
      ]
    },
    {
      "metadata": {
        "id": "lYfiXF1ezDzt",
        "colab_type": "code",
        "colab": {}
      },
      "cell_type": "code",
      "source": [
        "#fraud vs. normal transactions \n",
        "counts = df.Class.value_counts()\n",
        "normal = counts[0]\n",
        "fraudulent = counts[1]\n",
        "perc_normal = (normal/(normal+fraudulent))*100\n",
        "perc_fraudulent = (fraudulent/(normal+fraudulent))*100\n",
        "print('There were {} non-fraudulent transactions ({:.3f}%) and {} fraudulent transactions ({:.3f}%).'.format(normal, perc_normal, fraudulent, perc_fraudulent))\n",
        "\n",
        "plt.figure(figsize=(8,6))\n",
        "sns.barplot(x=counts.index, y=counts)\n",
        "plt.title('Count of Fraudulent vs. Non-Fraudulent Transactions')\n",
        "plt.ylabel('Count')\n",
        "plt.xlabel('Class (0:Non-Fraudulent, 1:Fraudulent)')"
      ],
      "execution_count": 0,
      "outputs": []
    },
    {
      "metadata": {
        "id": "a4yPVprrzD0K",
        "colab_type": "code",
        "outputId": "b2319fee-c6dd-4fb5-c64c-21b33f2d49c5",
        "colab": {
          "base_uri": "https://localhost:8080/",
          "height": 52
        }
      },
      "cell_type": "code",
      "source": [
        "X = np.array(df.iloc[:, df.columns != 'Class'])\n",
        "y = np.array(df.iloc[:, df.columns == 'Class'])\n",
        "print('Shape of X: {}'.format(X.shape))\n",
        "print('Shape of y: {}'.format(y.shape))"
      ],
      "execution_count": 5,
      "outputs": [
        {
          "output_type": "stream",
          "text": [
            "Shape of X: (284807, 29)\n",
            "Shape of y: (284807, 1)\n"
          ],
          "name": "stdout"
        }
      ]
    },
    {
      "metadata": {
        "id": "U_F8LRY5zD0T",
        "colab_type": "text"
      },
      "cell_type": "markdown",
      "source": [
        "<center><Bold><font size ='+2'> SPLITTING DATA </Bold></center></font>"
      ]
    },
    {
      "metadata": {
        "id": "mbBnbXuhzD0V",
        "colab_type": "code",
        "outputId": "1ce55f45-40b5-48c7-9769-5d024f1e996c",
        "colab": {
          "base_uri": "https://localhost:8080/",
          "height": 121
        }
      },
      "cell_type": "code",
      "source": [
        "from imblearn.over_sampling import SMOTE\n",
        "\n",
        "from sklearn.model_selection import train_test_split\n",
        "\n",
        "#splitting data to train and test\n",
        "X_train, X_test, y_train, y_test = train_test_split(X, y, test_size=0.3, random_state=0)\n",
        "\n",
        "print(\"Number transactions X_train dataset: \", X_train.shape)\n",
        "print(\"Number transactions y_train dataset: \", y_train.shape)\n",
        "print(\"Number transactions X_test dataset: \", X_test.shape)\n",
        "print(\"Number transactions y_test dataset: \", y_test.shape)\n",
        "\n",
        "print(np.unique(y_train, return_counts=True))\n",
        "np.unique(y_test, return_counts=True)\n",
        "\n",
        "\n",
        "\n"
      ],
      "execution_count": 6,
      "outputs": [
        {
          "output_type": "stream",
          "text": [
            "Number transactions X_train dataset:  (199364, 29)\n",
            "Number transactions y_train dataset:  (199364, 1)\n",
            "Number transactions X_test dataset:  (85443, 29)\n",
            "Number transactions y_test dataset:  (85443, 1)\n",
            "(array([0, 1]), array([199019,    345]))\n"
          ],
          "name": "stdout"
        },
        {
          "output_type": "execute_result",
          "data": {
            "text/plain": [
              "(array([0, 1]), array([85296,   147]))"
            ]
          },
          "metadata": {
            "tags": []
          },
          "execution_count": 6
        }
      ]
    },
    {
      "metadata": {
        "id": "iaPYSRRdzD0a",
        "colab_type": "text"
      },
      "cell_type": "markdown",
      "source": [
        "<center><Bold><font size ='+2'> SVM ON IMBALANCED DATA</Bold></center></font>"
      ]
    },
    {
      "metadata": {
        "id": "RhdSFICL9V8L",
        "colab_type": "code",
        "outputId": "48b99e8b-b02a-46b1-b6ca-8f2b61a1cb62",
        "colab": {
          "base_uri": "https://localhost:8080/",
          "height": 89
        }
      },
      "cell_type": "code",
      "source": [
        "#hyperparameter search\n",
        "lsvm = svm.LinearSVC(C=1.0, dual=False)\n",
        "param_dist = {'C':[0.01,0.1,1,2,3,4,5,7,10,20]}\n",
        "rand = RandomizedSearchCV(lsvm, param_dist, cv=5, scoring='f1', n_iter=20, random_state=5)\n",
        "# fit\n",
        "rand.fit(X_train, y_train.ravel())\n",
        "rand.best_score_\n",
        "rand.best_params_"
      ],
      "execution_count": 31,
      "outputs": [
        {
          "output_type": "stream",
          "text": [
            "/usr/local/lib/python3.6/dist-packages/sklearn/model_selection/_search.py:271: UserWarning: The total space of parameters 10 is smaller than n_iter=20. Running 10 iterations. For exhaustive searches, use GridSearchCV.\n",
            "  % (grid_size, self.n_iter, grid_size), UserWarning)\n"
          ],
          "name": "stderr"
        },
        {
          "output_type": "execute_result",
          "data": {
            "text/plain": [
              "{'C': 1}"
            ]
          },
          "metadata": {
            "tags": []
          },
          "execution_count": 31
        }
      ]
    },
    {
      "metadata": {
        "id": "1RS3bik6zD0c",
        "colab_type": "code",
        "outputId": "5e94f6c1-d1a0-46ff-b280-be190de3d866",
        "colab": {
          "base_uri": "https://localhost:8080/",
          "height": 330
        }
      },
      "cell_type": "code",
      "source": [
        "lsvm = svm.LinearSVC(C=1.0, dual=False)\n",
        "sv=lsvm.fit(X_train, y_train.ravel())\n",
        "y_pred_im_svm = lsvm.predict(X_test)\n",
        "print (sv)\n",
        "accuracy_im_svm=accuracy_score(y_test, y_pred_im_svm)\n",
        "print(accuracy_im_svm)\n",
        "\n",
        "\n",
        "print('Confusion Matrix for SVM on Unbalanced Data')\n",
        "print(confusion_matrix(y_test, y_pred_im_svm))  \n",
        "print ('Accuracy:', accuracy_score(y_test, y_pred_im_svm))\n",
        "print(classification_report(y_test, y_pred_im_svm))\n",
        "\n",
        "# plot_confusion_matrix(y_test, y_pred)"
      ],
      "execution_count": 84,
      "outputs": [
        {
          "output_type": "stream",
          "text": [
            "LinearSVC(C=1.0, class_weight=None, dual=False, fit_intercept=True,\n",
            "     intercept_scaling=1, loss='squared_hinge', max_iter=1000,\n",
            "     multi_class='ovr', penalty='l2', random_state=None, tol=0.0001,\n",
            "     verbose=0)\n",
            "0.99916903666772\n",
            "Confusion Matrix for SVM on Unbalanced Data\n",
            "[[85284    12]\n",
            " [   59    88]]\n",
            "Accuracy: 0.99916903666772\n",
            "              precision    recall  f1-score   support\n",
            "\n",
            "           0       1.00      1.00      1.00     85296\n",
            "           1       0.88      0.60      0.71       147\n",
            "\n",
            "   micro avg       1.00      1.00      1.00     85443\n",
            "   macro avg       0.94      0.80      0.86     85443\n",
            "weighted avg       1.00      1.00      1.00     85443\n",
            "\n"
          ],
          "name": "stdout"
        }
      ]
    },
    {
      "metadata": {
        "id": "W7bwWigEzD0g",
        "colab_type": "text"
      },
      "cell_type": "markdown",
      "source": [
        "<center><Bold><font size ='+2'>APPLYING NAIVE BAYES ALGORITHM ON IMBALANCED DATA</Bold></center></font>"
      ]
    },
    {
      "metadata": {
        "id": "Dth4qKISzD0h",
        "colab_type": "code",
        "outputId": "251fa7e5-07b5-47f8-dafe-b090285a5041",
        "colab": {
          "base_uri": "https://localhost:8080/",
          "height": 278
        }
      },
      "cell_type": "code",
      "source": [
        "classifier = GaussianNB()\n",
        "model=classifier.fit(X_train, y_train.ravel())\n",
        "y_pred_im_nb = model.predict(X_test)\n",
        "accuracy_im_nb=accuracy_score(y_test, y_pred_im_nb)\n",
        "print(accuracy_im_nb)\n",
        "print (model)\n",
        "\n",
        "print('Confusion Matrix for Naive Bayes on Unbalanced Data')\n",
        "print(confusion_matrix(y_test, y_pred_im_nb))  \n",
        "print ('Accuracy:', accuracy_score(y_test, y_pred_im_nb))\n",
        "print(classification_report(y_test, y_pred_im_nb))"
      ],
      "execution_count": 85,
      "outputs": [
        {
          "output_type": "stream",
          "text": [
            "0.9784066570696254\n",
            "GaussianNB(priors=None, var_smoothing=1e-09)\n",
            "Confusion Matrix for Naive Bayes on Unbalanced Data\n",
            "[[83475  1821]\n",
            " [   24   123]]\n",
            "Accuracy: 0.9784066570696254\n",
            "              precision    recall  f1-score   support\n",
            "\n",
            "           0       1.00      0.98      0.99     85296\n",
            "           1       0.06      0.84      0.12       147\n",
            "\n",
            "   micro avg       0.98      0.98      0.98     85443\n",
            "   macro avg       0.53      0.91      0.55     85443\n",
            "weighted avg       1.00      0.98      0.99     85443\n",
            "\n"
          ],
          "name": "stdout"
        }
      ]
    },
    {
      "metadata": {
        "id": "axMygkXCzD0k",
        "colab_type": "text"
      },
      "cell_type": "markdown",
      "source": [
        "<center><Bold><font size ='+2'>APPLYING RANDOM FOREST ON IMBALANCED DATA</Bold></center></font>"
      ]
    },
    {
      "metadata": {
        "id": "_DdmZC_QO-SN",
        "colab_type": "code",
        "colab": {
          "base_uri": "https://localhost:8080/",
          "height": 89
        },
        "outputId": "de8fc52b-c2c1-4b84-c1b8-d1ca20c2b9b1"
      },
      "cell_type": "code",
      "source": [
        "#hyperparameter search\n",
        "rf = RandomForestClassifier(n_estimators=10)\n",
        "param_dist = {'n_estimators':[5,7,10,15,20,25]}\n",
        "rand = RandomizedSearchCV(rf, param_dist, cv=5, scoring='f1', n_iter=10, random_state=5)\n",
        "# fit\n",
        "rand.fit(X_train, y_train.ravel())\n",
        "print(rand.best_score_)\n",
        "print(rand.best_params_)"
      ],
      "execution_count": 35,
      "outputs": [
        {
          "output_type": "stream",
          "text": [
            "/usr/local/lib/python3.6/dist-packages/sklearn/model_selection/_search.py:271: UserWarning: The total space of parameters 6 is smaller than n_iter=10. Running 6 iterations. For exhaustive searches, use GridSearchCV.\n",
            "  % (grid_size, self.n_iter, grid_size), UserWarning)\n"
          ],
          "name": "stderr"
        },
        {
          "output_type": "execute_result",
          "data": {
            "text/plain": [
              "{'n_estimators': 25}"
            ]
          },
          "metadata": {
            "tags": []
          },
          "execution_count": 35
        }
      ]
    },
    {
      "metadata": {
        "id": "YhGBvG1-zD0l",
        "colab_type": "code",
        "outputId": "3d7b673d-9605-4999-c795-dbc133149ea3",
        "colab": {
          "base_uri": "https://localhost:8080/",
          "height": 34
        }
      },
      "cell_type": "code",
      "source": [
        "rf = RandomForestClassifier(n_estimators=25, n_jobs=4)\n",
        "rfmod=rf.fit(X_train, y_train.ravel())\n",
        "y_pred_im_rf = rf.predict(X_test)\n",
        "accuracy_im_rf=accuracy_score(y_test, y_pred_im_rf)\n",
        "print(accuracy_im_rf)\n",
        "\n",
        "# plot_confusion_matrix(y_test, y_pred)"
      ],
      "execution_count": 86,
      "outputs": [
        {
          "output_type": "stream",
          "text": [
            "0.9995084442259752\n"
          ],
          "name": "stdout"
        }
      ]
    },
    {
      "metadata": {
        "id": "vqGs4TIszD0u",
        "colab_type": "code",
        "outputId": "19c91cc2-6df1-4c95-a7d1-529c091d84b0",
        "colab": {
          "base_uri": "https://localhost:8080/",
          "height": 243
        }
      },
      "cell_type": "code",
      "source": [
        "print('Confusion Matrix for Random Forest on Imbalanced Data')\n",
        "print(confusion_matrix(y_test, y_pred_im_rf))  \n",
        "print ('Accuracy:', accuracy_score(y_test, y_pred_im_rf))\n",
        "print(classification_report(y_test, y_pred_im_rf))"
      ],
      "execution_count": 87,
      "outputs": [
        {
          "output_type": "stream",
          "text": [
            "Confusion Matrix for Random Forest on Imbalanced Data\n",
            "[[85290     6]\n",
            " [   36   111]]\n",
            "Accuracy: 0.9995084442259752\n",
            "              precision    recall  f1-score   support\n",
            "\n",
            "           0       1.00      1.00      1.00     85296\n",
            "           1       0.95      0.76      0.84       147\n",
            "\n",
            "   micro avg       1.00      1.00      1.00     85443\n",
            "   macro avg       0.97      0.88      0.92     85443\n",
            "weighted avg       1.00      1.00      1.00     85443\n",
            "\n"
          ],
          "name": "stdout"
        }
      ]
    },
    {
      "metadata": {
        "id": "WLk54JchzD00",
        "colab_type": "text"
      },
      "cell_type": "markdown",
      "source": [
        "<center><Bold><font size ='+2'>APPLYING DECISION TREE TO IMBALANCED DATA</Bold></center></font>"
      ]
    },
    {
      "metadata": {
        "id": "XReBGa2UzD01",
        "colab_type": "code",
        "outputId": "a74b38a6-1006-4b18-ab5e-c175840c109a",
        "colab": {
          "base_uri": "https://localhost:8080/",
          "height": 139
        }
      },
      "cell_type": "code",
      "source": [
        "decisionTreeClf = tree.DecisionTreeClassifier()\n",
        "decisionTreeClf = decisionTreeClf.fit(X_train, y_train.ravel())\n",
        "y_pred_im_dt = rf.predict(X_test)\n",
        "accuracy_im_dt=accuracy_score(y_test, y_pred_im_dt)\n",
        "print(accuracy_im_dt)\n",
        "decisionTreeClf"
      ],
      "execution_count": 88,
      "outputs": [
        {
          "output_type": "stream",
          "text": [
            "0.9995084442259752\n"
          ],
          "name": "stdout"
        },
        {
          "output_type": "execute_result",
          "data": {
            "text/plain": [
              "DecisionTreeClassifier(class_weight=None, criterion='gini', max_depth=None,\n",
              "            max_features=None, max_leaf_nodes=None,\n",
              "            min_impurity_decrease=0.0, min_impurity_split=None,\n",
              "            min_samples_leaf=1, min_samples_split=2,\n",
              "            min_weight_fraction_leaf=0.0, presort=False, random_state=None,\n",
              "            splitter='best')"
            ]
          },
          "metadata": {
            "tags": []
          },
          "execution_count": 88
        }
      ]
    },
    {
      "metadata": {
        "id": "xZC2ETwBzD03",
        "colab_type": "code",
        "outputId": "410ebd5d-c141-447b-9301-734148269365",
        "colab": {
          "base_uri": "https://localhost:8080/",
          "height": 243
        }
      },
      "cell_type": "code",
      "source": [
        "print('Confusion Matrix for Decision Tree on Imbalanced Data')\n",
        "print(confusion_matrix(y_test, y_pred_im_dt))  \n",
        "print ('Accuracy:', accuracy_score(y_test, y_pred_im_dt))\n",
        "print(classification_report(y_test, y_pred_im_dt))"
      ],
      "execution_count": 89,
      "outputs": [
        {
          "output_type": "stream",
          "text": [
            "Confusion Matrix for Decision Tree on Imbalanced Data\n",
            "[[85290     6]\n",
            " [   36   111]]\n",
            "Accuracy: 0.9995084442259752\n",
            "              precision    recall  f1-score   support\n",
            "\n",
            "           0       1.00      1.00      1.00     85296\n",
            "           1       0.95      0.76      0.84       147\n",
            "\n",
            "   micro avg       1.00      1.00      1.00     85443\n",
            "   macro avg       0.97      0.88      0.92     85443\n",
            "weighted avg       1.00      1.00      1.00     85443\n",
            "\n"
          ],
          "name": "stdout"
        }
      ]
    },
    {
      "metadata": {
        "id": "58oopci9zD09",
        "colab_type": "text"
      },
      "cell_type": "markdown",
      "source": [
        "<center><Bold><font size ='+2'>APPLYING NEURAL NETWORKS (MLP) TO IMBALANCED DATA</Bold></center></font>"
      ]
    },
    {
      "metadata": {
        "id": "a9FpCybQSg4d",
        "colab_type": "code",
        "colab": {
          "base_uri": "https://localhost:8080/",
          "height": 176
        },
        "outputId": "453cd502-7590-46f9-97b6-e9ff773c0cde"
      },
      "cell_type": "code",
      "source": [
        "#hyperparameter search\n",
        "mlp = MLPClassifier(solver='lbfgs',hidden_layer_sizes=(8,7))  \n",
        "param_dist = {'hidden_layer_sizes':[(5,5),(8,8),(10,10),(15,15),(20,20)], 'solver'\n",
        "              :['lbfgs','sgd', 'adam'],'activation' : ['identity', \n",
        "               'logistic', 'tanh', 'relu'],'alpha': [0.0001, 0.05]}\n",
        "rand = RandomizedSearchCV(mlp, param_dist, cv=5, scoring='accuracy', n_iter=5, random_state=5)\n",
        "# fit\n",
        "rand.fit(X_train, y_train.ravel())\n",
        "print(rand.best_score_)\n",
        "print(rand.best_params_)"
      ],
      "execution_count": 10,
      "outputs": [
        {
          "output_type": "stream",
          "text": [
            "/usr/local/lib/python3.6/dist-packages/sklearn/neural_network/multilayer_perceptron.py:562: ConvergenceWarning: Stochastic Optimizer: Maximum iterations (200) reached and the optimization hasn't converged yet.\n",
            "  % self.max_iter, ConvergenceWarning)\n",
            "/usr/local/lib/python3.6/dist-packages/sklearn/preprocessing/label.py:743: RuntimeWarning: invalid value encountered in greater\n",
            "  y = np.array(y > threshold, dtype=np.int)\n",
            "/usr/local/lib/python3.6/dist-packages/sklearn/preprocessing/label.py:743: RuntimeWarning: invalid value encountered in greater\n",
            "  y = np.array(y > threshold, dtype=np.int)\n"
          ],
          "name": "stderr"
        },
        {
          "output_type": "stream",
          "text": [
            "0.999347926405971\n",
            "{'solver': 'adam', 'hidden_layer_sizes': (15, 15), 'alpha': 0.0001, 'activation': 'tanh'}\n"
          ],
          "name": "stdout"
        }
      ]
    },
    {
      "metadata": {
        "id": "OhJSjLhnzD09",
        "colab_type": "code",
        "outputId": "72836176-a00e-47b9-eb35-a7f41fecd91e",
        "colab": {
          "base_uri": "https://localhost:8080/",
          "height": 156
        }
      },
      "cell_type": "code",
      "source": [
        "mlp = MLPClassifier(solver='adam',hidden_layer_sizes=(15,15), alpha= 0.0001, activation= 'tanh')  \n",
        "mlp.fit(X_train, y_train.ravel())  \n",
        "y_pred_im_mlp = mlp.predict(X_test)\n",
        "accuracy_im_mlp= accuracy_score(y_test, y_pred_im_mlp)\n",
        "print ('Accuracy of MLP:', accuracy_im_mlp)\n",
        "mlp"
      ],
      "execution_count": 11,
      "outputs": [
        {
          "output_type": "stream",
          "text": [
            "Accuracy of MLP: 0.9993094811745842\n"
          ],
          "name": "stdout"
        },
        {
          "output_type": "execute_result",
          "data": {
            "text/plain": [
              "MLPClassifier(activation='tanh', alpha=0.0001, batch_size='auto', beta_1=0.9,\n",
              "       beta_2=0.999, early_stopping=False, epsilon=1e-08,\n",
              "       hidden_layer_sizes=(15, 15), learning_rate='constant',\n",
              "       learning_rate_init=0.001, max_iter=200, momentum=0.9,\n",
              "       n_iter_no_change=10, nesterovs_momentum=True, power_t=0.5,\n",
              "       random_state=None, shuffle=True, solver='adam', tol=0.0001,\n",
              "       validation_fraction=0.1, verbose=False, warm_start=False)"
            ]
          },
          "metadata": {
            "tags": []
          },
          "execution_count": 11
        }
      ]
    },
    {
      "metadata": {
        "id": "moWjjJZmzD1G",
        "colab_type": "code",
        "outputId": "9aa57c0c-8cbd-4ede-ba28-36b77da921b1",
        "colab": {
          "base_uri": "https://localhost:8080/",
          "height": 243
        }
      },
      "cell_type": "code",
      "source": [
        "print('Confusion Matrix for Neural Networks on Imbalanced Data')\n",
        "print(confusion_matrix(y_test, y_pred_im_mlp))  \n",
        "print ('Accuracy:', accuracy_score(y_test, y_pred_im_mlp))\n",
        "print(classification_report(y_test, y_pred_im_mlp))"
      ],
      "execution_count": 12,
      "outputs": [
        {
          "output_type": "stream",
          "text": [
            "Confusion Matrix for Neural Networks on Imbalanced Data\n",
            "[[85283    13]\n",
            " [   46   101]]\n",
            "Accuracy: 0.9993094811745842\n",
            "              precision    recall  f1-score   support\n",
            "\n",
            "           0       1.00      1.00      1.00     85296\n",
            "           1       0.89      0.69      0.77       147\n",
            "\n",
            "   micro avg       1.00      1.00      1.00     85443\n",
            "   macro avg       0.94      0.84      0.89     85443\n",
            "weighted avg       1.00      1.00      1.00     85443\n",
            "\n"
          ],
          "name": "stdout"
        }
      ]
    },
    {
      "metadata": {
        "id": "pDP1nN4_zD1Q",
        "colab_type": "text"
      },
      "cell_type": "markdown",
      "source": [
        "<center><Bold><font size ='+2'>APPLYING LOGISTIC REGRESSION TO IMBALANCED DATASET</Bold></center></font>"
      ]
    },
    {
      "metadata": {
        "id": "SLrzrfEmzD1R",
        "colab_type": "code",
        "outputId": "9be38c3e-734b-43cf-a5b9-c2a77029edce",
        "colab": {
          "base_uri": "https://localhost:8080/",
          "height": 419
        }
      },
      "cell_type": "code",
      "source": [
        "clf = LogisticRegression(random_state=0, solver='lbfgs', multi_class='ovr').fit(X_train, y_train)\n",
        "y_pred_im_lr = clf.predict(X_test)\n",
        "accuracy_im_lr = accuracy_score(y_test, y_pred_im_lr)\n",
        "print ('Accuracy of LR:', accuracy_im_lr)\n",
        "print(clf)\n",
        "\n",
        "print('Confusion Matrix for Linear Regression on Imbalanced Data')\n",
        "print(confusion_matrix(y_test, y_pred_im_lr))  \n",
        "print ('Accuracy:', accuracy_score(y_test, y_pred_im_lr))\n",
        "print(classification_report(y_test, y_pred_im_lr))"
      ],
      "execution_count": 13,
      "outputs": [
        {
          "output_type": "stream",
          "text": [
            "/usr/local/lib/python3.6/dist-packages/sklearn/utils/validation.py:761: DataConversionWarning: A column-vector y was passed when a 1d array was expected. Please change the shape of y to (n_samples, ), for example using ravel().\n",
            "  y = column_or_1d(y, warn=True)\n"
          ],
          "name": "stderr"
        },
        {
          "output_type": "stream",
          "text": [
            "Accuracy of LR: 0.9991456292499094\n",
            "LogisticRegression(C=1.0, class_weight=None, dual=False, fit_intercept=True,\n",
            "          intercept_scaling=1, max_iter=100, multi_class='ovr',\n",
            "          n_jobs=None, penalty='l2', random_state=0, solver='lbfgs',\n",
            "          tol=0.0001, verbose=0, warm_start=False)\n",
            "Confusion Matrix for Linear Regression on Imbalanced Data\n",
            "[[85279    17]\n",
            " [   56    91]]\n",
            "Accuracy: 0.9991456292499094\n",
            "              precision    recall  f1-score   support\n",
            "\n",
            "           0       1.00      1.00      1.00     85296\n",
            "           1       0.84      0.62      0.71       147\n",
            "\n",
            "   micro avg       1.00      1.00      1.00     85443\n",
            "   macro avg       0.92      0.81      0.86     85443\n",
            "weighted avg       1.00      1.00      1.00     85443\n",
            "\n"
          ],
          "name": "stdout"
        },
        {
          "output_type": "stream",
          "text": [
            "/usr/local/lib/python3.6/dist-packages/sklearn/linear_model/logistic.py:758: ConvergenceWarning: lbfgs failed to converge. Increase the number of iterations.\n",
            "  \"of iterations.\", ConvergenceWarning)\n"
          ],
          "name": "stderr"
        }
      ]
    },
    {
      "metadata": {
        "id": "MGjIVRs3zD1U",
        "colab_type": "text"
      },
      "cell_type": "markdown",
      "source": [
        "<center><Bold><font size ='+2'>APPLYING SMOTE TO GET 3 OVERSAMPLED DATASETS</Bold></center></font>"
      ]
    },
    {
      "metadata": {
        "id": "JgSyzSU4zD1V",
        "colab_type": "code",
        "outputId": "ff4d1faa-70d9-4b2e-86bc-33555dc5c92a",
        "colab": {
          "base_uri": "https://localhost:8080/",
          "height": 156
        }
      },
      "cell_type": "code",
      "source": [
        "# Applying SMOTE\n",
        "print(\"Before OverSampling, counts of label '1': {}\".format(sum(y_train==1)))\n",
        "print(\"Before OverSampling, counts of label '0': {} \\n\".format(sum(y_train==0)))\n",
        "\n",
        "sm = SMOTE(sampling_strategy=0.20,random_state=5,  k_neighbors=50, out_step=10)\n",
        "X_train_smote1, y_train_smote1 = sm.fit_sample(X_train, y_train.ravel())\n",
        "\n",
        "print('After OverSampling, the shape of train_X: {}'.format(X_train_smote1.shape))\n",
        "print('After OverSampling, the shape of train_y: {} \\n'.format(y_train_smote1.shape))\n",
        "\n",
        "print(\"After OverSampling, counts of label '1': {}\".format(sum(y_train_smote1==1)))\n",
        "print(\"After OverSampling, counts of label '0': {}\".format(sum(y_train_smote1==0)))                                                                   "
      ],
      "execution_count": 14,
      "outputs": [
        {
          "output_type": "stream",
          "text": [
            "Before OverSampling, counts of label '1': [345]\n",
            "Before OverSampling, counts of label '0': [199019] \n",
            "\n",
            "After OverSampling, the shape of train_X: (238822, 29)\n",
            "After OverSampling, the shape of train_y: (238822,) \n",
            "\n",
            "After OverSampling, counts of label '1': 39803\n",
            "After OverSampling, counts of label '0': 199019\n"
          ],
          "name": "stdout"
        }
      ]
    },
    {
      "metadata": {
        "id": "r3pCKRP-zD1c",
        "colab_type": "code",
        "outputId": "28c43d56-28f6-4e3a-d3b6-e2cc3571f7ec",
        "colab": {
          "base_uri": "https://localhost:8080/",
          "height": 156
        }
      },
      "cell_type": "code",
      "source": [
        "print(\"Before OverSampling, counts of label '1': {}\".format(sum(y_train==1)))\n",
        "print(\"Before OverSampling, counts of label '0': {} \\n\".format(sum(y_train==0)))\n",
        "\n",
        "sm = SMOTE(sampling_strategy=0.30, random_state=100,  k_neighbors=13, out_step=50)\n",
        "X_train_smote2, y_train_smote2 = sm.fit_sample(X_train, y_train.ravel())\n",
        "\n",
        "print('After OverSampling, the shape of train_X: {}'.format(X_train_smote2.shape))\n",
        "print('After OverSampling, the shape of train_y: {} \\n'.format(y_train_smote2.shape))\n",
        "\n",
        "print(\"After OverSampling, counts of label '1': {}\".format(sum(y_train_smote2==1)))\n",
        "print(\"After OverSampling, counts of label '0': {}\".format(sum(y_train_smote2==0)))"
      ],
      "execution_count": 15,
      "outputs": [
        {
          "output_type": "stream",
          "text": [
            "Before OverSampling, counts of label '1': [345]\n",
            "Before OverSampling, counts of label '0': [199019] \n",
            "\n",
            "After OverSampling, the shape of train_X: (258724, 29)\n",
            "After OverSampling, the shape of train_y: (258724,) \n",
            "\n",
            "After OverSampling, counts of label '1': 59705\n",
            "After OverSampling, counts of label '0': 199019\n"
          ],
          "name": "stdout"
        }
      ]
    },
    {
      "metadata": {
        "id": "yHq27cglzD1j",
        "colab_type": "code",
        "outputId": "73956e04-3e16-4cc2-be9d-bde5c51191e4",
        "colab": {
          "base_uri": "https://localhost:8080/",
          "height": 156
        }
      },
      "cell_type": "code",
      "source": [
        "print(\"Before OverSampling, counts of label '1': {}\".format(sum(y_train==1)))\n",
        "print(\"Before OverSampling, counts of label '0': {} \\n\".format(sum(y_train==0)))\n",
        "\n",
        "sm = SMOTE(sampling_strategy=0.50, random_state=100,  k_neighbors=13, out_step=30)\n",
        "X_train_smote3, y_train_smote3 = sm.fit_sample(X_train, y_train.ravel())\n",
        "\n",
        "print('After OverSampling, the shape of train_X: {}'.format(X_train_smote3.shape))\n",
        "print('After OverSampling, the shape of train_y: {} \\n'.format(y_train_smote3.shape))\n",
        "\n",
        "print(\"After OverSampling, counts of label '1': {}\".format(sum(y_train_smote3==1)))\n",
        "print(\"After OverSampling, counts of label '0': {}\".format(sum(y_train_smote3==0)))"
      ],
      "execution_count": 16,
      "outputs": [
        {
          "output_type": "stream",
          "text": [
            "Before OverSampling, counts of label '1': [345]\n",
            "Before OverSampling, counts of label '0': [199019] \n",
            "\n",
            "After OverSampling, the shape of train_X: (298528, 29)\n",
            "After OverSampling, the shape of train_y: (298528,) \n",
            "\n",
            "After OverSampling, counts of label '1': 99509\n",
            "After OverSampling, counts of label '0': 199019\n"
          ],
          "name": "stdout"
        }
      ]
    },
    {
      "metadata": {
        "id": "1BXYD-qRzD1m",
        "colab_type": "text"
      },
      "cell_type": "markdown",
      "source": [
        "<center><Bold><font size ='+2'>APPLY SVM AFTER SMOTE</Bold></center></font>"
      ]
    },
    {
      "metadata": {
        "id": "D5zHV7hhzD1m",
        "colab_type": "code",
        "outputId": "78eec047-ad98-4530-85bd-56bbeec2249a",
        "colab": {
          "base_uri": "https://localhost:8080/",
          "height": 330
        }
      },
      "cell_type": "code",
      "source": [
        "lsvm = svm.LinearSVC(C=1.0, dual=False)\n",
        "sv=lsvm.fit(X_train_smote1, y_train_smote1.ravel())\n",
        "y_pred_s1_svm = lsvm.predict(X_test)\n",
        "accuracy_s1_svm=accuracy_score(y_test, y_pred_s1_svm)\n",
        "print(accuracy_s1_svm)\n",
        "print (sv)\n",
        "\n",
        "print('Confusion Matrix for SVM on SMOTE1 Dataset')\n",
        "print(confusion_matrix(y_test, y_pred_s1_svm))  \n",
        "print ('Accuracy:', accuracy_score(y_test, y_pred_s1_svm))\n",
        "print(classification_report(y_test, y_pred_s1_svm))\n",
        "# plot_confusion_matrix(y_test, y_pred)"
      ],
      "execution_count": 17,
      "outputs": [
        {
          "output_type": "stream",
          "text": [
            "0.9980688880306169\n",
            "LinearSVC(C=1.0, class_weight=None, dual=False, fit_intercept=True,\n",
            "     intercept_scaling=1, loss='squared_hinge', max_iter=1000,\n",
            "     multi_class='ovr', penalty='l2', random_state=None, tol=0.0001,\n",
            "     verbose=0)\n",
            "Confusion Matrix for SVM on SMOTE1 Dataset\n",
            "[[85154   142]\n",
            " [   23   124]]\n",
            "Accuracy: 0.9980688880306169\n",
            "              precision    recall  f1-score   support\n",
            "\n",
            "           0       1.00      1.00      1.00     85296\n",
            "           1       0.47      0.84      0.60       147\n",
            "\n",
            "   micro avg       1.00      1.00      1.00     85443\n",
            "   macro avg       0.73      0.92      0.80     85443\n",
            "weighted avg       1.00      1.00      1.00     85443\n",
            "\n"
          ],
          "name": "stdout"
        }
      ]
    },
    {
      "metadata": {
        "id": "pgjL5CrJzD1q",
        "colab_type": "code",
        "outputId": "b368f333-e105-44c9-a0af-ba042e12ec4f",
        "colab": {
          "base_uri": "https://localhost:8080/",
          "height": 330
        }
      },
      "cell_type": "code",
      "source": [
        "lsvm = svm.LinearSVC(C=1.0, dual=False)\n",
        "sv=lsvm.fit(X_train_smote2, y_train_smote2.ravel())\n",
        "y_pred_s2_svm = lsvm.predict(X_test)\n",
        "accuracy_s2_svm=accuracy_score(y_test, y_pred_s2_svm)\n",
        "print(accuracy_s2_svm)\n",
        "print (sv)\n",
        "\n",
        "print('Confusion Matrix for SVM on SMOTE 2 Dataset')\n",
        "print(confusion_matrix(y_test, y_pred_s2_svm))  \n",
        "print ('Accuracy:', accuracy_score(y_test, y_pred_s2_svm))\n",
        "print(classification_report(y_test, y_pred_s2_svm))\n",
        "# plot_confusion_matrix(y_test, y_pred)"
      ],
      "execution_count": 18,
      "outputs": [
        {
          "output_type": "stream",
          "text": [
            "0.9949908125885093\n",
            "LinearSVC(C=1.0, class_weight=None, dual=False, fit_intercept=True,\n",
            "     intercept_scaling=1, loss='squared_hinge', max_iter=1000,\n",
            "     multi_class='ovr', penalty='l2', random_state=None, tol=0.0001,\n",
            "     verbose=0)\n",
            "Confusion Matrix for SVM on SMOTE 2 Dataset\n",
            "[[84887   409]\n",
            " [   19   128]]\n",
            "Accuracy: 0.9949908125885093\n",
            "              precision    recall  f1-score   support\n",
            "\n",
            "           0       1.00      1.00      1.00     85296\n",
            "           1       0.24      0.87      0.37       147\n",
            "\n",
            "   micro avg       0.99      0.99      0.99     85443\n",
            "   macro avg       0.62      0.93      0.69     85443\n",
            "weighted avg       1.00      0.99      1.00     85443\n",
            "\n"
          ],
          "name": "stdout"
        }
      ]
    },
    {
      "metadata": {
        "id": "1oFgeXIJzD1u",
        "colab_type": "code",
        "outputId": "16aad291-1ede-4d6b-8361-8bd8134b120e",
        "colab": {
          "base_uri": "https://localhost:8080/",
          "height": 347
        }
      },
      "cell_type": "code",
      "source": [
        "lsvm = svm.LinearSVC(C=1.0, dual=False)\n",
        "sv=lsvm.fit(X_train_smote3, y_train_smote3.ravel())\n",
        "y_pred_s3_svm = lsvm.predict(X_test)\n",
        "accuracy_s3_svm=accuracy_score(y_test, y_pred_s3_svm)\n",
        "print(accuracy_s3_svm)\n",
        "print (sv)\n",
        "\n",
        "print('Confusion Matrix for SVM on SMOTE 3 Dataset')\n",
        "print(confusion_matrix(y_test, y_pred_s3_svm))  \n",
        "print ('Accuracy:', accuracy_score(y_test, y_pred_s3_svm))\n",
        "print(classification_report(y_test, y_pred_s3_svm))\n",
        "# plot_confusion_matrix(y_test, y_pred)\n",
        "cohen_kappa_score(y_test, y_pred_s3_svm)"
      ],
      "execution_count": 19,
      "outputs": [
        {
          "output_type": "stream",
          "text": [
            "0.9928373301499245\n",
            "LinearSVC(C=1.0, class_weight=None, dual=False, fit_intercept=True,\n",
            "     intercept_scaling=1, loss='squared_hinge', max_iter=1000,\n",
            "     multi_class='ovr', penalty='l2', random_state=None, tol=0.0001,\n",
            "     verbose=0)\n",
            "Confusion Matrix for SVM on SMOTE 3 Dataset\n",
            "[[84703   593]\n",
            " [   19   128]]\n",
            "Accuracy: 0.9928373301499245\n",
            "              precision    recall  f1-score   support\n",
            "\n",
            "           0       1.00      0.99      1.00     85296\n",
            "           1       0.18      0.87      0.29       147\n",
            "\n",
            "   micro avg       0.99      0.99      0.99     85443\n",
            "   macro avg       0.59      0.93      0.65     85443\n",
            "weighted avg       1.00      0.99      1.00     85443\n",
            "\n"
          ],
          "name": "stdout"
        },
        {
          "output_type": "execute_result",
          "data": {
            "text/plain": [
              "0.29290989965863246"
            ]
          },
          "metadata": {
            "tags": []
          },
          "execution_count": 19
        }
      ]
    },
    {
      "metadata": {
        "id": "0ZtqcoJFzD1x",
        "colab_type": "text"
      },
      "cell_type": "markdown",
      "source": [
        "<center><Bold><font size ='+2'>APPLY NAIVE BAYES AFTER SMOTE TO 3 DATASETS</Bold></center></font>"
      ]
    },
    {
      "metadata": {
        "id": "wNchBpiuzD1y",
        "colab_type": "code",
        "outputId": "5c1627c0-c6b8-462a-fef1-99e0b3fe8e38",
        "colab": {
          "base_uri": "https://localhost:8080/",
          "height": 52
        }
      },
      "cell_type": "code",
      "source": [
        "classifier = GaussianNB()\n",
        "model=classifier.fit(X_train_smote1, y_train_smote1.ravel())\n",
        "y_pred_s1_nb = model.predict(X_test)\n",
        "accuracy_s1_nb=accuracy_score(y_test, y_pred_s1_nb)\n",
        "print(accuracy_s1_nb)\n",
        "model"
      ],
      "execution_count": 20,
      "outputs": [
        {
          "output_type": "stream",
          "text": [
            "0.9781491754737076\n"
          ],
          "name": "stdout"
        },
        {
          "output_type": "execute_result",
          "data": {
            "text/plain": [
              "GaussianNB(priors=None, var_smoothing=1e-09)"
            ]
          },
          "metadata": {
            "tags": []
          },
          "execution_count": 20
        }
      ]
    },
    {
      "metadata": {
        "id": "KruIxJn5zD10",
        "colab_type": "code",
        "outputId": "ca3c28b6-adcf-4de0-f08a-5fd150e0c920",
        "colab": {
          "base_uri": "https://localhost:8080/",
          "height": 260
        }
      },
      "cell_type": "code",
      "source": [
        "print('Confusion Matrix for Naive Bayes on SMOTE 1 Dataset')\n",
        "print(confusion_matrix(y_test, y_pred_s1_nb))  \n",
        "print ('Accuracy:', accuracy_score(y_test, y_pred_s1_nb))\n",
        "print(classification_report(y_test, y_pred_s1_nb))\n",
        "cohen_kappa_score(y_test, y_pred_s1_nb)"
      ],
      "execution_count": 21,
      "outputs": [
        {
          "output_type": "stream",
          "text": [
            "Confusion Matrix for Naive Bayes on SMOTE 1 Dataset\n",
            "[[83450  1846]\n",
            " [   21   126]]\n",
            "Accuracy: 0.9781491754737076\n",
            "              precision    recall  f1-score   support\n",
            "\n",
            "           0       1.00      0.98      0.99     85296\n",
            "           1       0.06      0.86      0.12       147\n",
            "\n",
            "   micro avg       0.98      0.98      0.98     85443\n",
            "   macro avg       0.53      0.92      0.55     85443\n",
            "weighted avg       1.00      0.98      0.99     85443\n",
            "\n"
          ],
          "name": "stdout"
        },
        {
          "output_type": "execute_result",
          "data": {
            "text/plain": [
              "0.11609358644886747"
            ]
          },
          "metadata": {
            "tags": []
          },
          "execution_count": 21
        }
      ]
    },
    {
      "metadata": {
        "id": "pDvLPI0ozD12",
        "colab_type": "code",
        "outputId": "161374c3-d4bc-4d76-d152-2df8e72daa94",
        "colab": {
          "base_uri": "https://localhost:8080/",
          "height": 52
        }
      },
      "cell_type": "code",
      "source": [
        "classifier = GaussianNB()\n",
        "model=classifier.fit(X_train_smote2, y_train_smote2.ravel())\n",
        "y_pred_s2_nb = model.predict(X_test)\n",
        "accuracy_s2_nb=accuracy_score(y_test, y_pred_s2_nb)\n",
        "print(accuracy_s2_nb)\n",
        "model"
      ],
      "execution_count": 22,
      "outputs": [
        {
          "output_type": "stream",
          "text": [
            "0.9761829523776084\n"
          ],
          "name": "stdout"
        },
        {
          "output_type": "execute_result",
          "data": {
            "text/plain": [
              "GaussianNB(priors=None, var_smoothing=1e-09)"
            ]
          },
          "metadata": {
            "tags": []
          },
          "execution_count": 22
        }
      ]
    },
    {
      "metadata": {
        "id": "D4F1bNKNzD16",
        "colab_type": "code",
        "outputId": "26e3c244-721f-4fef-ff8f-c5dfbe0e0146",
        "colab": {}
      },
      "cell_type": "code",
      "source": [
        "print('Confusion Matrix for Naive Bayes on SMOTE 2 Dataset')\n",
        "print(confusion_matrix(y_test, y_pred_s2_nb))  \n",
        "print ('Accuracy:', accuracy_score(y_test, y_pred_s2_nb))\n",
        "print(classification_report(y_test, y_pred_s2_nb))"
      ],
      "execution_count": 0,
      "outputs": [
        {
          "output_type": "stream",
          "text": [
            "Confusion Matrix for Naive Bayes on SMOTE 2 Dataset\n",
            "[[83780  1516]\n",
            " [   20   127]]\n",
            "Accuracy: 0.9820231031213792\n",
            "              precision    recall  f1-score   support\n",
            "\n",
            "           0       1.00      0.98      0.99     85296\n",
            "           1       0.08      0.86      0.14       147\n",
            "\n",
            "   micro avg       0.98      0.98      0.98     85443\n",
            "   macro avg       0.54      0.92      0.57     85443\n",
            "weighted avg       1.00      0.98      0.99     85443\n",
            "\n"
          ],
          "name": "stdout"
        }
      ]
    },
    {
      "metadata": {
        "id": "vJPr830yzD19",
        "colab_type": "code",
        "outputId": "b3122206-d75d-400c-b2d6-27bbe63b2352",
        "colab": {
          "base_uri": "https://localhost:8080/",
          "height": 52
        }
      },
      "cell_type": "code",
      "source": [
        "classifier = GaussianNB()\n",
        "model=classifier.fit(X_train_smote3, y_train_smote3.ravel())\n",
        "y_pred_s3_nb = model.predict(X_test)\n",
        "accuracy_s3_nb=accuracy_score(y_test, y_pred_s3_nb)\n",
        "print(accuracy_s3_nb)\n",
        "model"
      ],
      "execution_count": 23,
      "outputs": [
        {
          "output_type": "stream",
          "text": [
            "0.9757967299837318\n"
          ],
          "name": "stdout"
        },
        {
          "output_type": "execute_result",
          "data": {
            "text/plain": [
              "GaussianNB(priors=None, var_smoothing=1e-09)"
            ]
          },
          "metadata": {
            "tags": []
          },
          "execution_count": 23
        }
      ]
    },
    {
      "metadata": {
        "id": "Z6wJAGRxzD2A",
        "colab_type": "code",
        "outputId": "acbb0565-8a2f-474f-cd1f-c4d824460c7d",
        "colab": {}
      },
      "cell_type": "code",
      "source": [
        "print('Confusion Matrix for Naive Bayes on SMOTE 3 Dataset')\n",
        "print(confusion_matrix(y_test, y_pred_s3_nb))  \n",
        "print ('Accuracy:', accuracy_score(y_test, y_pred_s3_nb))\n",
        "print(classification_report(y_test, y_pred_s3_nb))"
      ],
      "execution_count": 0,
      "outputs": [
        {
          "output_type": "stream",
          "text": [
            "Confusion Matrix for Naive Bayes on SMOTE 3 Dataset\n",
            "[[83747  1549]\n",
            " [   20   127]]\n",
            "Accuracy: 0.9816368807275025\n",
            "              precision    recall  f1-score   support\n",
            "\n",
            "           0       1.00      0.98      0.99     85296\n",
            "           1       0.08      0.86      0.14       147\n",
            "\n",
            "   micro avg       0.98      0.98      0.98     85443\n",
            "   macro avg       0.54      0.92      0.57     85443\n",
            "weighted avg       1.00      0.98      0.99     85443\n",
            "\n"
          ],
          "name": "stdout"
        }
      ]
    },
    {
      "metadata": {
        "id": "bedhN6FdzD2C",
        "colab_type": "text"
      },
      "cell_type": "markdown",
      "source": [
        "<center><Bold><font size ='+2'>APPLYING RANDOM FOREST TO SMOTE 3 DATASETS</Bold></center></font>"
      ]
    },
    {
      "metadata": {
        "id": "M71f_CSTzD2C",
        "colab_type": "code",
        "outputId": "b9925ddd-2b8a-4271-84f1-d8d9c80e682c",
        "colab": {
          "base_uri": "https://localhost:8080/",
          "height": 156
        }
      },
      "cell_type": "code",
      "source": [
        "rf = RandomForestClassifier(n_estimators=25)\n",
        "rfmod=rf.fit(X_train_smote1, y_train_smote1.ravel())\n",
        "y_pred_s1_rf = rf.predict(X_test)\n",
        "accuracy_s1_rf=accuracy_score(y_test, y_pred_s1_rf)\n",
        "print(accuracy_s1_rf)\n",
        "rfmod\n",
        "# plot_confusion_matrix(y_test, y_pred)"
      ],
      "execution_count": 25,
      "outputs": [
        {
          "output_type": "stream",
          "text": [
            "0.9994382219725431\n"
          ],
          "name": "stdout"
        },
        {
          "output_type": "execute_result",
          "data": {
            "text/plain": [
              "RandomForestClassifier(bootstrap=True, class_weight=None, criterion='gini',\n",
              "            max_depth=None, max_features='auto', max_leaf_nodes=None,\n",
              "            min_impurity_decrease=0.0, min_impurity_split=None,\n",
              "            min_samples_leaf=1, min_samples_split=2,\n",
              "            min_weight_fraction_leaf=0.0, n_estimators=25, n_jobs=None,\n",
              "            oob_score=False, random_state=None, verbose=0,\n",
              "            warm_start=False)"
            ]
          },
          "metadata": {
            "tags": []
          },
          "execution_count": 25
        }
      ]
    },
    {
      "metadata": {
        "id": "zj10rDnszD2H",
        "colab_type": "code",
        "outputId": "e91bf13a-d939-453b-d375-e340651aa9aa",
        "colab": {
          "base_uri": "https://localhost:8080/",
          "height": 243
        }
      },
      "cell_type": "code",
      "source": [
        "print('Confusion Matrix for Random Forest on SMOTE 1 Dataset')\n",
        "print(confusion_matrix(y_test, y_pred_s1_rf))  \n",
        "print ('Accuracy:', accuracy_score(y_test, y_pred_s1_rf))\n",
        "print(classification_report(y_test, y_pred_s1_rf))"
      ],
      "execution_count": 26,
      "outputs": [
        {
          "output_type": "stream",
          "text": [
            "Confusion Matrix for Random Forest on SMOTE 1 Dataset\n",
            "[[85271    25]\n",
            " [   23   124]]\n",
            "Accuracy: 0.9994382219725431\n",
            "              precision    recall  f1-score   support\n",
            "\n",
            "           0       1.00      1.00      1.00     85296\n",
            "           1       0.83      0.84      0.84       147\n",
            "\n",
            "   micro avg       1.00      1.00      1.00     85443\n",
            "   macro avg       0.92      0.92      0.92     85443\n",
            "weighted avg       1.00      1.00      1.00     85443\n",
            "\n"
          ],
          "name": "stdout"
        }
      ]
    },
    {
      "metadata": {
        "id": "4O3Nq6s0zD2J",
        "colab_type": "code",
        "outputId": "8fe5b8cb-d036-46fc-f8d8-8d8dfe06cf73",
        "colab": {
          "base_uri": "https://localhost:8080/",
          "height": 156
        }
      },
      "cell_type": "code",
      "source": [
        "rf = RandomForestClassifier(n_estimators=25)\n",
        "rfmod=rf.fit(X_train_smote2, y_train_smote2.ravel())\n",
        "y_pred_s2_rf = rf.predict(X_test)\n",
        "accuracy_s2_rf=accuracy_score(y_test, y_pred_s2_rf)\n",
        "print(accuracy_s2_rf)\n",
        "rfmod\n",
        "# plot_confusion_matrix(y_test, y_pred)"
      ],
      "execution_count": 27,
      "outputs": [
        {
          "output_type": "stream",
          "text": [
            "0.9994616293903538\n"
          ],
          "name": "stdout"
        },
        {
          "output_type": "execute_result",
          "data": {
            "text/plain": [
              "RandomForestClassifier(bootstrap=True, class_weight=None, criterion='gini',\n",
              "            max_depth=None, max_features='auto', max_leaf_nodes=None,\n",
              "            min_impurity_decrease=0.0, min_impurity_split=None,\n",
              "            min_samples_leaf=1, min_samples_split=2,\n",
              "            min_weight_fraction_leaf=0.0, n_estimators=25, n_jobs=None,\n",
              "            oob_score=False, random_state=None, verbose=0,\n",
              "            warm_start=False)"
            ]
          },
          "metadata": {
            "tags": []
          },
          "execution_count": 27
        }
      ]
    },
    {
      "metadata": {
        "id": "2spoW-FdzD2S",
        "colab_type": "code",
        "outputId": "4d48e9f4-df79-43e5-9a86-42115fcb7ccf",
        "colab": {
          "base_uri": "https://localhost:8080/",
          "height": 243
        }
      },
      "cell_type": "code",
      "source": [
        "print('Confusion Matrix for Random Forest on SMOTE 2 Dataset')\n",
        "print(confusion_matrix(y_test, y_pred_s2_rf))  \n",
        "print ('Accuracy:', accuracy_score(y_test, y_pred_s2_rf))\n",
        "print(classification_report(y_test, y_pred_s2_rf))"
      ],
      "execution_count": 28,
      "outputs": [
        {
          "output_type": "stream",
          "text": [
            "Confusion Matrix for Random Forest on SMOTE 2 Dataset\n",
            "[[85276    20]\n",
            " [   26   121]]\n",
            "Accuracy: 0.9994616293903538\n",
            "              precision    recall  f1-score   support\n",
            "\n",
            "           0       1.00      1.00      1.00     85296\n",
            "           1       0.86      0.82      0.84       147\n",
            "\n",
            "   micro avg       1.00      1.00      1.00     85443\n",
            "   macro avg       0.93      0.91      0.92     85443\n",
            "weighted avg       1.00      1.00      1.00     85443\n",
            "\n"
          ],
          "name": "stdout"
        }
      ]
    },
    {
      "metadata": {
        "id": "UgJo41oZzD2T",
        "colab_type": "code",
        "outputId": "50e6558b-459d-4778-effc-d605e5be247b",
        "colab": {
          "base_uri": "https://localhost:8080/",
          "height": 156
        }
      },
      "cell_type": "code",
      "source": [
        "rf = RandomForestClassifier(n_estimators=25)\n",
        "rfmod=rf.fit(X_train_smote3, y_train_smote3.ravel())\n",
        "y_pred_s3_rf = rf.predict(X_test)\n",
        "accuracy_s3_rf=accuracy_score(y_test, y_pred_s3_rf)\n",
        "print(accuracy_s3_rf)\n",
        "rfmod\n",
        "# plot_confusion_matrix(y_test, y_pred)"
      ],
      "execution_count": 29,
      "outputs": [
        {
          "output_type": "stream",
          "text": [
            "0.9994967405170698\n"
          ],
          "name": "stdout"
        },
        {
          "output_type": "execute_result",
          "data": {
            "text/plain": [
              "RandomForestClassifier(bootstrap=True, class_weight=None, criterion='gini',\n",
              "            max_depth=None, max_features='auto', max_leaf_nodes=None,\n",
              "            min_impurity_decrease=0.0, min_impurity_split=None,\n",
              "            min_samples_leaf=1, min_samples_split=2,\n",
              "            min_weight_fraction_leaf=0.0, n_estimators=25, n_jobs=None,\n",
              "            oob_score=False, random_state=None, verbose=0,\n",
              "            warm_start=False)"
            ]
          },
          "metadata": {
            "tags": []
          },
          "execution_count": 29
        }
      ]
    },
    {
      "metadata": {
        "id": "MUmzjb_wzD2V",
        "colab_type": "code",
        "outputId": "b6c9c490-9141-47dd-86b2-6d9c0a16ff5e",
        "colab": {
          "base_uri": "https://localhost:8080/",
          "height": 243
        }
      },
      "cell_type": "code",
      "source": [
        "print('Confusion Matrix for Random Forest on SMOTE 3 Dataset')\n",
        "print(confusion_matrix(y_test, y_pred_s3_rf))  \n",
        "print ('Accuracy:', accuracy_score(y_test, y_pred_s3_rf))\n",
        "print(classification_report(y_test, y_pred_s3_rf))"
      ],
      "execution_count": 30,
      "outputs": [
        {
          "output_type": "stream",
          "text": [
            "Confusion Matrix for Random Forest on SMOTE 3 Dataset\n",
            "[[85277    19]\n",
            " [   24   123]]\n",
            "Accuracy: 0.9994967405170698\n",
            "              precision    recall  f1-score   support\n",
            "\n",
            "           0       1.00      1.00      1.00     85296\n",
            "           1       0.87      0.84      0.85       147\n",
            "\n",
            "   micro avg       1.00      1.00      1.00     85443\n",
            "   macro avg       0.93      0.92      0.93     85443\n",
            "weighted avg       1.00      1.00      1.00     85443\n",
            "\n"
          ],
          "name": "stdout"
        }
      ]
    },
    {
      "metadata": {
        "id": "N_B8nqqpzD2Z",
        "colab_type": "text"
      },
      "cell_type": "markdown",
      "source": [
        "<center><Bold><font size ='+2'>APPLYING DECISION TREE TO 3 SMOTE DATASETS</Bold></center></font>"
      ]
    },
    {
      "metadata": {
        "id": "sdH9vyDTzD2a",
        "colab_type": "code",
        "outputId": "c612ca70-33bd-418f-c5ac-d3a1f165c357",
        "colab": {
          "base_uri": "https://localhost:8080/",
          "height": 139
        }
      },
      "cell_type": "code",
      "source": [
        "decisionTreeClf = tree.DecisionTreeClassifier()\n",
        "decisionTreeClf = decisionTreeClf.fit(X_train_smote1, y_train_smote1.ravel())\n",
        "y_pred_s1_dt = rf.predict(X_test)\n",
        "accuracy_s1_dt=accuracy_score(y_test, y_pred_s1_dt)\n",
        "print(accuracy_s1_dt)\n",
        "decisionTreeClf"
      ],
      "execution_count": 31,
      "outputs": [
        {
          "output_type": "stream",
          "text": [
            "0.9994967405170698\n"
          ],
          "name": "stdout"
        },
        {
          "output_type": "execute_result",
          "data": {
            "text/plain": [
              "DecisionTreeClassifier(class_weight=None, criterion='gini', max_depth=None,\n",
              "            max_features=None, max_leaf_nodes=None,\n",
              "            min_impurity_decrease=0.0, min_impurity_split=None,\n",
              "            min_samples_leaf=1, min_samples_split=2,\n",
              "            min_weight_fraction_leaf=0.0, presort=False, random_state=None,\n",
              "            splitter='best')"
            ]
          },
          "metadata": {
            "tags": []
          },
          "execution_count": 31
        }
      ]
    },
    {
      "metadata": {
        "id": "QDysuZ5KzD2j",
        "colab_type": "code",
        "outputId": "6cbe75aa-238c-43c6-e67a-3265d04054a3",
        "colab": {
          "base_uri": "https://localhost:8080/",
          "height": 243
        }
      },
      "cell_type": "code",
      "source": [
        "print('Confusion Matrix for Decision Tree on SMOTE 1 Dataset')\n",
        "print(confusion_matrix(y_test, y_pred_s1_dt))  \n",
        "print ('Accuracy:', accuracy_score(y_test, y_pred_s1_dt))\n",
        "print(classification_report(y_test, y_pred_s1_dt))"
      ],
      "execution_count": 32,
      "outputs": [
        {
          "output_type": "stream",
          "text": [
            "Confusion Matrix for Decision Tree on SMOTE 1 Dataset\n",
            "[[85277    19]\n",
            " [   24   123]]\n",
            "Accuracy: 0.9994967405170698\n",
            "              precision    recall  f1-score   support\n",
            "\n",
            "           0       1.00      1.00      1.00     85296\n",
            "           1       0.87      0.84      0.85       147\n",
            "\n",
            "   micro avg       1.00      1.00      1.00     85443\n",
            "   macro avg       0.93      0.92      0.93     85443\n",
            "weighted avg       1.00      1.00      1.00     85443\n",
            "\n"
          ],
          "name": "stdout"
        }
      ]
    },
    {
      "metadata": {
        "id": "64l3vBREzD2l",
        "colab_type": "code",
        "outputId": "164f9b73-d08f-4320-a634-b6d9a73c0576",
        "colab": {
          "base_uri": "https://localhost:8080/",
          "height": 139
        }
      },
      "cell_type": "code",
      "source": [
        "decisionTreeClf = tree.DecisionTreeClassifier()\n",
        "decisionTreeClf = decisionTreeClf.fit(X_train_smote2, y_train_smote2.ravel())\n",
        "y_pred_s2_dt = rf.predict(X_test)\n",
        "accuracy_s2_dt=accuracy_score(y_test, y_pred_s2_dt)\n",
        "print(accuracy_s2_dt)\n",
        "decisionTreeClf"
      ],
      "execution_count": 33,
      "outputs": [
        {
          "output_type": "stream",
          "text": [
            "0.9994967405170698\n"
          ],
          "name": "stdout"
        },
        {
          "output_type": "execute_result",
          "data": {
            "text/plain": [
              "DecisionTreeClassifier(class_weight=None, criterion='gini', max_depth=None,\n",
              "            max_features=None, max_leaf_nodes=None,\n",
              "            min_impurity_decrease=0.0, min_impurity_split=None,\n",
              "            min_samples_leaf=1, min_samples_split=2,\n",
              "            min_weight_fraction_leaf=0.0, presort=False, random_state=None,\n",
              "            splitter='best')"
            ]
          },
          "metadata": {
            "tags": []
          },
          "execution_count": 33
        }
      ]
    },
    {
      "metadata": {
        "id": "PfEeNCJgzD2r",
        "colab_type": "code",
        "outputId": "d6e71b6d-8611-4afb-978f-c95c67549155",
        "colab": {
          "base_uri": "https://localhost:8080/",
          "height": 243
        }
      },
      "cell_type": "code",
      "source": [
        "print('Confusion Matrix for Decision Tree on SMOTE 2 Dataset')\n",
        "print(confusion_matrix(y_test, y_pred_s2_dt))  \n",
        "print ('Accuracy:', accuracy_score(y_test, y_pred_s2_dt))\n",
        "print(classification_report(y_test, y_pred_s2_dt))"
      ],
      "execution_count": 34,
      "outputs": [
        {
          "output_type": "stream",
          "text": [
            "Confusion Matrix for Decision Tree on SMOTE 2 Dataset\n",
            "[[85277    19]\n",
            " [   24   123]]\n",
            "Accuracy: 0.9994967405170698\n",
            "              precision    recall  f1-score   support\n",
            "\n",
            "           0       1.00      1.00      1.00     85296\n",
            "           1       0.87      0.84      0.85       147\n",
            "\n",
            "   micro avg       1.00      1.00      1.00     85443\n",
            "   macro avg       0.93      0.92      0.93     85443\n",
            "weighted avg       1.00      1.00      1.00     85443\n",
            "\n"
          ],
          "name": "stdout"
        }
      ]
    },
    {
      "metadata": {
        "id": "jHHMVcvpzD22",
        "colab_type": "code",
        "outputId": "c5801a4c-976b-4cc8-fd3f-2ed17b8c578e",
        "colab": {
          "base_uri": "https://localhost:8080/",
          "height": 139
        }
      },
      "cell_type": "code",
      "source": [
        "decisionTreeClf = tree.DecisionTreeClassifier()\n",
        "decisionTreeClf = decisionTreeClf.fit(X_train_smote3, y_train_smote3.ravel())\n",
        "y_pred_s3_dt = rf.predict(X_test)\n",
        "accuracy_s3_dt=accuracy_score(y_test, y_pred_s3_dt)\n",
        "print(accuracy_s3_dt)\n",
        "decisionTreeClf"
      ],
      "execution_count": 35,
      "outputs": [
        {
          "output_type": "stream",
          "text": [
            "0.9994967405170698\n"
          ],
          "name": "stdout"
        },
        {
          "output_type": "execute_result",
          "data": {
            "text/plain": [
              "DecisionTreeClassifier(class_weight=None, criterion='gini', max_depth=None,\n",
              "            max_features=None, max_leaf_nodes=None,\n",
              "            min_impurity_decrease=0.0, min_impurity_split=None,\n",
              "            min_samples_leaf=1, min_samples_split=2,\n",
              "            min_weight_fraction_leaf=0.0, presort=False, random_state=None,\n",
              "            splitter='best')"
            ]
          },
          "metadata": {
            "tags": []
          },
          "execution_count": 35
        }
      ]
    },
    {
      "metadata": {
        "id": "XQcr7V2pzD25",
        "colab_type": "code",
        "outputId": "1a7e7c05-effd-4804-92c1-88d15d71eca3",
        "colab": {
          "base_uri": "https://localhost:8080/",
          "height": 243
        }
      },
      "cell_type": "code",
      "source": [
        "print('Confusion Matrix for Decision Tree on SMOTE 2 Dataset')\n",
        "print(confusion_matrix(y_test, y_pred_s2_dt))  \n",
        "print ('Accuracy:', accuracy_score(y_test, y_pred_s2_dt))\n",
        "print(classification_report(y_test, y_pred_s2_dt))"
      ],
      "execution_count": 36,
      "outputs": [
        {
          "output_type": "stream",
          "text": [
            "Confusion Matrix for Decision Tree on SMOTE 2 Dataset\n",
            "[[85277    19]\n",
            " [   24   123]]\n",
            "Accuracy: 0.9994967405170698\n",
            "              precision    recall  f1-score   support\n",
            "\n",
            "           0       1.00      1.00      1.00     85296\n",
            "           1       0.87      0.84      0.85       147\n",
            "\n",
            "   micro avg       1.00      1.00      1.00     85443\n",
            "   macro avg       0.93      0.92      0.93     85443\n",
            "weighted avg       1.00      1.00      1.00     85443\n",
            "\n"
          ],
          "name": "stdout"
        }
      ]
    },
    {
      "metadata": {
        "id": "HChqTFxkzD28",
        "colab_type": "text"
      },
      "cell_type": "markdown",
      "source": [
        "<center><Bold><font size ='+2'>APPLYING NEURAL NETWORKS (MLP) TO 3 SMOTE DATASETS</Bold></center></font>"
      ]
    },
    {
      "metadata": {
        "id": "8lY9KzLDzD29",
        "colab_type": "code",
        "outputId": "e118ed80-0245-4529-c965-72d2199a366e",
        "colab": {
          "base_uri": "https://localhost:8080/",
          "height": 156
        }
      },
      "cell_type": "code",
      "source": [
        "mlp = MLPClassifier(solver='adam',hidden_layer_sizes=(15,15), alpha= 0.0001, activation= 'tanh')  \n",
        "mlp.fit(X_train_smote1, y_train_smote1.ravel())  \n",
        "y_pred_s1_mlp = mlp.predict(X_test)\n",
        "accuracy_s1_mlp= accuracy_score(y_test, y_pred_s1_mlp)\n",
        "print ('Accuracy of MLP:', accuracy_s1_mlp)\n",
        "mlp"
      ],
      "execution_count": 37,
      "outputs": [
        {
          "output_type": "stream",
          "text": [
            "Accuracy of MLP: 0.9970506653558513\n"
          ],
          "name": "stdout"
        },
        {
          "output_type": "execute_result",
          "data": {
            "text/plain": [
              "MLPClassifier(activation='tanh', alpha=0.0001, batch_size='auto', beta_1=0.9,\n",
              "       beta_2=0.999, early_stopping=False, epsilon=1e-08,\n",
              "       hidden_layer_sizes=(15, 15), learning_rate='constant',\n",
              "       learning_rate_init=0.001, max_iter=200, momentum=0.9,\n",
              "       n_iter_no_change=10, nesterovs_momentum=True, power_t=0.5,\n",
              "       random_state=None, shuffle=True, solver='adam', tol=0.0001,\n",
              "       validation_fraction=0.1, verbose=False, warm_start=False)"
            ]
          },
          "metadata": {
            "tags": []
          },
          "execution_count": 37
        }
      ]
    },
    {
      "metadata": {
        "id": "60WJyqYOzD2-",
        "colab_type": "code",
        "outputId": "806b2362-ab29-43d6-f8f8-bbb0f8ad9c73",
        "colab": {
          "base_uri": "https://localhost:8080/",
          "height": 243
        }
      },
      "cell_type": "code",
      "source": [
        "print('Confusion Matrix for Neural Networks on SMOTE 1 Dataset')\n",
        "print(confusion_matrix(y_test, y_pred_s1_mlp))  \n",
        "print ('Accuracy:', accuracy_score(y_test, y_pred_s1_mlp))\n",
        "print(classification_report(y_test, y_pred_s1_mlp))"
      ],
      "execution_count": 38,
      "outputs": [
        {
          "output_type": "stream",
          "text": [
            "Confusion Matrix for Neural Networks on SMOTE 1 Dataset\n",
            "[[85065   231]\n",
            " [   21   126]]\n",
            "Accuracy: 0.9970506653558513\n",
            "              precision    recall  f1-score   support\n",
            "\n",
            "           0       1.00      1.00      1.00     85296\n",
            "           1       0.35      0.86      0.50       147\n",
            "\n",
            "   micro avg       1.00      1.00      1.00     85443\n",
            "   macro avg       0.68      0.93      0.75     85443\n",
            "weighted avg       1.00      1.00      1.00     85443\n",
            "\n"
          ],
          "name": "stdout"
        }
      ]
    },
    {
      "metadata": {
        "id": "PpxoAOR3zD3D",
        "colab_type": "code",
        "outputId": "9231e0a4-67cb-43b6-dc4d-b9d5c5de61b0",
        "colab": {
          "base_uri": "https://localhost:8080/",
          "height": 156
        }
      },
      "cell_type": "code",
      "source": [
        "mlp = MLPClassifier(solver='adam',hidden_layer_sizes=(15,15), alpha= 0.0001, activation= 'tanh')  \n",
        "mlp.fit(X_train_smote2, y_train_smote2.ravel())  \n",
        "y_pred_s2_mlp = mlp.predict(X_test)\n",
        "accuracy_s2_mlp= accuracy_score(y_test, y_pred_s2_mlp)\n",
        "print ('Accuracy of MLP:', accuracy_s2_mlp)\n",
        "mlp"
      ],
      "execution_count": 39,
      "outputs": [
        {
          "output_type": "stream",
          "text": [
            "Accuracy of MLP: 0.9985019252601149\n"
          ],
          "name": "stdout"
        },
        {
          "output_type": "execute_result",
          "data": {
            "text/plain": [
              "MLPClassifier(activation='tanh', alpha=0.0001, batch_size='auto', beta_1=0.9,\n",
              "       beta_2=0.999, early_stopping=False, epsilon=1e-08,\n",
              "       hidden_layer_sizes=(15, 15), learning_rate='constant',\n",
              "       learning_rate_init=0.001, max_iter=200, momentum=0.9,\n",
              "       n_iter_no_change=10, nesterovs_momentum=True, power_t=0.5,\n",
              "       random_state=None, shuffle=True, solver='adam', tol=0.0001,\n",
              "       validation_fraction=0.1, verbose=False, warm_start=False)"
            ]
          },
          "metadata": {
            "tags": []
          },
          "execution_count": 39
        }
      ]
    },
    {
      "metadata": {
        "id": "mYqDH_X6zD3G",
        "colab_type": "code",
        "outputId": "51023503-3972-4581-989b-ac18b4106308",
        "colab": {
          "base_uri": "https://localhost:8080/",
          "height": 243
        }
      },
      "cell_type": "code",
      "source": [
        "print('Confusion Matrix for Neural Networks on SMOTE 2 Dataset')\n",
        "print(confusion_matrix(y_test, y_pred_s2_mlp))  \n",
        "print ('Accuracy:', accuracy_score(y_test, y_pred_s2_mlp))\n",
        "print(classification_report(y_test, y_pred_s2_mlp))"
      ],
      "execution_count": 40,
      "outputs": [
        {
          "output_type": "stream",
          "text": [
            "Confusion Matrix for Neural Networks on SMOTE 2 Dataset\n",
            "[[85195   101]\n",
            " [   27   120]]\n",
            "Accuracy: 0.9985019252601149\n",
            "              precision    recall  f1-score   support\n",
            "\n",
            "           0       1.00      1.00      1.00     85296\n",
            "           1       0.54      0.82      0.65       147\n",
            "\n",
            "   micro avg       1.00      1.00      1.00     85443\n",
            "   macro avg       0.77      0.91      0.83     85443\n",
            "weighted avg       1.00      1.00      1.00     85443\n",
            "\n"
          ],
          "name": "stdout"
        }
      ]
    },
    {
      "metadata": {
        "id": "bsLUzZxczD3I",
        "colab_type": "code",
        "outputId": "22a8b496-27ba-4d14-c810-3cca807d17d9",
        "colab": {
          "base_uri": "https://localhost:8080/",
          "height": 156
        }
      },
      "cell_type": "code",
      "source": [
        "mlp = MLPClassifier(solver='adam',hidden_layer_sizes=(15,15), alpha= 0.0001, activation= 'tanh') \n",
        "mlp.fit(X_train_smote3, y_train_smote3.ravel())  \n",
        "y_pred_s3_mlp = mlp.predict(X_test)\n",
        "accuracy_s3_mlp= accuracy_score(y_test, y_pred_s3_mlp)\n",
        "print ('Accuracy of MLP:', accuracy_s3_mlp)\n",
        "mlp"
      ],
      "execution_count": 41,
      "outputs": [
        {
          "output_type": "stream",
          "text": [
            "Accuracy of MLP: 0.9974602951675386\n"
          ],
          "name": "stdout"
        },
        {
          "output_type": "execute_result",
          "data": {
            "text/plain": [
              "MLPClassifier(activation='tanh', alpha=0.0001, batch_size='auto', beta_1=0.9,\n",
              "       beta_2=0.999, early_stopping=False, epsilon=1e-08,\n",
              "       hidden_layer_sizes=(15, 15), learning_rate='constant',\n",
              "       learning_rate_init=0.001, max_iter=200, momentum=0.9,\n",
              "       n_iter_no_change=10, nesterovs_momentum=True, power_t=0.5,\n",
              "       random_state=None, shuffle=True, solver='adam', tol=0.0001,\n",
              "       validation_fraction=0.1, verbose=False, warm_start=False)"
            ]
          },
          "metadata": {
            "tags": []
          },
          "execution_count": 41
        }
      ]
    },
    {
      "metadata": {
        "id": "W9BCdaarzD3Q",
        "colab_type": "code",
        "outputId": "206e71ff-a2c0-43c0-fd70-c1c4efdf6836",
        "colab": {
          "base_uri": "https://localhost:8080/",
          "height": 243
        }
      },
      "cell_type": "code",
      "source": [
        "print('Confusion Matrix for Neural Networks on SMOTE 3 Dataset')\n",
        "print(confusion_matrix(y_test, y_pred_s3_mlp))  \n",
        "print ('Accuracy:', accuracy_score(y_test, y_pred_s3_mlp))\n",
        "print(classification_report(y_test, y_pred_s3_mlp))"
      ],
      "execution_count": 42,
      "outputs": [
        {
          "output_type": "stream",
          "text": [
            "Confusion Matrix for Neural Networks on SMOTE 3 Dataset\n",
            "[[85105   191]\n",
            " [   26   121]]\n",
            "Accuracy: 0.9974602951675386\n",
            "              precision    recall  f1-score   support\n",
            "\n",
            "           0       1.00      1.00      1.00     85296\n",
            "           1       0.39      0.82      0.53       147\n",
            "\n",
            "   micro avg       1.00      1.00      1.00     85443\n",
            "   macro avg       0.69      0.91      0.76     85443\n",
            "weighted avg       1.00      1.00      1.00     85443\n",
            "\n"
          ],
          "name": "stdout"
        }
      ]
    },
    {
      "metadata": {
        "id": "rSFedJXJzD3S",
        "colab_type": "text"
      },
      "cell_type": "markdown",
      "source": [
        "<center><Bold><font size ='+2'>APPLYING LOGISTIC REGRESSION ON 3 DATASETS OF SMOTE</Bold></center></font>"
      ]
    },
    {
      "metadata": {
        "id": "5zqP54-9zD3T",
        "colab_type": "code",
        "outputId": "5416ecab-771e-4561-958a-c74512a3fa57",
        "colab": {
          "base_uri": "https://localhost:8080/",
          "height": 384
        }
      },
      "cell_type": "code",
      "source": [
        "clf = LogisticRegression(random_state=0, solver='lbfgs', multi_class='ovr').fit(X_train_smote1, y_train_smote1)\n",
        "y_pred_s1_lr = clf.predict(X_test)\n",
        "accuracy_s1_lr = accuracy_score(y_test, y_pred_s1_lr)\n",
        "print ('Accuracy of SMOTE1:', accuracy_s1_lr)\n",
        "print(clf)\n",
        "\n",
        "print('Confusion Matrix for Linear Regression on SMOTE1')\n",
        "print(confusion_matrix(y_test, y_pred_s1_lr))  \n",
        "print ('Accuracy:', accuracy_score(y_test, y_pred_s1_lr))\n",
        "print(classification_report(y_test, y_pred_s1_lr))"
      ],
      "execution_count": 43,
      "outputs": [
        {
          "output_type": "stream",
          "text": [
            "Accuracy of SMOTE1: 0.9971325913181888\n",
            "LogisticRegression(C=1.0, class_weight=None, dual=False, fit_intercept=True,\n",
            "          intercept_scaling=1, max_iter=100, multi_class='ovr',\n",
            "          n_jobs=None, penalty='l2', random_state=0, solver='lbfgs',\n",
            "          tol=0.0001, verbose=0, warm_start=False)\n",
            "Confusion Matrix for Linear Regression on SMOTE1\n",
            "[[85072   224]\n",
            " [   21   126]]\n",
            "Accuracy: 0.9971325913181888\n",
            "              precision    recall  f1-score   support\n",
            "\n",
            "           0       1.00      1.00      1.00     85296\n",
            "           1       0.36      0.86      0.51       147\n",
            "\n",
            "   micro avg       1.00      1.00      1.00     85443\n",
            "   macro avg       0.68      0.93      0.75     85443\n",
            "weighted avg       1.00      1.00      1.00     85443\n",
            "\n"
          ],
          "name": "stdout"
        },
        {
          "output_type": "stream",
          "text": [
            "/usr/local/lib/python3.6/dist-packages/sklearn/linear_model/logistic.py:758: ConvergenceWarning: lbfgs failed to converge. Increase the number of iterations.\n",
            "  \"of iterations.\", ConvergenceWarning)\n"
          ],
          "name": "stderr"
        }
      ]
    },
    {
      "metadata": {
        "id": "U-R8n-WAzD3W",
        "colab_type": "code",
        "outputId": "da1e851b-867f-42f4-fd41-ceaf432bd10c",
        "colab": {
          "base_uri": "https://localhost:8080/",
          "height": 384
        }
      },
      "cell_type": "code",
      "source": [
        "clf = LogisticRegression(random_state=0, solver='lbfgs', multi_class='ovr').fit(X_train_smote2, y_train_smote2)\n",
        "y_pred_s2_lr = clf.predict(X_test)\n",
        "accuracy_s2_lr = accuracy_score(y_test, y_pred_s2_lr)\n",
        "print ('Accuracy of LR for SMOTE 2:', accuracy_s2_lr)\n",
        "print(clf)\n",
        "\n",
        "print('Confusion Matrix for Linear Regression on SMOTE2 Data')\n",
        "print(confusion_matrix(y_test, y_pred_s2_lr))  \n",
        "print ('Accuracy:', accuracy_score(y_test, y_pred_s2_lr))\n",
        "print(classification_report(y_test, y_pred_s2_lr))"
      ],
      "execution_count": 44,
      "outputs": [
        {
          "output_type": "stream",
          "text": [
            "Accuracy of LR for SMOTE 2: 0.9944290345610524\n",
            "LogisticRegression(C=1.0, class_weight=None, dual=False, fit_intercept=True,\n",
            "          intercept_scaling=1, max_iter=100, multi_class='ovr',\n",
            "          n_jobs=None, penalty='l2', random_state=0, solver='lbfgs',\n",
            "          tol=0.0001, verbose=0, warm_start=False)\n",
            "Confusion Matrix for Linear Regression on SMOTE2 Data\n",
            "[[84840   456]\n",
            " [   20   127]]\n",
            "Accuracy: 0.9944290345610524\n",
            "              precision    recall  f1-score   support\n",
            "\n",
            "           0       1.00      0.99      1.00     85296\n",
            "           1       0.22      0.86      0.35       147\n",
            "\n",
            "   micro avg       0.99      0.99      0.99     85443\n",
            "   macro avg       0.61      0.93      0.67     85443\n",
            "weighted avg       1.00      0.99      1.00     85443\n",
            "\n"
          ],
          "name": "stdout"
        },
        {
          "output_type": "stream",
          "text": [
            "/usr/local/lib/python3.6/dist-packages/sklearn/linear_model/logistic.py:758: ConvergenceWarning: lbfgs failed to converge. Increase the number of iterations.\n",
            "  \"of iterations.\", ConvergenceWarning)\n"
          ],
          "name": "stderr"
        }
      ]
    },
    {
      "metadata": {
        "id": "_g3Hu_bMzD3Y",
        "colab_type": "code",
        "outputId": "55c27d41-b505-473e-cff9-52c380141a67",
        "colab": {
          "base_uri": "https://localhost:8080/",
          "height": 384
        }
      },
      "cell_type": "code",
      "source": [
        "clf = LogisticRegression(random_state=0, solver='lbfgs', multi_class='ovr').fit(X_train_smote3, y_train_smote3)\n",
        "y_pred_s3_lr = clf.predict(X_test)\n",
        "accuracy_s3_lr = accuracy_score(y_test, y_pred_s3_lr)\n",
        "print ('Accuracy of LR for SMOTE 3:', accuracy_s3_lr)\n",
        "print(clf)\n",
        "\n",
        "print('Confusion Matrix for Linear Regression on SMOTE3 Data')\n",
        "print(confusion_matrix(y_test, y_pred_s3_lr))  \n",
        "print ('Accuracy:', accuracy_score(y_test, y_pred_s3_lr))\n",
        "print(classification_report(y_test, y_pred_s3_lr))"
      ],
      "execution_count": 45,
      "outputs": [
        {
          "output_type": "stream",
          "text": [
            "Accuracy of LR for SMOTE 3: 0.9928373301499245\n",
            "LogisticRegression(C=1.0, class_weight=None, dual=False, fit_intercept=True,\n",
            "          intercept_scaling=1, max_iter=100, multi_class='ovr',\n",
            "          n_jobs=None, penalty='l2', random_state=0, solver='lbfgs',\n",
            "          tol=0.0001, verbose=0, warm_start=False)\n",
            "Confusion Matrix for Linear Regression on SMOTE3 Data\n",
            "[[84702   594]\n",
            " [   18   129]]\n",
            "Accuracy: 0.9928373301499245\n",
            "              precision    recall  f1-score   support\n",
            "\n",
            "           0       1.00      0.99      1.00     85296\n",
            "           1       0.18      0.88      0.30       147\n",
            "\n",
            "   micro avg       0.99      0.99      0.99     85443\n",
            "   macro avg       0.59      0.94      0.65     85443\n",
            "weighted avg       1.00      0.99      1.00     85443\n",
            "\n"
          ],
          "name": "stdout"
        },
        {
          "output_type": "stream",
          "text": [
            "/usr/local/lib/python3.6/dist-packages/sklearn/linear_model/logistic.py:758: ConvergenceWarning: lbfgs failed to converge. Increase the number of iterations.\n",
            "  \"of iterations.\", ConvergenceWarning)\n"
          ],
          "name": "stderr"
        }
      ]
    },
    {
      "metadata": {
        "id": "_i188MrczD3Z",
        "colab_type": "text"
      },
      "cell_type": "markdown",
      "source": [
        "<center><Bold><font size ='+2'>APPLYING 3 ADASYN DATASETS</Bold></center></font>"
      ]
    },
    {
      "metadata": {
        "id": "A_sJpqGZzD3b",
        "colab_type": "code",
        "outputId": "10dc9823-0003-4901-dff5-3d245f5cc6e6",
        "colab": {
          "base_uri": "https://localhost:8080/",
          "height": 104
        }
      },
      "cell_type": "code",
      "source": [
        "ada = ADASYN(sampling_strategy=0.20, random_state=42)\n",
        "X_train_ada1, y_train_ada1 = ada.fit_sample(X_train, y_train.ravel())\n",
        "# X_res, y_res = ada.fit_resample(X_ada, y_ada)\n",
        "# print('Resampled dataset shape %s' % Counter(y_res))\n",
        "\n",
        "print('After OverSampling, the shape of train_X: {}'.format(X_train_ada1.shape))\n",
        "print('After OverSampling, the shape of train_y: {} \\n'.format(y_train_ada1.shape))\n",
        "\n",
        "print(\"After OverSampling, counts of label '1': {}\".format(sum(y_train_ada1==1)))\n",
        "print(\"After OverSampling, counts of label '0': {}\".format(sum(y_train_ada1==0)))\n"
      ],
      "execution_count": 46,
      "outputs": [
        {
          "output_type": "stream",
          "text": [
            "After OverSampling, the shape of train_X: (238801, 29)\n",
            "After OverSampling, the shape of train_y: (238801,) \n",
            "\n",
            "After OverSampling, counts of label '1': 39782\n",
            "After OverSampling, counts of label '0': 199019\n"
          ],
          "name": "stdout"
        }
      ]
    },
    {
      "metadata": {
        "id": "AcPsKzWWzD3c",
        "colab_type": "code",
        "outputId": "26b537df-e8c6-4b9c-e52a-b24f09eab716",
        "colab": {
          "base_uri": "https://localhost:8080/",
          "height": 104
        }
      },
      "cell_type": "code",
      "source": [
        "ada = ADASYN(sampling_strategy= 0.35, random_state=30)\n",
        "X_train_ada2, y_train_ada2 = ada.fit_sample(X_train, y_train.ravel())\n",
        "# X_res, y_res = ada.fit_resample(X_ada, y_ada)\n",
        "# print('Resampled dataset shape %s' % Counter(y_res))\n",
        "\n",
        "print('After OverSampling, the shape of train_X: {}'.format(X_train_ada2.shape))\n",
        "print('After OverSampling, the shape of train_y: {} \\n'.format(y_train_ada2.shape))\n",
        "\n",
        "print(\"After OverSampling, counts of label '1': {}\".format(sum(y_train_ada2==1)))\n",
        "print(\"After OverSampling, counts of label '0': {}\".format(sum(y_train_ada2==0)))"
      ],
      "execution_count": 47,
      "outputs": [
        {
          "output_type": "stream",
          "text": [
            "After OverSampling, the shape of train_X: (268687, 29)\n",
            "After OverSampling, the shape of train_y: (268687,) \n",
            "\n",
            "After OverSampling, counts of label '1': 69668\n",
            "After OverSampling, counts of label '0': 199019\n"
          ],
          "name": "stdout"
        }
      ]
    },
    {
      "metadata": {
        "id": "X31yPA8IzD3e",
        "colab_type": "code",
        "outputId": "7265f560-415e-41d7-8375-1f0b8c8d5a1b",
        "colab": {
          "base_uri": "https://localhost:8080/",
          "height": 104
        }
      },
      "cell_type": "code",
      "source": [
        "ada = ADASYN(sampling_strategy=0.50, random_state=10)\n",
        "X_train_ada3, y_train_ada3 = ada.fit_sample(X_train, y_train.ravel())\n",
        "# X_res, y_res = ada.fit_resample(X_ada, y_ada)\n",
        "# print('Resampled dataset shape %s' % Counter(y_res))\n",
        "\n",
        "print('After OverSampling, the shape of train_X: {}'.format(X_train_ada3.shape))\n",
        "print('After OverSampling, the shape of train_y: {} \\n'.format(y_train_ada3.shape))\n",
        "\n",
        "print(\"After OverSampling, counts of label '1': {}\".format(sum(y_train_ada3==1)))\n",
        "print(\"After OverSampling, counts of label '0': {}\".format(sum(y_train_ada3==0)))"
      ],
      "execution_count": 48,
      "outputs": [
        {
          "output_type": "stream",
          "text": [
            "After OverSampling, the shape of train_X: (298515, 29)\n",
            "After OverSampling, the shape of train_y: (298515,) \n",
            "\n",
            "After OverSampling, counts of label '1': 99496\n",
            "After OverSampling, counts of label '0': 199019\n"
          ],
          "name": "stdout"
        }
      ]
    },
    {
      "metadata": {
        "id": "TCYVa2m5zD3q",
        "colab_type": "text"
      },
      "cell_type": "markdown",
      "source": [
        "<center><Bold><font size ='+2'>APPLYING SVM AFTER ADASYN TO 3 DATASETS</Bold></center></font>"
      ]
    },
    {
      "metadata": {
        "id": "g5-Q1OmlzD3q",
        "colab_type": "code",
        "outputId": "9a857bda-5589-443d-ec7b-98cce78b2507",
        "colab": {
          "base_uri": "https://localhost:8080/",
          "height": 104
        }
      },
      "cell_type": "code",
      "source": [
        "lsvm = svm.LinearSVC(C=1.0, dual=False)\n",
        "sv=lsvm.fit(X_train_ada1, y_train_ada1.ravel())\n",
        "y_pred_ada1_svm = lsvm.predict(X_test)\n",
        "accuracy_ada1_svm=accuracy_score(y_test, y_pred_ada1_svm)\n",
        "print(accuracy_ada1_svm)\n",
        "sv"
      ],
      "execution_count": 49,
      "outputs": [
        {
          "output_type": "stream",
          "text": [
            "0.9930362932013155\n"
          ],
          "name": "stdout"
        },
        {
          "output_type": "execute_result",
          "data": {
            "text/plain": [
              "LinearSVC(C=1.0, class_weight=None, dual=False, fit_intercept=True,\n",
              "     intercept_scaling=1, loss='squared_hinge', max_iter=1000,\n",
              "     multi_class='ovr', penalty='l2', random_state=None, tol=0.0001,\n",
              "     verbose=0)"
            ]
          },
          "metadata": {
            "tags": []
          },
          "execution_count": 49
        }
      ]
    },
    {
      "metadata": {
        "id": "1xbEdF9nzD3s",
        "colab_type": "code",
        "outputId": "4a6308ff-08af-4429-d2b7-7d7a867e5b5b",
        "colab": {
          "base_uri": "https://localhost:8080/",
          "height": 243
        }
      },
      "cell_type": "code",
      "source": [
        "print('Confusion Matrix for SVM on ADASYN 1 Dataset')\n",
        "print(confusion_matrix(y_test, y_pred_ada1_svm))  \n",
        "print ('Accuracy:', accuracy_score(y_test, y_pred_ada1_svm))\n",
        "print(classification_report(y_test, y_pred_ada1_svm))"
      ],
      "execution_count": 50,
      "outputs": [
        {
          "output_type": "stream",
          "text": [
            "Confusion Matrix for SVM on ADASYN 1 Dataset\n",
            "[[84721   575]\n",
            " [   20   127]]\n",
            "Accuracy: 0.9930362932013155\n",
            "              precision    recall  f1-score   support\n",
            "\n",
            "           0       1.00      0.99      1.00     85296\n",
            "           1       0.18      0.86      0.30       147\n",
            "\n",
            "   micro avg       0.99      0.99      0.99     85443\n",
            "   macro avg       0.59      0.93      0.65     85443\n",
            "weighted avg       1.00      0.99      1.00     85443\n",
            "\n"
          ],
          "name": "stdout"
        }
      ]
    },
    {
      "metadata": {
        "id": "WW6Dpm4dzD3v",
        "colab_type": "code",
        "outputId": "21fe3e79-5d1f-4589-b379-5f86957b7e24",
        "colab": {
          "base_uri": "https://localhost:8080/",
          "height": 104
        }
      },
      "cell_type": "code",
      "source": [
        "lsvm = svm.LinearSVC(C=1.0, dual=False)\n",
        "sv=lsvm.fit(X_train_ada2, y_train_ada2.ravel())\n",
        "y_pred_ada2_svm = lsvm.predict(X_test)\n",
        "accuracy_ada2_svm=accuracy_score(y_test, y_pred_ada2_svm)\n",
        "print(accuracy_ada2_svm)\n",
        "sv"
      ],
      "execution_count": 51,
      "outputs": [
        {
          "output_type": "stream",
          "text": [
            "0.9874302166356519\n"
          ],
          "name": "stdout"
        },
        {
          "output_type": "execute_result",
          "data": {
            "text/plain": [
              "LinearSVC(C=1.0, class_weight=None, dual=False, fit_intercept=True,\n",
              "     intercept_scaling=1, loss='squared_hinge', max_iter=1000,\n",
              "     multi_class='ovr', penalty='l2', random_state=None, tol=0.0001,\n",
              "     verbose=0)"
            ]
          },
          "metadata": {
            "tags": []
          },
          "execution_count": 51
        }
      ]
    },
    {
      "metadata": {
        "id": "uae11rLCzD3z",
        "colab_type": "code",
        "outputId": "38b61cac-2b60-40d7-90e7-2861e46af1a9",
        "colab": {
          "base_uri": "https://localhost:8080/",
          "height": 243
        }
      },
      "cell_type": "code",
      "source": [
        "print('Confusion Matrix for SVM on ADASYN 2 Dataset')\n",
        "print(confusion_matrix(y_test, y_pred_ada2_svm))  \n",
        "print ('Accuracy:', accuracy_score(y_test, y_pred_ada2_svm))\n",
        "print(classification_report(y_test, y_pred_ada2_svm))"
      ],
      "execution_count": 52,
      "outputs": [
        {
          "output_type": "stream",
          "text": [
            "Confusion Matrix for SVM on ADASYN 2 Dataset\n",
            "[[84241  1055]\n",
            " [   19   128]]\n",
            "Accuracy: 0.9874302166356519\n",
            "              precision    recall  f1-score   support\n",
            "\n",
            "           0       1.00      0.99      0.99     85296\n",
            "           1       0.11      0.87      0.19       147\n",
            "\n",
            "   micro avg       0.99      0.99      0.99     85443\n",
            "   macro avg       0.55      0.93      0.59     85443\n",
            "weighted avg       1.00      0.99      0.99     85443\n",
            "\n"
          ],
          "name": "stdout"
        }
      ]
    },
    {
      "metadata": {
        "id": "J1hW17RUzD31",
        "colab_type": "code",
        "outputId": "903ad417-bcd1-4551-9770-374206e1d20f",
        "colab": {
          "base_uri": "https://localhost:8080/",
          "height": 104
        }
      },
      "cell_type": "code",
      "source": [
        "lsvm = svm.LinearSVC(C=1.0, dual=False)\n",
        "sv=lsvm.fit(X_train_ada3, y_train_ada3.ravel())\n",
        "y_pred_ada3_svm = lsvm.predict(X_test)\n",
        "accuracy_ada3_svm=accuracy_score(y_test, y_pred_ada3_svm)\n",
        "print(accuracy_ada3_svm)\n",
        "sv"
      ],
      "execution_count": 54,
      "outputs": [
        {
          "output_type": "stream",
          "text": [
            "0.982315695844013\n"
          ],
          "name": "stdout"
        },
        {
          "output_type": "execute_result",
          "data": {
            "text/plain": [
              "LinearSVC(C=1.0, class_weight=None, dual=False, fit_intercept=True,\n",
              "     intercept_scaling=1, loss='squared_hinge', max_iter=1000,\n",
              "     multi_class='ovr', penalty='l2', random_state=None, tol=0.0001,\n",
              "     verbose=0)"
            ]
          },
          "metadata": {
            "tags": []
          },
          "execution_count": 54
        }
      ]
    },
    {
      "metadata": {
        "id": "ePiGrp7mzD33",
        "colab_type": "code",
        "outputId": "a7844eb7-d457-48da-ff29-b88360c36ac1",
        "colab": {
          "base_uri": "https://localhost:8080/",
          "height": 243
        }
      },
      "cell_type": "code",
      "source": [
        "print('Confusion Matrix for SVM on ADASYN 3 Dataset')\n",
        "print(confusion_matrix(y_test, y_pred_ada3_svm))  \n",
        "print ('Accuracy:', accuracy_score(y_test, y_pred_ada3_svm))\n",
        "print(classification_report(y_test, y_pred_ada3_svm))"
      ],
      "execution_count": 55,
      "outputs": [
        {
          "output_type": "stream",
          "text": [
            "Confusion Matrix for SVM on ADASYN 3 Dataset\n",
            "[[83802  1494]\n",
            " [   17   130]]\n",
            "Accuracy: 0.982315695844013\n",
            "              precision    recall  f1-score   support\n",
            "\n",
            "           0       1.00      0.98      0.99     85296\n",
            "           1       0.08      0.88      0.15       147\n",
            "\n",
            "   micro avg       0.98      0.98      0.98     85443\n",
            "   macro avg       0.54      0.93      0.57     85443\n",
            "weighted avg       1.00      0.98      0.99     85443\n",
            "\n"
          ],
          "name": "stdout"
        }
      ]
    },
    {
      "metadata": {
        "id": "ItFPCWRezD35",
        "colab_type": "text"
      },
      "cell_type": "markdown",
      "source": [
        "<center><Bold><font size ='+2'>APPLYING NAIVE BAYES AFTER ADASYN TO 3 DATASETS</Bold></center></font>"
      ]
    },
    {
      "metadata": {
        "id": "jmB7DoIlzD35",
        "colab_type": "code",
        "outputId": "dda17356-6cef-465f-fbe0-d7bc97fe698c",
        "colab": {
          "base_uri": "https://localhost:8080/",
          "height": 52
        }
      },
      "cell_type": "code",
      "source": [
        "classifier = GaussianNB()\n",
        "model=classifier.fit(X_train_ada1, y_train_ada1.ravel())\n",
        "y_pred_ada1_nb = model.predict(X_test)\n",
        "accuracy_ada1_nb=accuracy_score(y_test, y_pred_ada1_nb)\n",
        "print(accuracy_ada1_nb)\n",
        "model"
      ],
      "execution_count": 56,
      "outputs": [
        {
          "output_type": "stream",
          "text": [
            "0.9659070959587093\n"
          ],
          "name": "stdout"
        },
        {
          "output_type": "execute_result",
          "data": {
            "text/plain": [
              "GaussianNB(priors=None, var_smoothing=1e-09)"
            ]
          },
          "metadata": {
            "tags": []
          },
          "execution_count": 56
        }
      ]
    },
    {
      "metadata": {
        "id": "-l1ronyLzD3-",
        "colab_type": "code",
        "outputId": "3f826d22-5b62-4d1b-c696-1498eb441e9a",
        "colab": {
          "base_uri": "https://localhost:8080/",
          "height": 243
        }
      },
      "cell_type": "code",
      "source": [
        "print('Confusion Matrix for Gaussian NB on ADASYN 1 Dataset')\n",
        "print(confusion_matrix(y_test, y_pred_ada1_nb))  \n",
        "print ('Accuracy:', accuracy_score(y_test, y_pred_ada1_nb))\n",
        "print(classification_report(y_test, y_pred_ada1_nb))"
      ],
      "execution_count": 57,
      "outputs": [
        {
          "output_type": "stream",
          "text": [
            "Confusion Matrix for Gaussian NB on ADASYN 1 Dataset\n",
            "[[82402  2894]\n",
            " [   19   128]]\n",
            "Accuracy: 0.9659070959587093\n",
            "              precision    recall  f1-score   support\n",
            "\n",
            "           0       1.00      0.97      0.98     85296\n",
            "           1       0.04      0.87      0.08       147\n",
            "\n",
            "   micro avg       0.97      0.97      0.97     85443\n",
            "   macro avg       0.52      0.92      0.53     85443\n",
            "weighted avg       1.00      0.97      0.98     85443\n",
            "\n"
          ],
          "name": "stdout"
        }
      ]
    },
    {
      "metadata": {
        "id": "JKJQslqazD4B",
        "colab_type": "code",
        "outputId": "245eda3c-0ed4-4b48-b2ab-4b20d95614e3",
        "colab": {
          "base_uri": "https://localhost:8080/",
          "height": 52
        }
      },
      "cell_type": "code",
      "source": [
        "classifier = GaussianNB()\n",
        "model=classifier.fit(X_train_ada2, y_train_ada2.ravel())\n",
        "y_pred_ada2_nb = model.predict(X_test)\n",
        "accuracy_ada2_nb=accuracy_score(y_test, y_pred_ada2_nb)\n",
        "print(accuracy_ada2_nb)\n",
        "model"
      ],
      "execution_count": 58,
      "outputs": [
        {
          "output_type": "stream",
          "text": [
            "0.9647133176503634\n"
          ],
          "name": "stdout"
        },
        {
          "output_type": "execute_result",
          "data": {
            "text/plain": [
              "GaussianNB(priors=None, var_smoothing=1e-09)"
            ]
          },
          "metadata": {
            "tags": []
          },
          "execution_count": 58
        }
      ]
    },
    {
      "metadata": {
        "id": "KSAlrgmAzD4D",
        "colab_type": "code",
        "outputId": "b0a6286d-d04b-4f5a-bf9b-436ae9bd0330",
        "colab": {
          "base_uri": "https://localhost:8080/",
          "height": 243
        }
      },
      "cell_type": "code",
      "source": [
        "print('Confusion Matrix for Gaussian NB on ADASYN 2 Dataset')\n",
        "print(confusion_matrix(y_test, y_pred_ada2_nb))  \n",
        "print ('Accuracy:', accuracy_score(y_test, y_pred_ada2_nb))\n",
        "print(classification_report(y_test, y_pred_ada2_nb))"
      ],
      "execution_count": 59,
      "outputs": [
        {
          "output_type": "stream",
          "text": [
            "Confusion Matrix for Gaussian NB on ADASYN 2 Dataset\n",
            "[[82300  2996]\n",
            " [   19   128]]\n",
            "Accuracy: 0.9647133176503634\n",
            "              precision    recall  f1-score   support\n",
            "\n",
            "           0       1.00      0.96      0.98     85296\n",
            "           1       0.04      0.87      0.08       147\n",
            "\n",
            "   micro avg       0.96      0.96      0.96     85443\n",
            "   macro avg       0.52      0.92      0.53     85443\n",
            "weighted avg       1.00      0.96      0.98     85443\n",
            "\n"
          ],
          "name": "stdout"
        }
      ]
    },
    {
      "metadata": {
        "id": "05HPPL-yzD4H",
        "colab_type": "code",
        "outputId": "011a366b-0be7-4977-9025-a892b00f72dc",
        "colab": {
          "base_uri": "https://localhost:8080/",
          "height": 52
        }
      },
      "cell_type": "code",
      "source": [
        "classifier = GaussianNB()\n",
        "model=classifier.fit(X_train_ada3, y_train_ada3.ravel())\n",
        "y_pred_ada3_nb = model.predict(X_test)\n",
        "accuracy_ada3_nb=accuracy_score(y_test, y_pred_ada3_nb)\n",
        "print(accuracy_ada3_nb)\n",
        "model"
      ],
      "execution_count": 60,
      "outputs": [
        {
          "output_type": "stream",
          "text": [
            "0.964069613660569\n"
          ],
          "name": "stdout"
        },
        {
          "output_type": "execute_result",
          "data": {
            "text/plain": [
              "GaussianNB(priors=None, var_smoothing=1e-09)"
            ]
          },
          "metadata": {
            "tags": []
          },
          "execution_count": 60
        }
      ]
    },
    {
      "metadata": {
        "id": "I8NM0C8XzD4L",
        "colab_type": "code",
        "outputId": "b0ee94d9-4dd7-4bdd-8022-35cdea90b845",
        "colab": {
          "base_uri": "https://localhost:8080/",
          "height": 243
        }
      },
      "cell_type": "code",
      "source": [
        "print('Confusion Matrix for Gaussian NB on ADASYN 3 Dataset')\n",
        "print(confusion_matrix(y_test, y_pred_ada3_nb))  \n",
        "print ('Accuracy:', accuracy_score(y_test, y_pred_ada3_nb))\n",
        "print(classification_report(y_test, y_pred_ada3_nb))"
      ],
      "execution_count": 61,
      "outputs": [
        {
          "output_type": "stream",
          "text": [
            "Confusion Matrix for Gaussian NB on ADASYN 3 Dataset\n",
            "[[82245  3051]\n",
            " [   19   128]]\n",
            "Accuracy: 0.964069613660569\n",
            "              precision    recall  f1-score   support\n",
            "\n",
            "           0       1.00      0.96      0.98     85296\n",
            "           1       0.04      0.87      0.08       147\n",
            "\n",
            "   micro avg       0.96      0.96      0.96     85443\n",
            "   macro avg       0.52      0.92      0.53     85443\n",
            "weighted avg       1.00      0.96      0.98     85443\n",
            "\n"
          ],
          "name": "stdout"
        }
      ]
    },
    {
      "metadata": {
        "id": "DexPr3fzzD4M",
        "colab_type": "text"
      },
      "cell_type": "markdown",
      "source": [
        "<center><Bold><font size ='+2'>APPLY RANDOM FOREST TO THE 3 ADASYN DATASETS</Bold></center></font>"
      ]
    },
    {
      "metadata": {
        "id": "FX0W-SOgzD4M",
        "colab_type": "code",
        "outputId": "dc9c0acd-b821-46ad-9a53-98cdb4fcab92",
        "colab": {
          "base_uri": "https://localhost:8080/",
          "height": 34
        }
      },
      "cell_type": "code",
      "source": [
        "rf = RandomForestClassifier(n_estimators=25)\n",
        "rfmod=rf.fit(X_train_ada1, y_train_ada1.ravel())\n",
        "y_pred_ada1_rf = rf.predict(X_test)\n",
        "accuracy_ada1_rf=accuracy_score(y_test, y_pred_ada1_rf)\n",
        "print(accuracy_ada1_rf)"
      ],
      "execution_count": 62,
      "outputs": [
        {
          "output_type": "stream",
          "text": [
            "0.9994499256814484\n"
          ],
          "name": "stdout"
        }
      ]
    },
    {
      "metadata": {
        "id": "Dy-2Ez6jzD4P",
        "colab_type": "code",
        "outputId": "6046d768-dc42-4fdd-b55e-d141362c804a",
        "colab": {
          "base_uri": "https://localhost:8080/",
          "height": 243
        }
      },
      "cell_type": "code",
      "source": [
        "print('Confusion Matrix for Random Forest on ADASYN 1 Dataset')\n",
        "print(confusion_matrix(y_test, y_pred_ada1_rf))  \n",
        "print ('Accuracy:', accuracy_score(y_test, y_pred_ada1_rf))\n",
        "print(classification_report(y_test, y_pred_ada1_rf))"
      ],
      "execution_count": 63,
      "outputs": [
        {
          "output_type": "stream",
          "text": [
            "Confusion Matrix for Random Forest on ADASYN 1 Dataset\n",
            "[[85277    19]\n",
            " [   28   119]]\n",
            "Accuracy: 0.9994499256814484\n",
            "              precision    recall  f1-score   support\n",
            "\n",
            "           0       1.00      1.00      1.00     85296\n",
            "           1       0.86      0.81      0.84       147\n",
            "\n",
            "   micro avg       1.00      1.00      1.00     85443\n",
            "   macro avg       0.93      0.90      0.92     85443\n",
            "weighted avg       1.00      1.00      1.00     85443\n",
            "\n"
          ],
          "name": "stdout"
        }
      ]
    },
    {
      "metadata": {
        "id": "tl0W4RObzD4R",
        "colab_type": "code",
        "outputId": "7a6e500b-f825-44c7-927e-0a29df357436",
        "colab": {
          "base_uri": "https://localhost:8080/",
          "height": 156
        }
      },
      "cell_type": "code",
      "source": [
        "rf = RandomForestClassifier(n_estimators=25)\n",
        "rfmod=rf.fit(X_train_ada2, y_train_ada2.ravel())\n",
        "y_pred_ada2_rf = rf.predict(X_test)\n",
        "accuracy_ada2_rf=accuracy_score(y_test, y_pred_ada2_rf)\n",
        "print(accuracy_ada2_rf)\n",
        "rfmod\n",
        "# plot_confusion_matrix(y_test, y_pred)"
      ],
      "execution_count": 64,
      "outputs": [
        {
          "output_type": "stream",
          "text": [
            "0.9994967405170698\n"
          ],
          "name": "stdout"
        },
        {
          "output_type": "execute_result",
          "data": {
            "text/plain": [
              "RandomForestClassifier(bootstrap=True, class_weight=None, criterion='gini',\n",
              "            max_depth=None, max_features='auto', max_leaf_nodes=None,\n",
              "            min_impurity_decrease=0.0, min_impurity_split=None,\n",
              "            min_samples_leaf=1, min_samples_split=2,\n",
              "            min_weight_fraction_leaf=0.0, n_estimators=25, n_jobs=None,\n",
              "            oob_score=False, random_state=None, verbose=0,\n",
              "            warm_start=False)"
            ]
          },
          "metadata": {
            "tags": []
          },
          "execution_count": 64
        }
      ]
    },
    {
      "metadata": {
        "id": "8MrBa6qSzD4T",
        "colab_type": "code",
        "outputId": "ae1fe3fc-126b-45ca-b1a1-696e121272d1",
        "colab": {
          "base_uri": "https://localhost:8080/",
          "height": 243
        }
      },
      "cell_type": "code",
      "source": [
        "print('Confusion Matrix for Random Forest on ADASYN 2 Dataset')\n",
        "print(confusion_matrix(y_test, y_pred_ada2_rf))  \n",
        "print ('Accuracy:', accuracy_score(y_test, y_pred_ada2_rf))\n",
        "print(classification_report(y_test, y_pred_ada2_rf))"
      ],
      "execution_count": 65,
      "outputs": [
        {
          "output_type": "stream",
          "text": [
            "Confusion Matrix for Random Forest on ADASYN 2 Dataset\n",
            "[[85280    16]\n",
            " [   27   120]]\n",
            "Accuracy: 0.9994967405170698\n",
            "              precision    recall  f1-score   support\n",
            "\n",
            "           0       1.00      1.00      1.00     85296\n",
            "           1       0.88      0.82      0.85       147\n",
            "\n",
            "   micro avg       1.00      1.00      1.00     85443\n",
            "   macro avg       0.94      0.91      0.92     85443\n",
            "weighted avg       1.00      1.00      1.00     85443\n",
            "\n"
          ],
          "name": "stdout"
        }
      ]
    },
    {
      "metadata": {
        "id": "zry_vwV4zD4V",
        "colab_type": "code",
        "outputId": "46364851-7bf5-431f-9089-1e5ee2f8fea8",
        "colab": {
          "base_uri": "https://localhost:8080/",
          "height": 156
        }
      },
      "cell_type": "code",
      "source": [
        "rf = RandomForestClassifier(n_estimators=25)\n",
        "rfmod=rf.fit(X_train_ada3, y_train_ada3.ravel())\n",
        "y_pred_ada3_rf = rf.predict(X_test)\n",
        "accuracy_ada3_rf=accuracy_score(y_test, y_pred_ada3_rf)\n",
        "print(accuracy_ada3_rf)\n",
        "rfmod\n",
        "# plot_confusion_matrix(y_test, y_pred)"
      ],
      "execution_count": 66,
      "outputs": [
        {
          "output_type": "stream",
          "text": [
            "0.9994850368081645\n"
          ],
          "name": "stdout"
        },
        {
          "output_type": "execute_result",
          "data": {
            "text/plain": [
              "RandomForestClassifier(bootstrap=True, class_weight=None, criterion='gini',\n",
              "            max_depth=None, max_features='auto', max_leaf_nodes=None,\n",
              "            min_impurity_decrease=0.0, min_impurity_split=None,\n",
              "            min_samples_leaf=1, min_samples_split=2,\n",
              "            min_weight_fraction_leaf=0.0, n_estimators=25, n_jobs=None,\n",
              "            oob_score=False, random_state=None, verbose=0,\n",
              "            warm_start=False)"
            ]
          },
          "metadata": {
            "tags": []
          },
          "execution_count": 66
        }
      ]
    },
    {
      "metadata": {
        "id": "d3LVanhlzD4X",
        "colab_type": "code",
        "outputId": "6b1784b3-db5a-43c1-e819-db464a821853",
        "colab": {
          "base_uri": "https://localhost:8080/",
          "height": 243
        }
      },
      "cell_type": "code",
      "source": [
        "print('Confusion Matrix for Random Forest on ADASYN 3 Dataset')\n",
        "print(confusion_matrix(y_test, y_pred_ada3_rf))  \n",
        "print ('Accuracy:', accuracy_score(y_test, y_pred_ada3_rf))\n",
        "print(classification_report(y_test, y_pred_ada3_rf))"
      ],
      "execution_count": 67,
      "outputs": [
        {
          "output_type": "stream",
          "text": [
            "Confusion Matrix for Random Forest on ADASYN 3 Dataset\n",
            "[[85280    16]\n",
            " [   28   119]]\n",
            "Accuracy: 0.9994850368081645\n",
            "              precision    recall  f1-score   support\n",
            "\n",
            "           0       1.00      1.00      1.00     85296\n",
            "           1       0.88      0.81      0.84       147\n",
            "\n",
            "   micro avg       1.00      1.00      1.00     85443\n",
            "   macro avg       0.94      0.90      0.92     85443\n",
            "weighted avg       1.00      1.00      1.00     85443\n",
            "\n"
          ],
          "name": "stdout"
        }
      ]
    },
    {
      "metadata": {
        "id": "zCRWIpL8zD4a",
        "colab_type": "text"
      },
      "cell_type": "markdown",
      "source": [
        "<center><Bold><font size ='+2'>APPLYING DECISION TREE TO 3 ADASYN DATASETS</Bold></center></font>"
      ]
    },
    {
      "metadata": {
        "id": "XOXIcmmezD4a",
        "colab_type": "code",
        "outputId": "16b1e84f-414d-4c08-b9a2-6ce41946975b",
        "colab": {
          "base_uri": "https://localhost:8080/",
          "height": 139
        }
      },
      "cell_type": "code",
      "source": [
        "decisionTreeClf = tree.DecisionTreeClassifier()\n",
        "decisionTreeClf = decisionTreeClf.fit(X_train_ada1, y_train_ada1.ravel())\n",
        "y_pred_ada1_dt = rf.predict(X_test)\n",
        "accuracy_ada1_dt=accuracy_score(y_test, y_pred_ada1_dt)\n",
        "print(accuracy_ada1_dt)\n",
        "decisionTreeClf"
      ],
      "execution_count": 68,
      "outputs": [
        {
          "output_type": "stream",
          "text": [
            "0.9994850368081645\n"
          ],
          "name": "stdout"
        },
        {
          "output_type": "execute_result",
          "data": {
            "text/plain": [
              "DecisionTreeClassifier(class_weight=None, criterion='gini', max_depth=None,\n",
              "            max_features=None, max_leaf_nodes=None,\n",
              "            min_impurity_decrease=0.0, min_impurity_split=None,\n",
              "            min_samples_leaf=1, min_samples_split=2,\n",
              "            min_weight_fraction_leaf=0.0, presort=False, random_state=None,\n",
              "            splitter='best')"
            ]
          },
          "metadata": {
            "tags": []
          },
          "execution_count": 68
        }
      ]
    },
    {
      "metadata": {
        "id": "pLT7wl5gzD4d",
        "colab_type": "code",
        "outputId": "542c9e97-cbfc-4705-c107-93259bf0f92e",
        "colab": {
          "base_uri": "https://localhost:8080/",
          "height": 243
        }
      },
      "cell_type": "code",
      "source": [
        "print('Confusion Matrix for Decision Tree on ADASYN 1 Dataset')\n",
        "print(confusion_matrix(y_test, y_pred_ada1_dt))  \n",
        "print ('Accuracy:', accuracy_score(y_test, y_pred_ada1_dt))\n",
        "print(classification_report(y_test, y_pred_ada1_dt))"
      ],
      "execution_count": 69,
      "outputs": [
        {
          "output_type": "stream",
          "text": [
            "Confusion Matrix for Decision Tree on ADASYN 1 Dataset\n",
            "[[85280    16]\n",
            " [   28   119]]\n",
            "Accuracy: 0.9994850368081645\n",
            "              precision    recall  f1-score   support\n",
            "\n",
            "           0       1.00      1.00      1.00     85296\n",
            "           1       0.88      0.81      0.84       147\n",
            "\n",
            "   micro avg       1.00      1.00      1.00     85443\n",
            "   macro avg       0.94      0.90      0.92     85443\n",
            "weighted avg       1.00      1.00      1.00     85443\n",
            "\n"
          ],
          "name": "stdout"
        }
      ]
    },
    {
      "metadata": {
        "id": "9bP_h1X-zD4f",
        "colab_type": "text"
      },
      "cell_type": "markdown",
      "source": [
        "decisionTreeClf = tree.DecisionTreeClassifier()\n",
        "decisionTreeClf = decisionTreeClf.fit(X_train_ada2, y_train_ada2.ravel())\n",
        "y_pred_ada2_dt = rf.predict(X_test)\n",
        "accuracy_ada2_dt=accuracy_score(y_test, y_pred_ada2_dt)\n",
        "print(accuracy_ada2_dt)\n",
        "decisionTreeClf"
      ]
    },
    {
      "metadata": {
        "id": "bPbGiGH9zD4f",
        "colab_type": "code",
        "outputId": "11b9e389-c278-4444-eee7-2b2628ab6ed6",
        "colab": {
          "base_uri": "https://localhost:8080/",
          "height": 139
        }
      },
      "cell_type": "code",
      "source": [
        "decisionTreeClf = tree.DecisionTreeClassifier()\n",
        "decisionTreeClf = decisionTreeClf.fit(X_train_ada2, y_train_ada2.ravel())\n",
        "y_pred_ada2_dt = rf.predict(X_test)\n",
        "accuracy_ada2_dt=accuracy_score(y_test, y_pred_ada2_dt)\n",
        "print(accuracy_ada2_dt)\n",
        "decisionTreeClf"
      ],
      "execution_count": 70,
      "outputs": [
        {
          "output_type": "stream",
          "text": [
            "0.9994850368081645\n"
          ],
          "name": "stdout"
        },
        {
          "output_type": "execute_result",
          "data": {
            "text/plain": [
              "DecisionTreeClassifier(class_weight=None, criterion='gini', max_depth=None,\n",
              "            max_features=None, max_leaf_nodes=None,\n",
              "            min_impurity_decrease=0.0, min_impurity_split=None,\n",
              "            min_samples_leaf=1, min_samples_split=2,\n",
              "            min_weight_fraction_leaf=0.0, presort=False, random_state=None,\n",
              "            splitter='best')"
            ]
          },
          "metadata": {
            "tags": []
          },
          "execution_count": 70
        }
      ]
    },
    {
      "metadata": {
        "id": "Dysb8hTNzD4i",
        "colab_type": "code",
        "outputId": "7abaf0bb-553f-4cf9-d357-f0c01716d392",
        "colab": {
          "base_uri": "https://localhost:8080/",
          "height": 243
        }
      },
      "cell_type": "code",
      "source": [
        "print('Confusion Matrix for Decision Tree on ADASYN 2 Dataset')\n",
        "print(confusion_matrix(y_test, y_pred_ada2_dt))  \n",
        "print ('Accuracy:', accuracy_score(y_test, y_pred_ada2_dt))\n",
        "print(classification_report(y_test, y_pred_ada2_dt))"
      ],
      "execution_count": 71,
      "outputs": [
        {
          "output_type": "stream",
          "text": [
            "Confusion Matrix for Decision Tree on ADASYN 2 Dataset\n",
            "[[85280    16]\n",
            " [   28   119]]\n",
            "Accuracy: 0.9994850368081645\n",
            "              precision    recall  f1-score   support\n",
            "\n",
            "           0       1.00      1.00      1.00     85296\n",
            "           1       0.88      0.81      0.84       147\n",
            "\n",
            "   micro avg       1.00      1.00      1.00     85443\n",
            "   macro avg       0.94      0.90      0.92     85443\n",
            "weighted avg       1.00      1.00      1.00     85443\n",
            "\n"
          ],
          "name": "stdout"
        }
      ]
    },
    {
      "metadata": {
        "id": "Ic2cKAAWzD4m",
        "colab_type": "code",
        "outputId": "14c6d21d-96aa-491d-c5a4-717c41278a06",
        "colab": {
          "base_uri": "https://localhost:8080/",
          "height": 139
        }
      },
      "cell_type": "code",
      "source": [
        "decisionTreeClf = tree.DecisionTreeClassifier()\n",
        "decisionTreeClf = decisionTreeClf.fit(X_train_ada3, y_train_ada3.ravel())\n",
        "y_pred_ada3_dt = rf.predict(X_test)\n",
        "accuracy_ada3_dt=accuracy_score(y_test, y_pred_ada3_dt)\n",
        "print(accuracy_ada3_dt)\n",
        "decisionTreeClf"
      ],
      "execution_count": 72,
      "outputs": [
        {
          "output_type": "stream",
          "text": [
            "0.9994850368081645\n"
          ],
          "name": "stdout"
        },
        {
          "output_type": "execute_result",
          "data": {
            "text/plain": [
              "DecisionTreeClassifier(class_weight=None, criterion='gini', max_depth=None,\n",
              "            max_features=None, max_leaf_nodes=None,\n",
              "            min_impurity_decrease=0.0, min_impurity_split=None,\n",
              "            min_samples_leaf=1, min_samples_split=2,\n",
              "            min_weight_fraction_leaf=0.0, presort=False, random_state=None,\n",
              "            splitter='best')"
            ]
          },
          "metadata": {
            "tags": []
          },
          "execution_count": 72
        }
      ]
    },
    {
      "metadata": {
        "id": "aOaL579UzD4n",
        "colab_type": "code",
        "outputId": "14085ce7-8747-4da5-94eb-07c8f9d1a837",
        "colab": {
          "base_uri": "https://localhost:8080/",
          "height": 243
        }
      },
      "cell_type": "code",
      "source": [
        "print('Confusion Matrix for Decision Tree on ADASYN 3 Dataset')\n",
        "print(confusion_matrix(y_test, y_pred_ada3_dt))  \n",
        "print ('Accuracy:', accuracy_score(y_test, y_pred_ada3_dt))\n",
        "print(classification_report(y_test, y_pred_ada3_dt))"
      ],
      "execution_count": 73,
      "outputs": [
        {
          "output_type": "stream",
          "text": [
            "Confusion Matrix for Decision Tree on ADASYN 3 Dataset\n",
            "[[85280    16]\n",
            " [   28   119]]\n",
            "Accuracy: 0.9994850368081645\n",
            "              precision    recall  f1-score   support\n",
            "\n",
            "           0       1.00      1.00      1.00     85296\n",
            "           1       0.88      0.81      0.84       147\n",
            "\n",
            "   micro avg       1.00      1.00      1.00     85443\n",
            "   macro avg       0.94      0.90      0.92     85443\n",
            "weighted avg       1.00      1.00      1.00     85443\n",
            "\n"
          ],
          "name": "stdout"
        }
      ]
    },
    {
      "metadata": {
        "id": "0JNNFeCbzD4p",
        "colab_type": "text"
      },
      "cell_type": "markdown",
      "source": [
        "<center><Bold><font size ='+2'>APPLYING NEURAL NETWORKS (MLP) TO 3 ADASYN DATASETS</Bold></center></font>"
      ]
    },
    {
      "metadata": {
        "id": "jsqKrm8EzD4q",
        "colab_type": "code",
        "outputId": "a0fb3ac6-b2ba-474c-dd65-b93835de7407",
        "colab": {
          "base_uri": "https://localhost:8080/",
          "height": 156
        }
      },
      "cell_type": "code",
      "source": [
        "mlp = MLPClassifier(solver='adam',hidden_layer_sizes=(15,15), alpha= 0.0001, activation= 'tanh')  \n",
        "mlp.fit(X_train_ada1, y_train_ada1.ravel())  \n",
        "y_pred_ada1_mlp = mlp.predict(X_test)\n",
        "accuracy_ada1_mlp= accuracy_score(y_test, y_pred_ada1_mlp)\n",
        "print ('Accuracy of MLP:', accuracy_ada1_mlp)\n",
        "mlp"
      ],
      "execution_count": 74,
      "outputs": [
        {
          "output_type": "stream",
          "text": [
            "Accuracy of MLP: 0.9980103694860901\n"
          ],
          "name": "stdout"
        },
        {
          "output_type": "execute_result",
          "data": {
            "text/plain": [
              "MLPClassifier(activation='tanh', alpha=0.0001, batch_size='auto', beta_1=0.9,\n",
              "       beta_2=0.999, early_stopping=False, epsilon=1e-08,\n",
              "       hidden_layer_sizes=(15, 15), learning_rate='constant',\n",
              "       learning_rate_init=0.001, max_iter=200, momentum=0.9,\n",
              "       n_iter_no_change=10, nesterovs_momentum=True, power_t=0.5,\n",
              "       random_state=None, shuffle=True, solver='adam', tol=0.0001,\n",
              "       validation_fraction=0.1, verbose=False, warm_start=False)"
            ]
          },
          "metadata": {
            "tags": []
          },
          "execution_count": 74
        }
      ]
    },
    {
      "metadata": {
        "id": "FdNI2thRzD4v",
        "colab_type": "code",
        "outputId": "2d6292fe-e4f8-4fe8-fdcd-68076c2e7bbf",
        "colab": {
          "base_uri": "https://localhost:8080/",
          "height": 243
        }
      },
      "cell_type": "code",
      "source": [
        "print('Confusion Matrix for Neural Network (MLP) on ADASYN 1 Dataset')\n",
        "print(confusion_matrix(y_test, y_pred_ada1_mlp))  \n",
        "print ('Accuracy:', accuracy_score(y_test, y_pred_ada1_mlp))\n",
        "print(classification_report(y_test, y_pred_ada1_mlp))"
      ],
      "execution_count": 75,
      "outputs": [
        {
          "output_type": "stream",
          "text": [
            "Confusion Matrix for Neural Network (MLP) on ADASYN 1 Dataset\n",
            "[[85150   146]\n",
            " [   24   123]]\n",
            "Accuracy: 0.9980103694860901\n",
            "              precision    recall  f1-score   support\n",
            "\n",
            "           0       1.00      1.00      1.00     85296\n",
            "           1       0.46      0.84      0.59       147\n",
            "\n",
            "   micro avg       1.00      1.00      1.00     85443\n",
            "   macro avg       0.73      0.92      0.80     85443\n",
            "weighted avg       1.00      1.00      1.00     85443\n",
            "\n"
          ],
          "name": "stdout"
        }
      ]
    },
    {
      "metadata": {
        "id": "jF9g50o4zD4x",
        "colab_type": "code",
        "outputId": "9ef12fc4-f498-4fa8-f07d-0ac404991268",
        "colab": {
          "base_uri": "https://localhost:8080/",
          "height": 156
        }
      },
      "cell_type": "code",
      "source": [
        "mlp = MLPClassifier(solver='adam',hidden_layer_sizes=(15,15), alpha= 0.0001, activation= 'tanh') \n",
        "mlp.fit(X_train_ada2, y_train_ada2.ravel())  \n",
        "y_pred_ada2_mlp = mlp.predict(X_test)\n",
        "accuracy_ada2_mlp= accuracy_score(y_test, y_pred_ada2_mlp)\n",
        "print ('Accuracy of MLP:', accuracy_ada2_mlp)\n",
        "mlp"
      ],
      "execution_count": 76,
      "outputs": [
        {
          "output_type": "stream",
          "text": [
            "Accuracy of MLP: 0.9978465175614152\n"
          ],
          "name": "stdout"
        },
        {
          "output_type": "execute_result",
          "data": {
            "text/plain": [
              "MLPClassifier(activation='tanh', alpha=0.0001, batch_size='auto', beta_1=0.9,\n",
              "       beta_2=0.999, early_stopping=False, epsilon=1e-08,\n",
              "       hidden_layer_sizes=(15, 15), learning_rate='constant',\n",
              "       learning_rate_init=0.001, max_iter=200, momentum=0.9,\n",
              "       n_iter_no_change=10, nesterovs_momentum=True, power_t=0.5,\n",
              "       random_state=None, shuffle=True, solver='adam', tol=0.0001,\n",
              "       validation_fraction=0.1, verbose=False, warm_start=False)"
            ]
          },
          "metadata": {
            "tags": []
          },
          "execution_count": 76
        }
      ]
    },
    {
      "metadata": {
        "id": "evZhbZVUzD4z",
        "colab_type": "code",
        "outputId": "5035a7c7-b545-45ef-8214-a8e97897374a",
        "colab": {
          "base_uri": "https://localhost:8080/",
          "height": 243
        }
      },
      "cell_type": "code",
      "source": [
        "print('Confusion Matrix for Neural Network (MLP) on ADASYN 2 Dataset')\n",
        "print(confusion_matrix(y_test, y_pred_ada2_mlp))  \n",
        "print ('Accuracy:', accuracy_score(y_test, y_pred_ada2_mlp))\n",
        "print(classification_report(y_test, y_pred_ada2_mlp))"
      ],
      "execution_count": 77,
      "outputs": [
        {
          "output_type": "stream",
          "text": [
            "Confusion Matrix for Neural Network (MLP) on ADASYN 2 Dataset\n",
            "[[85141   155]\n",
            " [   29   118]]\n",
            "Accuracy: 0.9978465175614152\n",
            "              precision    recall  f1-score   support\n",
            "\n",
            "           0       1.00      1.00      1.00     85296\n",
            "           1       0.43      0.80      0.56       147\n",
            "\n",
            "   micro avg       1.00      1.00      1.00     85443\n",
            "   macro avg       0.72      0.90      0.78     85443\n",
            "weighted avg       1.00      1.00      1.00     85443\n",
            "\n"
          ],
          "name": "stdout"
        }
      ]
    },
    {
      "metadata": {
        "id": "R8VecnCpzD40",
        "colab_type": "code",
        "outputId": "466995ce-3fb9-47d1-8e4b-c9e6d81a3ff2",
        "colab": {
          "base_uri": "https://localhost:8080/",
          "height": 156
        }
      },
      "cell_type": "code",
      "source": [
        "mlp = MLPClassifier(solver='adam',hidden_layer_sizes=(15,15), alpha= 0.0001, activation= 'tanh')\n",
        "mlp.fit(X_train_ada3, y_train_ada3.ravel())  \n",
        "y_pred_ada3_mlp = mlp.predict(X_test)\n",
        "accuracy_ada3_mlp= accuracy_score(y_test, y_pred_ada3_mlp)\n",
        "print ('Accuracy of MLP:', accuracy_ada3_mlp)\n",
        "mlp"
      ],
      "execution_count": 78,
      "outputs": [
        {
          "output_type": "stream",
          "text": [
            "Accuracy of MLP: 0.9968868134311764\n"
          ],
          "name": "stdout"
        },
        {
          "output_type": "execute_result",
          "data": {
            "text/plain": [
              "MLPClassifier(activation='tanh', alpha=0.0001, batch_size='auto', beta_1=0.9,\n",
              "       beta_2=0.999, early_stopping=False, epsilon=1e-08,\n",
              "       hidden_layer_sizes=(15, 15), learning_rate='constant',\n",
              "       learning_rate_init=0.001, max_iter=200, momentum=0.9,\n",
              "       n_iter_no_change=10, nesterovs_momentum=True, power_t=0.5,\n",
              "       random_state=None, shuffle=True, solver='adam', tol=0.0001,\n",
              "       validation_fraction=0.1, verbose=False, warm_start=False)"
            ]
          },
          "metadata": {
            "tags": []
          },
          "execution_count": 78
        }
      ]
    },
    {
      "metadata": {
        "id": "mjAdVLBGzD42",
        "colab_type": "code",
        "outputId": "70d18a36-77b1-4bb9-ad05-467b45866248",
        "colab": {
          "base_uri": "https://localhost:8080/",
          "height": 243
        }
      },
      "cell_type": "code",
      "source": [
        "print('Confusion Matrix for Neural Network (MLP) on ADASYN 3 Dataset')\n",
        "print(confusion_matrix(y_test, y_pred_ada3_mlp))  \n",
        "print ('Accuracy:', accuracy_score(y_test, y_pred_ada3_mlp))\n",
        "print(classification_report(y_test, y_pred_ada3_mlp))"
      ],
      "execution_count": 79,
      "outputs": [
        {
          "output_type": "stream",
          "text": [
            "Confusion Matrix for Neural Network (MLP) on ADASYN 3 Dataset\n",
            "[[85060   236]\n",
            " [   30   117]]\n",
            "Accuracy: 0.9968868134311764\n",
            "              precision    recall  f1-score   support\n",
            "\n",
            "           0       1.00      1.00      1.00     85296\n",
            "           1       0.33      0.80      0.47       147\n",
            "\n",
            "   micro avg       1.00      1.00      1.00     85443\n",
            "   macro avg       0.67      0.90      0.73     85443\n",
            "weighted avg       1.00      1.00      1.00     85443\n",
            "\n"
          ],
          "name": "stdout"
        }
      ]
    },
    {
      "metadata": {
        "id": "5ttZsRtkzD44",
        "colab_type": "text"
      },
      "cell_type": "markdown",
      "source": [
        "<center><Bold><font size ='+2'>APPLYING LOGISTIC REGRESSION ON 3 ADASYN DATASETS</Bold></center></font>"
      ]
    },
    {
      "metadata": {
        "id": "gLD1M5xDzD44",
        "colab_type": "code",
        "outputId": "d7b1f2c7-53b8-4f0d-fb29-675a64012828",
        "colab": {
          "base_uri": "https://localhost:8080/",
          "height": 384
        }
      },
      "cell_type": "code",
      "source": [
        "clf = LogisticRegression(random_state=0, solver='lbfgs', multi_class='ovr').fit(X_train_ada1, y_train_ada1)\n",
        "y_pred_a1_lr = clf.predict(X_test)\n",
        "accuracy_a1_lr = accuracy_score(y_test, y_pred_a1_lr)\n",
        "print ('Accuracy of LR for ADASYN 1:', accuracy_a1_lr)\n",
        "print(clf)\n",
        "\n",
        "print('Confusion Matrix for Linear Regression on ADASYN 1 Data')\n",
        "print(confusion_matrix(y_test, y_pred_a1_lr))  \n",
        "print ('Accuracy:', accuracy_score(y_test, y_pred_a1_lr))\n",
        "print(classification_report(y_test, y_pred_a1_lr))"
      ],
      "execution_count": 80,
      "outputs": [
        {
          "output_type": "stream",
          "text": [
            "Accuracy of LR for ADASYN 1: 0.9919478482731178\n",
            "LogisticRegression(C=1.0, class_weight=None, dual=False, fit_intercept=True,\n",
            "          intercept_scaling=1, max_iter=100, multi_class='ovr',\n",
            "          n_jobs=None, penalty='l2', random_state=0, solver='lbfgs',\n",
            "          tol=0.0001, verbose=0, warm_start=False)\n",
            "Confusion Matrix for Linear Regression on ADASYN 1 Data\n",
            "[[84627   669]\n",
            " [   19   128]]\n",
            "Accuracy: 0.9919478482731178\n",
            "              precision    recall  f1-score   support\n",
            "\n",
            "           0       1.00      0.99      1.00     85296\n",
            "           1       0.16      0.87      0.27       147\n",
            "\n",
            "   micro avg       0.99      0.99      0.99     85443\n",
            "   macro avg       0.58      0.93      0.63     85443\n",
            "weighted avg       1.00      0.99      0.99     85443\n",
            "\n"
          ],
          "name": "stdout"
        },
        {
          "output_type": "stream",
          "text": [
            "/usr/local/lib/python3.6/dist-packages/sklearn/linear_model/logistic.py:758: ConvergenceWarning: lbfgs failed to converge. Increase the number of iterations.\n",
            "  \"of iterations.\", ConvergenceWarning)\n"
          ],
          "name": "stderr"
        }
      ]
    },
    {
      "metadata": {
        "id": "TuskdLk8zD47",
        "colab_type": "code",
        "outputId": "cc6c966c-ca0d-4bde-fbc9-b22a7b0e5e0a",
        "colab": {
          "base_uri": "https://localhost:8080/",
          "height": 384
        }
      },
      "cell_type": "code",
      "source": [
        "clf = LogisticRegression(random_state=0, solver='lbfgs', multi_class='ovr').fit(X_train_ada2, y_train_ada2)\n",
        "y_pred_a2_lr = clf.predict(X_test)\n",
        "accuracy_a2_lr = accuracy_score(y_test, y_pred_a2_lr)\n",
        "print ('Accuracy of LR for ADASYN 2:', accuracy_a2_lr)\n",
        "print(clf)\n",
        "\n",
        "print('Confusion Matrix for Linear Regression on ADASYN 2 Data')\n",
        "print(confusion_matrix(y_test, y_pred_a2_lr))  \n",
        "print ('Accuracy:', accuracy_score(y_test, y_pred_a2_lr))\n",
        "print(classification_report(y_test, y_pred_a2_lr))"
      ],
      "execution_count": 81,
      "outputs": [
        {
          "output_type": "stream",
          "text": [
            "Accuracy of LR for ADASYN 2: 0.9851948082347296\n",
            "LogisticRegression(C=1.0, class_weight=None, dual=False, fit_intercept=True,\n",
            "          intercept_scaling=1, max_iter=100, multi_class='ovr',\n",
            "          n_jobs=None, penalty='l2', random_state=0, solver='lbfgs',\n",
            "          tol=0.0001, verbose=0, warm_start=False)\n",
            "Confusion Matrix for Linear Regression on ADASYN 2 Data\n",
            "[[84048  1248]\n",
            " [   17   130]]\n",
            "Accuracy: 0.9851948082347296\n",
            "              precision    recall  f1-score   support\n",
            "\n",
            "           0       1.00      0.99      0.99     85296\n",
            "           1       0.09      0.88      0.17       147\n",
            "\n",
            "   micro avg       0.99      0.99      0.99     85443\n",
            "   macro avg       0.55      0.93      0.58     85443\n",
            "weighted avg       1.00      0.99      0.99     85443\n",
            "\n"
          ],
          "name": "stdout"
        },
        {
          "output_type": "stream",
          "text": [
            "/usr/local/lib/python3.6/dist-packages/sklearn/linear_model/logistic.py:758: ConvergenceWarning: lbfgs failed to converge. Increase the number of iterations.\n",
            "  \"of iterations.\", ConvergenceWarning)\n"
          ],
          "name": "stderr"
        }
      ]
    },
    {
      "metadata": {
        "id": "0Q04wC3szD49",
        "colab_type": "code",
        "outputId": "736513d4-5c52-473d-fb2f-4977c031169c",
        "colab": {
          "base_uri": "https://localhost:8080/",
          "height": 402
        }
      },
      "cell_type": "code",
      "source": [
        "clf = LogisticRegression(random_state=0, solver='lbfgs', multi_class='ovr').fit(X_train_ada3, y_train_ada3)\n",
        "y_pred_a3_lr = clf.predict(X_test)\n",
        "accuracy_a3_lr = accuracy_score(y_test, y_pred_a3_lr)\n",
        "print ('Accuracy of LR for ADASYN 3:', accuracy_a3_lr)\n",
        "print(clf)\n",
        "\n",
        "print('Confusion Matrix for Linear Regression on ADASYN 3 Data')\n",
        "print(confusion_matrix(y_test, y_pred_a3_lr))  \n",
        "print ('Accuracy:', accuracy_score(y_test, y_pred_a3_lr))\n",
        "print(classification_report(y_test, y_pred_a3_lr))\n",
        "\n",
        "cohen_kappa_score(y_test, y_pred_a3_lr)"
      ],
      "execution_count": 82,
      "outputs": [
        {
          "output_type": "stream",
          "text": [
            "/usr/local/lib/python3.6/dist-packages/sklearn/linear_model/logistic.py:758: ConvergenceWarning: lbfgs failed to converge. Increase the number of iterations.\n",
            "  \"of iterations.\", ConvergenceWarning)\n"
          ],
          "name": "stderr"
        },
        {
          "output_type": "stream",
          "text": [
            "Accuracy of LR for ADASYN 3: 0.9774469529393864\n",
            "LogisticRegression(C=1.0, class_weight=None, dual=False, fit_intercept=True,\n",
            "          intercept_scaling=1, max_iter=100, multi_class='ovr',\n",
            "          n_jobs=None, penalty='l2', random_state=0, solver='lbfgs',\n",
            "          tol=0.0001, verbose=0, warm_start=False)\n",
            "Confusion Matrix for Linear Regression on ADASYN 3 Data\n",
            "[[83383  1913]\n",
            " [   14   133]]\n",
            "Accuracy: 0.9774469529393864\n",
            "              precision    recall  f1-score   support\n",
            "\n",
            "           0       1.00      0.98      0.99     85296\n",
            "           1       0.07      0.90      0.12       147\n",
            "\n",
            "   micro avg       0.98      0.98      0.98     85443\n",
            "   macro avg       0.53      0.94      0.55     85443\n",
            "weighted avg       1.00      0.98      0.99     85443\n",
            "\n"
          ],
          "name": "stdout"
        },
        {
          "output_type": "execute_result",
          "data": {
            "text/plain": [
              "0.11846508880539275"
            ]
          },
          "metadata": {
            "tags": []
          },
          "execution_count": 82
        }
      ]
    },
    {
      "metadata": {
        "id": "vZLh478IzD6b",
        "colab_type": "text"
      },
      "cell_type": "markdown",
      "source": [
        "<center><Bold><font size ='+2'> COHEN KAPPA SCORES </Bold></center></font>"
      ]
    },
    {
      "metadata": {
        "id": "fr5L7APszD6b",
        "colab_type": "code",
        "outputId": "2512cdd7-a940-4866-a299-b9cceeb0293e",
        "colab": {
          "base_uri": "https://localhost:8080/",
          "height": 746
        }
      },
      "cell_type": "code",
      "source": [
        "# Cohen Kappa Imbalanced\n",
        "print (\"cohen kappa score for imbalanced SVM:\", cohen_kappa_score(y_test, y_pred_im_svm))\n",
        "print (\"cohen kappa score for imbalanced NB:\", cohen_kappa_score(y_test, y_pred_im_nb))\n",
        "print (\"cohen kappa score for imbalanced RF:\", cohen_kappa_score(y_test, y_pred_im_rf))\n",
        "print (\"cohen kappa score for imbalanced DT:\", cohen_kappa_score(y_test, y_pred_im_dt))\n",
        "print (\"cohen kappa score for imbalanced MLP:\", cohen_kappa_score(y_test, y_pred_im_mlp))\n",
        "print (\"cohen kappa score for imbalanced LR:\", cohen_kappa_score(y_test, y_pred_im_lr))\n",
        "\n",
        "# Cohen Kappa SMOTE1\n",
        "print (\"cohen kappa score for SMOTE 1 SVM:\", cohen_kappa_score(y_test, y_pred_s1_svm))\n",
        "print (\"cohen kappa score for SMOTE 1 NB:\", cohen_kappa_score(y_test, y_pred_s1_nb))\n",
        "print (\"cohen kappa score for SMOTE 1 RF:\", cohen_kappa_score(y_test, y_pred_s1_rf))\n",
        "print (\"cohen kappa score for SMOTE 1 DT:\", cohen_kappa_score(y_test, y_pred_s1_dt))\n",
        "print (\"cohen kappa score for SMOTE 1 MLP:\", cohen_kappa_score(y_test, y_pred_s1_mlp))\n",
        "print (\"cohen kappa score for SMOTE 1 LR:\", cohen_kappa_score(y_test, y_pred_s1_lr))\n",
        "\n",
        "# Cohen Kappa SMOTE2\n",
        "print (\"cohen kappa score for SMOTE 2 SVM:\", cohen_kappa_score(y_test, y_pred_s2_svm))\n",
        "print (\"cohen kappa score for SMOTE 2 NB:\", cohen_kappa_score(y_test, y_pred_s2_nb))\n",
        "print (\"cohen kappa score for SMOTE 2 RF:\", cohen_kappa_score(y_test, y_pred_s2_rf))\n",
        "print (\"cohen kappa score for SMOTE 2 DT:\", cohen_kappa_score(y_test, y_pred_s2_dt))\n",
        "print (\"cohen kappa score for SMOTE 2 MLP:\", cohen_kappa_score(y_test, y_pred_s2_mlp))\n",
        "print (\"cohen kappa score for SMOTE 2 LR:\", cohen_kappa_score(y_test, y_pred_s2_lr))\n",
        "\n",
        "# Cohen Kappa SMOTE3\n",
        "print (\"cohen kappa score for SMOTE 3 SVM:\", cohen_kappa_score(y_test, y_pred_s3_svm))\n",
        "print (\"cohen kappa score for SMOTE 3 NB:\", cohen_kappa_score(y_test, y_pred_s3_nb))\n",
        "print (\"cohen kappa score for SMOTE 3 RF:\", cohen_kappa_score(y_test, y_pred_s3_rf))\n",
        "print (\"cohen kappa score for SMOTE 3 DT:\", cohen_kappa_score(y_test, y_pred_s3_dt))\n",
        "print (\"cohen kappa score for SMOTE 3 MLP:\", cohen_kappa_score(y_test, y_pred_s3_mlp))\n",
        "print (\"cohen kappa score for SMOTE 3 LR:\", cohen_kappa_score(y_test, y_pred_s3_lr))\n",
        "\n",
        "# Cohen Kappa ADASYN1\n",
        "print (\"cohen kappa score for ADASYN 1 SVM:\", cohen_kappa_score(y_test, y_pred_ada1_svm))\n",
        "print (\"cohen kappa score for ADASYN 1 NB:\", cohen_kappa_score(y_test, y_pred_ada1_nb))\n",
        "print (\"cohen kappa score for ADASYN 1 RF:\", cohen_kappa_score(y_test, y_pred_ada1_rf))\n",
        "print (\"cohen kappa score for ADASYN 1 DT:\", cohen_kappa_score(y_test, y_pred_ada1_dt))\n",
        "print (\"cohen kappa score for ADASYN 1 MLP:\", cohen_kappa_score(y_test, y_pred_ada1_mlp))\n",
        "print (\"cohen kappa score for ADASYN 1 LR:\", cohen_kappa_score(y_test, y_pred_a1_lr))\n",
        "\n",
        "# Cohen Kappa ADASYN2\n",
        "print (\"cohen kappa score for ADASYN 2 SVM:\", cohen_kappa_score(y_test, y_pred_ada2_svm))\n",
        "print (\"cohen kappa score for ADASYN 2 NB:\", cohen_kappa_score(y_test, y_pred_ada2_nb))\n",
        "print (\"cohen kappa score for ADASYN 2 RF:\", cohen_kappa_score(y_test, y_pred_ada2_rf))\n",
        "print (\"cohen kappa score for ADASYN 2 DT:\", cohen_kappa_score(y_test, y_pred_ada2_dt))\n",
        "print (\"cohen kappa score for ADASYN 2 MLP:\", cohen_kappa_score(y_test, y_pred_ada2_mlp))\n",
        "print (\"cohen kappa score for ADASYN 2 LR:\", cohen_kappa_score(y_test, y_pred_a2_lr))\n",
        "\n",
        "# Cohen Kappa ADASYN3\n",
        "print (\"cohen kappa score for ADASYN 3 SVM:\", cohen_kappa_score(y_test, y_pred_ada3_svm))\n",
        "print (\"cohen kappa score for ADASYN 3 NB:\", cohen_kappa_score(y_test, y_pred_ada3_nb))\n",
        "print (\"cohen kappa score for ADASYN 3 RF:\", cohen_kappa_score(y_test, y_pred_ada3_rf))\n",
        "print (\"cohen kappa score for ADASYN 3 DT:\", cohen_kappa_score(y_test, y_pred_ada3_dt))\n",
        "print (\"cohen kappa score for ADASYN 3 MLP:\", cohen_kappa_score(y_test, y_pred_ada3_mlp))\n",
        "print (\"cohen kappa score for ADASYN 3 LR:\", cohen_kappa_score(y_test, y_pred_a3_lr))\n"
      ],
      "execution_count": 90,
      "outputs": [
        {
          "output_type": "stream",
          "text": [
            "cohen kappa score for imbalanced SVM: 0.7121496106694271\n",
            "cohen kappa score for imbalanced NB: 0.11481536079412347\n",
            "cohen kappa score for imbalanced RF: 0.8406661162850358\n",
            "cohen kappa score for imbalanced DT: 0.8406661162850358\n",
            "cohen kappa score for imbalanced MLP: 0.7736061087773998\n",
            "cohen kappa score for imbalanced LR: 0.7133076882451923\n",
            "cohen kappa score for SMOTE 1 SVM: 0.5995969014836939\n",
            "cohen kappa score for SMOTE 1 NB: 0.11609358644886747\n",
            "cohen kappa score for SMOTE 1 RF: 0.8375564743064631\n",
            "cohen kappa score for SMOTE 1 DT: 0.8509590922239775\n",
            "cohen kappa score for SMOTE 1 MLP: 0.49877837384400137\n",
            "cohen kappa score for SMOTE 1 LR: 0.5058448353724946\n",
            "cohen kappa score for SMOTE 2 SVM: 0.37257407695073674\n",
            "cohen kappa score for SMOTE 2 NB: 0.10731381739798729\n",
            "cohen kappa score for SMOTE 2 RF: 0.8400082552685344\n",
            "cohen kappa score for SMOTE 2 DT: 0.8509590922239775\n",
            "cohen kappa score for SMOTE 2 MLP: 0.6514536754196008\n",
            "cohen kappa score for SMOTE 2 LR: 0.3461484221372474\n",
            "cohen kappa score for SMOTE 3 SVM: 0.29290989965863246\n",
            "cohen kappa score for SMOTE 3 NB: 0.10573860278323943\n",
            "cohen kappa score for SMOTE 3 RF: 0.8509590922239775\n",
            "cohen kappa score for SMOTE 3 DT: 0.8509590922239775\n",
            "cohen kappa score for SMOTE 3 MLP: 0.5261247658850272\n",
            "cohen kappa score for SMOTE 3 LR: 0.2945344463828482\n",
            "cohen kappa score for ADASYN 1 SVM: 0.29717588313296683\n",
            "cohen kappa score for ADASYN 1 NB: 0.07775644351259481\n",
            "cohen kappa score for ADASYN 1 RF: 0.8348124978635936\n",
            "cohen kappa score for ADASYN 1 DT: 0.8437141917876009\n",
            "cohen kappa score for ADASYN 1 MLP: 0.5904348719062702\n",
            "cohen kappa score for ADASYN 1 LR: 0.2690630147958304\n",
            "cohen kappa score for ADASYN 2 SVM: 0.19000213855619819\n",
            "cohen kappa score for ADASYN 2 NB: 0.07522447935306253\n",
            "cohen kappa score for ADASYN 2 RF: 0.8478048713804689\n",
            "cohen kappa score for ADASYN 2 DT: 0.8437141917876009\n",
            "cohen kappa score for ADASYN 2 MLP: 0.5609227310057437\n",
            "cohen kappa score for ADASYN 2 LR: 0.16790464312131415\n",
            "cohen kappa score for ADASYN 3 SVM: 0.14410913420276839\n",
            "cohen kappa score for ADASYN 3 NB: 0.07392364095236814\n",
            "cohen kappa score for ADASYN 3 RF: 0.8437141917876009\n",
            "cohen kappa score for ADASYN 3 DT: 0.8437141917876009\n",
            "cohen kappa score for ADASYN 3 MLP: 0.46670448192463054\n",
            "cohen kappa score for ADASYN 3 LR: 0.11846508880539275\n"
          ],
          "name": "stdout"
        }
      ]
    },
    {
      "metadata": {
        "colab_type": "text",
        "id": "Q-no52cojqqm"
      },
      "cell_type": "markdown",
      "source": [
        "<center><Bold><font size ='+2'> FRAUD DETECTION - UNDERBALANCE </Bold></center></font>\n"
      ]
    },
    {
      "metadata": {
        "colab_type": "code",
        "id": "gmGcE6uVjqqk",
        "colab": {}
      },
      "cell_type": "code",
      "source": [
        "import numpy as np\n",
        "import pandas as pd\n",
        "import matplotlib.pyplot as plt\n",
        "from collections import Counter\n",
        "from sklearn.datasets import make_classification\n",
        "from imblearn.under_sampling import EditedNearestNeighbours\n",
        "from imblearn.under_sampling import CondensedNearestNeighbour\n",
        "from imblearn.under_sampling import NeighbourhoodCleaningRule\n",
        "from imblearn.under_sampling import ClusterCentroids\n",
        "from imblearn.under_sampling import RandomUnderSampler\n",
        "from sklearn.ensemble import RandomForestClassifier\n",
        "from sklearn import svm\n",
        "from sklearn.naive_bayes import GaussianNB\n",
        "from sklearn.neural_network import MLPClassifier\n",
        "from sklearn.linear_model import LogisticRegression\n",
        "from sklearn.metrics import confusion_matrix, classification_report, auc, precision_recall_curve,roc_curve, accuracy_score, cohen_kappa_score\n",
        "from sklearn.preprocessing import StandardScaler\n",
        "from sklearn.manifold import TSNE\n",
        "from sklearn.utils import shuffle\n",
        "import matplotlib.gridspec as gridspec\n",
        "from sklearn import tree\n",
        "import seaborn as sns\n",
        "%matplotlib inline"
      ],
      "execution_count": 0,
      "outputs": []
    },
    {
      "metadata": {
        "colab_type": "code",
        "outputId": "e59bf2e3-2ca5-4bff-f03a-85f0701e4c8b",
        "id": "83vd6EdNjqqY",
        "colab": {
          "base_uri": "https://localhost:8080/",
          "height": 52
        }
      },
      "cell_type": "code",
      "source": [
        "X = np.array(df.iloc[:, df.columns != 'Class'])\n",
        "y = np.array(df.iloc[:, df.columns == 'Class'])\n",
        "print('Shape of X: {}'.format(X.shape))\n",
        "print('Shape of y: {}'.format(y.shape))"
      ],
      "execution_count": 92,
      "outputs": [
        {
          "output_type": "stream",
          "text": [
            "Shape of X: (284807, 29)\n",
            "Shape of y: (284807, 1)\n"
          ],
          "name": "stdout"
        }
      ]
    },
    {
      "metadata": {
        "colab_type": "text",
        "id": "lr4S8f5YjqqI"
      },
      "cell_type": "markdown",
      "source": [
        "<center><Bold><font size ='+2'>APPLYING RANDOM & INFORMATIVE UNDERSAMPLING TECHNIQUES TO DERIVE 6 UNDERSAMPLED DATASETS</Bold></center></font>"
      ]
    },
    {
      "metadata": {
        "colab_type": "code",
        "outputId": "700e580c-be02-4767-bc71-aeb3a21343f7",
        "id": "cqpu52P8jqqC",
        "colab": {
          "base_uri": "https://localhost:8080/",
          "height": 156
        }
      },
      "cell_type": "code",
      "source": [
        "# Applying Random UnderSampling (50% of Minority Class) - RUS50\n",
        "print(\"Before UnderSampling, counts of label '1': {}\".format(sum(y_train==1)))\n",
        "print(\"Before UnderSampling, counts of label '0': {} \\n\".format(sum(y_train==0)))\n",
        "\n",
        "rus = RandomUnderSampler(sampling_strategy=1,random_state=5)\n",
        "X_train_rus50, y_train_rus50 = rus.fit_sample(X_train, y_train.ravel())\n",
        "\n",
        "print('After UnderSampling, the shape of train_X: {}'.format(X_train_rus50.shape))\n",
        "print('After UnderSampling, the shape of train_y: {} \\n'.format(y_train_rus50.shape))\n",
        "\n",
        "print(\"After UnderSampling, counts of label '1': {}\".format(sum(y_train_rus50==1)))\n",
        "print(\"After UnderSampling, counts of label '0': {}\".format(sum(y_train_rus50==0)))                                                                   "
      ],
      "execution_count": 93,
      "outputs": [
        {
          "output_type": "stream",
          "text": [
            "Before UnderSampling, counts of label '1': [345]\n",
            "Before UnderSampling, counts of label '0': [199019] \n",
            "\n",
            "After UnderSampling, the shape of train_X: (690, 29)\n",
            "After UnderSampling, the shape of train_y: (690,) \n",
            "\n",
            "After UnderSampling, counts of label '1': 345\n",
            "After UnderSampling, counts of label '0': 345\n"
          ],
          "name": "stdout"
        }
      ]
    },
    {
      "metadata": {
        "colab_type": "code",
        "outputId": "6ab13f53-37da-496e-8e76-920968525c53",
        "id": "nywpuasGjqp9",
        "colab": {
          "base_uri": "https://localhost:8080/",
          "height": 156
        }
      },
      "cell_type": "code",
      "source": [
        "# Applying Random UnderSampling (10% of Minority Class) - RUS10\n",
        "print(\"Before UnderSampling, counts of label '1': {}\".format(sum(y_train==1)))\n",
        "print(\"Before UnderSampling, counts of label '0': {} \\n\".format(sum(y_train==0)))\n",
        "\n",
        "rus = RandomUnderSampler(sampling_strategy=0.10, random_state=100)\n",
        "X_train_rus10, y_train_rus10 = rus.fit_sample(X_train, y_train.ravel())\n",
        "\n",
        "print('After UnderSampling, the shape of train_X: {}'.format(X_train_rus10.shape))\n",
        "print('After UnderSampling, the shape of train_y: {} \\n'.format(y_train_rus10.shape))\n",
        "\n",
        "print(\"After UnderSampling, counts of label '1': {}\".format(sum(y_train_rus10==1)))\n",
        "print(\"After UnderSampling, counts of label '0': {}\".format(sum(y_train_rus10==0)))"
      ],
      "execution_count": 94,
      "outputs": [
        {
          "output_type": "stream",
          "text": [
            "Before UnderSampling, counts of label '1': [345]\n",
            "Before UnderSampling, counts of label '0': [199019] \n",
            "\n",
            "After UnderSampling, the shape of train_X: (3795, 29)\n",
            "After UnderSampling, the shape of train_y: (3795,) \n",
            "\n",
            "After UnderSampling, counts of label '1': 345\n",
            "After UnderSampling, counts of label '0': 3450\n"
          ],
          "name": "stdout"
        }
      ]
    },
    {
      "metadata": {
        "colab_type": "code",
        "outputId": "7160b93d-99ac-43c1-dbaf-488ee9e71ee0",
        "id": "Zv4IPd3vjqp1",
        "colab": {
          "base_uri": "https://localhost:8080/",
          "height": 156
        }
      },
      "cell_type": "code",
      "source": [
        "# Applying Random UnderSampling (1% of Minority Class) - RUS1\n",
        "print(\"Before UnderSampling, counts of label '1': {}\".format(sum(y_train==1)))\n",
        "print(\"Before UnderSampling, counts of label '0': {} \\n\".format(sum(y_train==0)))\n",
        "\n",
        "rus = RandomUnderSampler(sampling_strategy=0.01, random_state=100)\n",
        "X_train_rus1, y_train_rus1 = rus.fit_sample(X_train, y_train.ravel())\n",
        "\n",
        "print('After UnderSampling, the shape of train_X: {}'.format(X_train_rus10.shape))\n",
        "print('After UnderSampling, the shape of train_y: {} \\n'.format(y_train_rus1.shape))\n",
        "\n",
        "print(\"After UnderSampling, counts of label '1': {}\".format(sum(y_train_rus1==1)))\n",
        "print(\"After UnderSampling, counts of label '0': {}\".format(sum(y_train_rus1==0)))"
      ],
      "execution_count": 95,
      "outputs": [
        {
          "output_type": "stream",
          "text": [
            "Before UnderSampling, counts of label '1': [345]\n",
            "Before UnderSampling, counts of label '0': [199019] \n",
            "\n",
            "After UnderSampling, the shape of train_X: (3795, 29)\n",
            "After UnderSampling, the shape of train_y: (34845,) \n",
            "\n",
            "After UnderSampling, counts of label '1': 345\n",
            "After UnderSampling, counts of label '0': 34500\n"
          ],
          "name": "stdout"
        }
      ]
    },
    {
      "metadata": {
        "colab_type": "code",
        "outputId": "fb5f0eac-8aae-4bfe-9d04-e085a425fcd6",
        "id": "Gnk6PevDjqpu",
        "colab": {
          "base_uri": "https://localhost:8080/",
          "height": 156
        }
      },
      "cell_type": "code",
      "source": [
        "# Applying Informative UnderSampling (Edited Nearest Neighbours) - ENN\n",
        "print(\"Before UnderSampling, counts of label '1': {}\".format(sum(y_train==1)))\n",
        "print(\"Before UnderSampling, counts of label '0': {} \\n\".format(sum(y_train==0)))\n",
        "\n",
        "enn = EditedNearestNeighbours(sampling_strategy='auto')\n",
        "X_train_enn, y_train_enn = enn.fit_sample(X_train, y_train.ravel())\n",
        "\n",
        "print('After UnderSampling, the shape of train_X: {}'.format(X_train_enn.shape))\n",
        "print('After UnderSampling, the shape of train_y: {} \\n'.format(y_train_enn.shape))\n",
        "\n",
        "print(\"After UnderSampling, counts of label '1': {}\".format(sum(y_train_enn==1)))\n",
        "print(\"After UnderSampling, counts of label '0': {}\".format(sum(y_train_enn==0)))"
      ],
      "execution_count": 96,
      "outputs": [
        {
          "output_type": "stream",
          "text": [
            "Before UnderSampling, counts of label '1': [345]\n",
            "Before UnderSampling, counts of label '0': [199019] \n",
            "\n",
            "After UnderSampling, the shape of train_X: (199254, 29)\n",
            "After UnderSampling, the shape of train_y: (199254,) \n",
            "\n",
            "After UnderSampling, counts of label '1': 345\n",
            "After UnderSampling, counts of label '0': 198909\n"
          ],
          "name": "stdout"
        }
      ]
    },
    {
      "metadata": {
        "colab_type": "code",
        "outputId": "029d7b38-0879-416f-dba2-7d7283adba25",
        "id": "TtTZPtYdjqpn",
        "colab": {
          "base_uri": "https://localhost:8080/",
          "height": 1765
        }
      },
      "cell_type": "code",
      "source": [
        "# Applying Informative UnderSampling (Condensed Nearest Neighbour) - CNN\n",
        "print(\"Before UnderSampling, counts of label '1': {}\".format(sum(y_train==1)))\n",
        "print(\"Before UnderSampling, counts of label '0': {} \\n\".format(sum(y_train==0)))\n",
        "\n",
        "cnn = CondensedNearestNeighbour(sampling_strategy='auto', random_state = 17)\n",
        "X_train_cnn, y_train_cnn = cnn.fit_sample(X_train, y_train.ravel())\n",
        "\n",
        "print('After UnderSampling, the shape of train_X: {}'.format(X_train_cnn.shape))\n",
        "print('After UnderSampling, the shape of train_y: {} \\n'.format(y_train_cnn.shape))\n",
        "\n",
        "print(\"After UnderSampling, counts of label '1': {}\".format(sum(y_train_cnn==1)))\n",
        "print(\"After UnderSampling, counts of label '0': {}\".format(sum(y_train_cnn==0)))"
      ],
      "execution_count": 131,
      "outputs": [
        {
          "output_type": "stream",
          "text": [
            "Before UnderSampling, counts of label '1': [345]\n",
            "Before UnderSampling, counts of label '0': [199019] \n",
            "\n"
          ],
          "name": "stdout"
        },
        {
          "output_type": "error",
          "ename": "KeyboardInterrupt",
          "evalue": "ignored",
          "traceback": [
            "\u001b[0;31m---------------------------------------------------------------------------\u001b[0m",
            "\u001b[0;31mKeyboardInterrupt\u001b[0m                         Traceback (most recent call last)",
            "\u001b[0;32m<ipython-input-131-d66063a12430>\u001b[0m in \u001b[0;36m<module>\u001b[0;34m()\u001b[0m\n\u001b[1;32m      3\u001b[0m \u001b[0;34m\u001b[0m\u001b[0m\n\u001b[1;32m      4\u001b[0m \u001b[0mcnn\u001b[0m \u001b[0;34m=\u001b[0m \u001b[0mCondensedNearestNeighbour\u001b[0m\u001b[0;34m(\u001b[0m\u001b[0msampling_strategy\u001b[0m\u001b[0;34m=\u001b[0m\u001b[0;34m'auto'\u001b[0m\u001b[0;34m,\u001b[0m \u001b[0mrandom_state\u001b[0m \u001b[0;34m=\u001b[0m \u001b[0;36m17\u001b[0m\u001b[0;34m)\u001b[0m\u001b[0;34m\u001b[0m\u001b[0;34m\u001b[0m\u001b[0m\n\u001b[0;32m----> 5\u001b[0;31m \u001b[0mX_train_cnn\u001b[0m\u001b[0;34m,\u001b[0m \u001b[0my_train_cnn\u001b[0m \u001b[0;34m=\u001b[0m \u001b[0mcnn\u001b[0m\u001b[0;34m.\u001b[0m\u001b[0mfit_sample\u001b[0m\u001b[0;34m(\u001b[0m\u001b[0mX_train\u001b[0m\u001b[0;34m,\u001b[0m \u001b[0my_train\u001b[0m\u001b[0;34m.\u001b[0m\u001b[0mravel\u001b[0m\u001b[0;34m(\u001b[0m\u001b[0;34m)\u001b[0m\u001b[0;34m)\u001b[0m\u001b[0;34m\u001b[0m\u001b[0;34m\u001b[0m\u001b[0m\n\u001b[0m\u001b[1;32m      6\u001b[0m \u001b[0;34m\u001b[0m\u001b[0m\n\u001b[1;32m      7\u001b[0m \u001b[0mprint\u001b[0m\u001b[0;34m(\u001b[0m\u001b[0;34m'After UnderSampling, the shape of train_X: {}'\u001b[0m\u001b[0;34m.\u001b[0m\u001b[0mformat\u001b[0m\u001b[0;34m(\u001b[0m\u001b[0mX_train_cnn\u001b[0m\u001b[0;34m.\u001b[0m\u001b[0mshape\u001b[0m\u001b[0;34m)\u001b[0m\u001b[0;34m)\u001b[0m\u001b[0;34m\u001b[0m\u001b[0;34m\u001b[0m\u001b[0m\n",
            "\u001b[0;32m/usr/local/lib/python3.6/dist-packages/imblearn/base.py\u001b[0m in \u001b[0;36mfit_resample\u001b[0;34m(self, X, y)\u001b[0m\n\u001b[1;32m     83\u001b[0m             self.sampling_strategy, y, self._sampling_type)\n\u001b[1;32m     84\u001b[0m \u001b[0;34m\u001b[0m\u001b[0m\n\u001b[0;32m---> 85\u001b[0;31m         \u001b[0moutput\u001b[0m \u001b[0;34m=\u001b[0m \u001b[0mself\u001b[0m\u001b[0;34m.\u001b[0m\u001b[0m_fit_resample\u001b[0m\u001b[0;34m(\u001b[0m\u001b[0mX\u001b[0m\u001b[0;34m,\u001b[0m \u001b[0my\u001b[0m\u001b[0;34m)\u001b[0m\u001b[0;34m\u001b[0m\u001b[0;34m\u001b[0m\u001b[0m\n\u001b[0m\u001b[1;32m     86\u001b[0m \u001b[0;34m\u001b[0m\u001b[0m\n\u001b[1;32m     87\u001b[0m         \u001b[0;32mif\u001b[0m \u001b[0mbinarize_y\u001b[0m\u001b[0;34m:\u001b[0m\u001b[0;34m\u001b[0m\u001b[0;34m\u001b[0m\u001b[0m\n",
            "\u001b[0;32m/usr/local/lib/python3.6/dist-packages/imblearn/under_sampling/_prototype_selection/_condensed_nearest_neighbour.py\u001b[0m in \u001b[0;36m_fit_resample\u001b[0;34m(self, X, y)\u001b[0m\n\u001b[1;32m    205\u001b[0m                         \u001b[0;31m# Classify all the element in S and avoid to test the\u001b[0m\u001b[0;34m\u001b[0m\u001b[0;34m\u001b[0m\u001b[0;34m\u001b[0m\u001b[0m\n\u001b[1;32m    206\u001b[0m                         \u001b[0;31m# well classified elements\u001b[0m\u001b[0;34m\u001b[0m\u001b[0;34m\u001b[0m\u001b[0;34m\u001b[0m\u001b[0m\n\u001b[0;32m--> 207\u001b[0;31m                         \u001b[0mpred_S_y\u001b[0m \u001b[0;34m=\u001b[0m \u001b[0mself\u001b[0m\u001b[0;34m.\u001b[0m\u001b[0mestimator_\u001b[0m\u001b[0;34m.\u001b[0m\u001b[0mpredict\u001b[0m\u001b[0;34m(\u001b[0m\u001b[0mS_x\u001b[0m\u001b[0;34m)\u001b[0m\u001b[0;34m\u001b[0m\u001b[0;34m\u001b[0m\u001b[0m\n\u001b[0m\u001b[1;32m    208\u001b[0m                         good_classif_label = np.unique(\n\u001b[1;32m    209\u001b[0m                             np.append(idx_maj_sample,\n",
            "\u001b[0;32m/usr/local/lib/python3.6/dist-packages/sklearn/neighbors/classification.py\u001b[0m in \u001b[0;36mpredict\u001b[0;34m(self, X)\u001b[0m\n\u001b[1;32m    147\u001b[0m         \u001b[0mX\u001b[0m \u001b[0;34m=\u001b[0m \u001b[0mcheck_array\u001b[0m\u001b[0;34m(\u001b[0m\u001b[0mX\u001b[0m\u001b[0;34m,\u001b[0m \u001b[0maccept_sparse\u001b[0m\u001b[0;34m=\u001b[0m\u001b[0;34m'csr'\u001b[0m\u001b[0;34m)\u001b[0m\u001b[0;34m\u001b[0m\u001b[0;34m\u001b[0m\u001b[0m\n\u001b[1;32m    148\u001b[0m \u001b[0;34m\u001b[0m\u001b[0m\n\u001b[0;32m--> 149\u001b[0;31m         \u001b[0mneigh_dist\u001b[0m\u001b[0;34m,\u001b[0m \u001b[0mneigh_ind\u001b[0m \u001b[0;34m=\u001b[0m \u001b[0mself\u001b[0m\u001b[0;34m.\u001b[0m\u001b[0mkneighbors\u001b[0m\u001b[0;34m(\u001b[0m\u001b[0mX\u001b[0m\u001b[0;34m)\u001b[0m\u001b[0;34m\u001b[0m\u001b[0;34m\u001b[0m\u001b[0m\n\u001b[0m\u001b[1;32m    150\u001b[0m         \u001b[0mclasses_\u001b[0m \u001b[0;34m=\u001b[0m \u001b[0mself\u001b[0m\u001b[0;34m.\u001b[0m\u001b[0mclasses_\u001b[0m\u001b[0;34m\u001b[0m\u001b[0;34m\u001b[0m\u001b[0m\n\u001b[1;32m    151\u001b[0m         \u001b[0m_y\u001b[0m \u001b[0;34m=\u001b[0m \u001b[0mself\u001b[0m\u001b[0;34m.\u001b[0m\u001b[0m_y\u001b[0m\u001b[0;34m\u001b[0m\u001b[0;34m\u001b[0m\u001b[0m\n",
            "\u001b[0;32m/usr/local/lib/python3.6/dist-packages/sklearn/neighbors/base.py\u001b[0m in \u001b[0;36mkneighbors\u001b[0;34m(self, X, n_neighbors, return_distance)\u001b[0m\n\u001b[1;32m    453\u001b[0m                 delayed_query(\n\u001b[1;32m    454\u001b[0m                     self._tree, X[s], n_neighbors, return_distance)\n\u001b[0;32m--> 455\u001b[0;31m                 \u001b[0;32mfor\u001b[0m \u001b[0ms\u001b[0m \u001b[0;32min\u001b[0m \u001b[0mgen_even_slices\u001b[0m\u001b[0;34m(\u001b[0m\u001b[0mX\u001b[0m\u001b[0;34m.\u001b[0m\u001b[0mshape\u001b[0m\u001b[0;34m[\u001b[0m\u001b[0;36m0\u001b[0m\u001b[0;34m]\u001b[0m\u001b[0;34m,\u001b[0m \u001b[0mn_jobs\u001b[0m\u001b[0;34m)\u001b[0m\u001b[0;34m\u001b[0m\u001b[0;34m\u001b[0m\u001b[0m\n\u001b[0m\u001b[1;32m    456\u001b[0m             )\n\u001b[1;32m    457\u001b[0m         \u001b[0;32melse\u001b[0m\u001b[0;34m:\u001b[0m\u001b[0;34m\u001b[0m\u001b[0;34m\u001b[0m\u001b[0m\n",
            "\u001b[0;32m/usr/local/lib/python3.6/dist-packages/sklearn/externals/joblib/parallel.py\u001b[0m in \u001b[0;36m__call__\u001b[0;34m(self, iterable)\u001b[0m\n\u001b[1;32m    915\u001b[0m             \u001b[0;31m# remaining jobs.\u001b[0m\u001b[0;34m\u001b[0m\u001b[0;34m\u001b[0m\u001b[0;34m\u001b[0m\u001b[0m\n\u001b[1;32m    916\u001b[0m             \u001b[0mself\u001b[0m\u001b[0;34m.\u001b[0m\u001b[0m_iterating\u001b[0m \u001b[0;34m=\u001b[0m \u001b[0;32mFalse\u001b[0m\u001b[0;34m\u001b[0m\u001b[0;34m\u001b[0m\u001b[0m\n\u001b[0;32m--> 917\u001b[0;31m             \u001b[0;32mif\u001b[0m \u001b[0mself\u001b[0m\u001b[0;34m.\u001b[0m\u001b[0mdispatch_one_batch\u001b[0m\u001b[0;34m(\u001b[0m\u001b[0miterator\u001b[0m\u001b[0;34m)\u001b[0m\u001b[0;34m:\u001b[0m\u001b[0;34m\u001b[0m\u001b[0;34m\u001b[0m\u001b[0m\n\u001b[0m\u001b[1;32m    918\u001b[0m                 \u001b[0mself\u001b[0m\u001b[0;34m.\u001b[0m\u001b[0m_iterating\u001b[0m \u001b[0;34m=\u001b[0m \u001b[0mself\u001b[0m\u001b[0;34m.\u001b[0m\u001b[0m_original_iterator\u001b[0m \u001b[0;32mis\u001b[0m \u001b[0;32mnot\u001b[0m \u001b[0;32mNone\u001b[0m\u001b[0;34m\u001b[0m\u001b[0;34m\u001b[0m\u001b[0m\n\u001b[1;32m    919\u001b[0m \u001b[0;34m\u001b[0m\u001b[0m\n",
            "\u001b[0;32m/usr/local/lib/python3.6/dist-packages/sklearn/externals/joblib/parallel.py\u001b[0m in \u001b[0;36mdispatch_one_batch\u001b[0;34m(self, iterator)\u001b[0m\n\u001b[1;32m    757\u001b[0m                 \u001b[0;32mreturn\u001b[0m \u001b[0;32mFalse\u001b[0m\u001b[0;34m\u001b[0m\u001b[0;34m\u001b[0m\u001b[0m\n\u001b[1;32m    758\u001b[0m             \u001b[0;32melse\u001b[0m\u001b[0;34m:\u001b[0m\u001b[0;34m\u001b[0m\u001b[0;34m\u001b[0m\u001b[0m\n\u001b[0;32m--> 759\u001b[0;31m                 \u001b[0mself\u001b[0m\u001b[0;34m.\u001b[0m\u001b[0m_dispatch\u001b[0m\u001b[0;34m(\u001b[0m\u001b[0mtasks\u001b[0m\u001b[0;34m)\u001b[0m\u001b[0;34m\u001b[0m\u001b[0;34m\u001b[0m\u001b[0m\n\u001b[0m\u001b[1;32m    760\u001b[0m                 \u001b[0;32mreturn\u001b[0m \u001b[0;32mTrue\u001b[0m\u001b[0;34m\u001b[0m\u001b[0;34m\u001b[0m\u001b[0m\n\u001b[1;32m    761\u001b[0m \u001b[0;34m\u001b[0m\u001b[0m\n",
            "\u001b[0;32m/usr/local/lib/python3.6/dist-packages/sklearn/externals/joblib/parallel.py\u001b[0m in \u001b[0;36m_dispatch\u001b[0;34m(self, batch)\u001b[0m\n\u001b[1;32m    714\u001b[0m         \u001b[0;32mwith\u001b[0m \u001b[0mself\u001b[0m\u001b[0;34m.\u001b[0m\u001b[0m_lock\u001b[0m\u001b[0;34m:\u001b[0m\u001b[0;34m\u001b[0m\u001b[0;34m\u001b[0m\u001b[0m\n\u001b[1;32m    715\u001b[0m             \u001b[0mjob_idx\u001b[0m \u001b[0;34m=\u001b[0m \u001b[0mlen\u001b[0m\u001b[0;34m(\u001b[0m\u001b[0mself\u001b[0m\u001b[0;34m.\u001b[0m\u001b[0m_jobs\u001b[0m\u001b[0;34m)\u001b[0m\u001b[0;34m\u001b[0m\u001b[0;34m\u001b[0m\u001b[0m\n\u001b[0;32m--> 716\u001b[0;31m             \u001b[0mjob\u001b[0m \u001b[0;34m=\u001b[0m \u001b[0mself\u001b[0m\u001b[0;34m.\u001b[0m\u001b[0m_backend\u001b[0m\u001b[0;34m.\u001b[0m\u001b[0mapply_async\u001b[0m\u001b[0;34m(\u001b[0m\u001b[0mbatch\u001b[0m\u001b[0;34m,\u001b[0m \u001b[0mcallback\u001b[0m\u001b[0;34m=\u001b[0m\u001b[0mcb\u001b[0m\u001b[0;34m)\u001b[0m\u001b[0;34m\u001b[0m\u001b[0;34m\u001b[0m\u001b[0m\n\u001b[0m\u001b[1;32m    717\u001b[0m             \u001b[0;31m# A job can complete so quickly than its callback is\u001b[0m\u001b[0;34m\u001b[0m\u001b[0;34m\u001b[0m\u001b[0;34m\u001b[0m\u001b[0m\n\u001b[1;32m    718\u001b[0m             \u001b[0;31m# called before we get here, causing self._jobs to\u001b[0m\u001b[0;34m\u001b[0m\u001b[0;34m\u001b[0m\u001b[0;34m\u001b[0m\u001b[0m\n",
            "\u001b[0;32m/usr/local/lib/python3.6/dist-packages/sklearn/externals/joblib/_parallel_backends.py\u001b[0m in \u001b[0;36mapply_async\u001b[0;34m(self, func, callback)\u001b[0m\n\u001b[1;32m    180\u001b[0m     \u001b[0;32mdef\u001b[0m \u001b[0mapply_async\u001b[0m\u001b[0;34m(\u001b[0m\u001b[0mself\u001b[0m\u001b[0;34m,\u001b[0m \u001b[0mfunc\u001b[0m\u001b[0;34m,\u001b[0m \u001b[0mcallback\u001b[0m\u001b[0;34m=\u001b[0m\u001b[0;32mNone\u001b[0m\u001b[0;34m)\u001b[0m\u001b[0;34m:\u001b[0m\u001b[0;34m\u001b[0m\u001b[0;34m\u001b[0m\u001b[0m\n\u001b[1;32m    181\u001b[0m         \u001b[0;34m\"\"\"Schedule a func to be run\"\"\"\u001b[0m\u001b[0;34m\u001b[0m\u001b[0;34m\u001b[0m\u001b[0m\n\u001b[0;32m--> 182\u001b[0;31m         \u001b[0mresult\u001b[0m \u001b[0;34m=\u001b[0m \u001b[0mImmediateResult\u001b[0m\u001b[0;34m(\u001b[0m\u001b[0mfunc\u001b[0m\u001b[0;34m)\u001b[0m\u001b[0;34m\u001b[0m\u001b[0;34m\u001b[0m\u001b[0m\n\u001b[0m\u001b[1;32m    183\u001b[0m         \u001b[0;32mif\u001b[0m \u001b[0mcallback\u001b[0m\u001b[0;34m:\u001b[0m\u001b[0;34m\u001b[0m\u001b[0;34m\u001b[0m\u001b[0m\n\u001b[1;32m    184\u001b[0m             \u001b[0mcallback\u001b[0m\u001b[0;34m(\u001b[0m\u001b[0mresult\u001b[0m\u001b[0;34m)\u001b[0m\u001b[0;34m\u001b[0m\u001b[0;34m\u001b[0m\u001b[0m\n",
            "\u001b[0;32m/usr/local/lib/python3.6/dist-packages/sklearn/externals/joblib/_parallel_backends.py\u001b[0m in \u001b[0;36m__init__\u001b[0;34m(self, batch)\u001b[0m\n\u001b[1;32m    547\u001b[0m         \u001b[0;31m# Don't delay the application, to avoid keeping the input\u001b[0m\u001b[0;34m\u001b[0m\u001b[0;34m\u001b[0m\u001b[0;34m\u001b[0m\u001b[0m\n\u001b[1;32m    548\u001b[0m         \u001b[0;31m# arguments in memory\u001b[0m\u001b[0;34m\u001b[0m\u001b[0;34m\u001b[0m\u001b[0;34m\u001b[0m\u001b[0m\n\u001b[0;32m--> 549\u001b[0;31m         \u001b[0mself\u001b[0m\u001b[0;34m.\u001b[0m\u001b[0mresults\u001b[0m \u001b[0;34m=\u001b[0m \u001b[0mbatch\u001b[0m\u001b[0;34m(\u001b[0m\u001b[0;34m)\u001b[0m\u001b[0;34m\u001b[0m\u001b[0;34m\u001b[0m\u001b[0m\n\u001b[0m\u001b[1;32m    550\u001b[0m \u001b[0;34m\u001b[0m\u001b[0m\n\u001b[1;32m    551\u001b[0m     \u001b[0;32mdef\u001b[0m \u001b[0mget\u001b[0m\u001b[0;34m(\u001b[0m\u001b[0mself\u001b[0m\u001b[0;34m)\u001b[0m\u001b[0;34m:\u001b[0m\u001b[0;34m\u001b[0m\u001b[0;34m\u001b[0m\u001b[0m\n",
            "\u001b[0;32m/usr/local/lib/python3.6/dist-packages/sklearn/externals/joblib/parallel.py\u001b[0m in \u001b[0;36m__call__\u001b[0;34m(self)\u001b[0m\n\u001b[1;32m    223\u001b[0m         \u001b[0;32mwith\u001b[0m \u001b[0mparallel_backend\u001b[0m\u001b[0;34m(\u001b[0m\u001b[0mself\u001b[0m\u001b[0;34m.\u001b[0m\u001b[0m_backend\u001b[0m\u001b[0;34m,\u001b[0m \u001b[0mn_jobs\u001b[0m\u001b[0;34m=\u001b[0m\u001b[0mself\u001b[0m\u001b[0;34m.\u001b[0m\u001b[0m_n_jobs\u001b[0m\u001b[0;34m)\u001b[0m\u001b[0;34m:\u001b[0m\u001b[0;34m\u001b[0m\u001b[0;34m\u001b[0m\u001b[0m\n\u001b[1;32m    224\u001b[0m             return [func(*args, **kwargs)\n\u001b[0;32m--> 225\u001b[0;31m                     for func, args, kwargs in self.items]\n\u001b[0m\u001b[1;32m    226\u001b[0m \u001b[0;34m\u001b[0m\u001b[0m\n\u001b[1;32m    227\u001b[0m     \u001b[0;32mdef\u001b[0m \u001b[0m__len__\u001b[0m\u001b[0;34m(\u001b[0m\u001b[0mself\u001b[0m\u001b[0;34m)\u001b[0m\u001b[0;34m:\u001b[0m\u001b[0;34m\u001b[0m\u001b[0;34m\u001b[0m\u001b[0m\n",
            "\u001b[0;32m/usr/local/lib/python3.6/dist-packages/sklearn/externals/joblib/parallel.py\u001b[0m in \u001b[0;36m<listcomp>\u001b[0;34m(.0)\u001b[0m\n\u001b[1;32m    223\u001b[0m         \u001b[0;32mwith\u001b[0m \u001b[0mparallel_backend\u001b[0m\u001b[0;34m(\u001b[0m\u001b[0mself\u001b[0m\u001b[0;34m.\u001b[0m\u001b[0m_backend\u001b[0m\u001b[0;34m,\u001b[0m \u001b[0mn_jobs\u001b[0m\u001b[0;34m=\u001b[0m\u001b[0mself\u001b[0m\u001b[0;34m.\u001b[0m\u001b[0m_n_jobs\u001b[0m\u001b[0;34m)\u001b[0m\u001b[0;34m:\u001b[0m\u001b[0;34m\u001b[0m\u001b[0;34m\u001b[0m\u001b[0m\n\u001b[1;32m    224\u001b[0m             return [func(*args, **kwargs)\n\u001b[0;32m--> 225\u001b[0;31m                     for func, args, kwargs in self.items]\n\u001b[0m\u001b[1;32m    226\u001b[0m \u001b[0;34m\u001b[0m\u001b[0m\n\u001b[1;32m    227\u001b[0m     \u001b[0;32mdef\u001b[0m \u001b[0m__len__\u001b[0m\u001b[0;34m(\u001b[0m\u001b[0mself\u001b[0m\u001b[0;34m)\u001b[0m\u001b[0;34m:\u001b[0m\u001b[0;34m\u001b[0m\u001b[0;34m\u001b[0m\u001b[0m\n",
            "\u001b[0;32m/usr/local/lib/python3.6/dist-packages/sklearn/neighbors/base.py\u001b[0m in \u001b[0;36m_tree_query_parallel_helper\u001b[0;34m(tree, data, n_neighbors, return_distance)\u001b[0m\n\u001b[1;32m    290\u001b[0m     \u001b[0munder\u001b[0m \u001b[0mPyPy\u001b[0m\u001b[0;34m.\u001b[0m\u001b[0;34m\u001b[0m\u001b[0;34m\u001b[0m\u001b[0m\n\u001b[1;32m    291\u001b[0m     \"\"\"\n\u001b[0;32m--> 292\u001b[0;31m     \u001b[0;32mreturn\u001b[0m \u001b[0mtree\u001b[0m\u001b[0;34m.\u001b[0m\u001b[0mquery\u001b[0m\u001b[0;34m(\u001b[0m\u001b[0mdata\u001b[0m\u001b[0;34m,\u001b[0m \u001b[0mn_neighbors\u001b[0m\u001b[0;34m,\u001b[0m \u001b[0mreturn_distance\u001b[0m\u001b[0;34m)\u001b[0m\u001b[0;34m\u001b[0m\u001b[0;34m\u001b[0m\u001b[0m\n\u001b[0m\u001b[1;32m    293\u001b[0m \u001b[0;34m\u001b[0m\u001b[0m\n\u001b[1;32m    294\u001b[0m \u001b[0;34m\u001b[0m\u001b[0m\n",
            "\u001b[0;31mKeyboardInterrupt\u001b[0m: "
          ]
        }
      ]
    },
    {
      "metadata": {
        "colab_type": "code",
        "outputId": "36dcf736-9ceb-4b7f-9f0b-c0baf7550a3e",
        "id": "QfgoBC29jqpi",
        "colab": {
          "base_uri": "https://localhost:8080/",
          "height": 156
        }
      },
      "cell_type": "code",
      "source": [
        "# Applying Informative UnderSampling (Neighbourhood Cleaning Rule) - NCL\n",
        "print(\"Before UnderSampling, counts of label '1': {}\".format(sum(y_train==1)))\n",
        "print(\"Before UnderSampling, counts of label '0': {} \\n\".format(sum(y_train==0)))\n",
        "\n",
        "ncl = NeighbourhoodCleaningRule(sampling_strategy='auto')\n",
        "X_train_ncl, y_train_ncl = ncl.fit_sample(X_train, y_train.ravel())\n",
        "\n",
        "print('After UnderSampling, the shape of train_X: {}'.format(X_train_ncl.shape))\n",
        "print('After UnderSampling, the shape of train_y: {} \\n'.format(y_train_ncl.shape))\n",
        "\n",
        "print(\"After UnderSampling, counts of label '1': {}\".format(sum(y_train_ncl==1)))\n",
        "print(\"After UnderSampling, counts of label '0': {}\".format(sum(y_train_ncl==0)))"
      ],
      "execution_count": 97,
      "outputs": [
        {
          "output_type": "stream",
          "text": [
            "Before UnderSampling, counts of label '1': [345]\n",
            "Before UnderSampling, counts of label '0': [199019] \n",
            "\n",
            "After UnderSampling, the shape of train_X: (199040, 29)\n",
            "After UnderSampling, the shape of train_y: (199040,) \n",
            "\n",
            "After UnderSampling, counts of label '1': 345\n",
            "After UnderSampling, counts of label '0': 198695\n"
          ],
          "name": "stdout"
        }
      ]
    },
    {
      "metadata": {
        "colab_type": "text",
        "id": "m0dtfQ7ijqpg"
      },
      "cell_type": "markdown",
      "source": [
        "<center><Bold><font size ='+2'>SVM FOR UNDERBALANCED DATASETS</Bold></center></font>"
      ]
    },
    {
      "metadata": {
        "colab_type": "code",
        "outputId": "2b10c31c-1f30-4726-ff6b-8fb077745589",
        "id": "RYy_qxq0jqpc",
        "colab": {
          "base_uri": "https://localhost:8080/",
          "height": 330
        }
      },
      "cell_type": "code",
      "source": [
        "lsvm = svm.LinearSVC(C=1.0, dual=False)\n",
        "sv=lsvm.fit(X_train_rus50, y_train_rus50.ravel())\n",
        "y_pred_rus50_svm = lsvm.predict(X_test)\n",
        "print (sv)\n",
        "\n",
        "print('Confusion Matrix for SVM on RUS50 Dataset')\n",
        "print(confusion_matrix(y_test, y_pred_rus50_svm))  \n",
        "print ('Accuracy:', accuracy_score(y_test, y_pred_rus50_svm))\n",
        "print(classification_report(y_test, y_pred_rus50_svm))\n",
        "# plot_confusion_matrix(y_test, y_pred)\n",
        "print ('Kappa Score:', cohen_kappa_score(y_test, y_pred_rus50_svm))"
      ],
      "execution_count": 98,
      "outputs": [
        {
          "output_type": "stream",
          "text": [
            "LinearSVC(C=1.0, class_weight=None, dual=False, fit_intercept=True,\n",
            "     intercept_scaling=1, loss='squared_hinge', max_iter=1000,\n",
            "     multi_class='ovr', penalty='l2', random_state=None, tol=0.0001,\n",
            "     verbose=0)\n",
            "Confusion Matrix for SVM on RUS50 Dataset\n",
            "[[83101  2195]\n",
            " [   14   133]]\n",
            "Accuracy: 0.9741465070280771\n",
            "              precision    recall  f1-score   support\n",
            "\n",
            "           0       1.00      0.97      0.99     85296\n",
            "           1       0.06      0.90      0.11       147\n",
            "\n",
            "   micro avg       0.97      0.97      0.97     85443\n",
            "   macro avg       0.53      0.94      0.55     85443\n",
            "weighted avg       1.00      0.97      0.99     85443\n",
            "\n",
            "Kappa Score: 0.10457668989091762\n"
          ],
          "name": "stdout"
        }
      ]
    },
    {
      "metadata": {
        "colab_type": "code",
        "outputId": "1f48a455-25af-4bc6-d5b1-5ac24622a169",
        "id": "kde_0bOkjqpW",
        "colab": {
          "base_uri": "https://localhost:8080/",
          "height": 330
        }
      },
      "cell_type": "code",
      "source": [
        "lsvm = svm.LinearSVC(C=1.0, dual=False)\n",
        "sv=lsvm.fit(X_train_rus10, y_train_rus10.ravel())\n",
        "y_pred_rus10_svm = lsvm.predict(X_test)\n",
        "print (sv)\n",
        "\n",
        "print('Confusion Matrix for SVM on RUS10 Dataset')\n",
        "print(confusion_matrix(y_test, y_pred_rus10_svm))  \n",
        "print ('Accuracy:', accuracy_score(y_test, y_pred_rus10_svm))\n",
        "print(classification_report(y_test, y_pred_rus10_svm))\n",
        "# plot_confusion_matrix(y_test, y_pred)\n",
        "print ('Kappa Score:', cohen_kappa_score(y_test, y_pred_rus10_svm))"
      ],
      "execution_count": 100,
      "outputs": [
        {
          "output_type": "stream",
          "text": [
            "LinearSVC(C=1.0, class_weight=None, dual=False, fit_intercept=True,\n",
            "     intercept_scaling=1, loss='squared_hinge', max_iter=1000,\n",
            "     multi_class='ovr', penalty='l2', random_state=None, tol=0.0001,\n",
            "     verbose=0)\n",
            "Confusion Matrix for SVM on RUS10 Dataset\n",
            "[[85230    66]\n",
            " [   24   123]]\n",
            "Accuracy: 0.9989466661985184\n",
            "              precision    recall  f1-score   support\n",
            "\n",
            "           0       1.00      1.00      1.00     85296\n",
            "           1       0.65      0.84      0.73       147\n",
            "\n",
            "   micro avg       1.00      1.00      1.00     85443\n",
            "   macro avg       0.83      0.92      0.87     85443\n",
            "weighted avg       1.00      1.00      1.00     85443\n",
            "\n",
            "Kappa Score: 0.7316234140298483\n"
          ],
          "name": "stdout"
        }
      ]
    },
    {
      "metadata": {
        "colab_type": "code",
        "outputId": "468bed9c-2dba-48f1-a71b-3e097b4894dd",
        "id": "Whc2t_2PjqpR",
        "colab": {
          "base_uri": "https://localhost:8080/",
          "height": 330
        }
      },
      "cell_type": "code",
      "source": [
        "lsvm = svm.LinearSVC(C=1.0, dual=False)\n",
        "sv=lsvm.fit(X_train_rus1, y_train_rus1.ravel())\n",
        "y_pred_rus1_svm = lsvm.predict(X_test)\n",
        "print (sv)\n",
        "\n",
        "print('Confusion Matrix for SVM on RUS1 Dataset')\n",
        "print(confusion_matrix(y_test, y_pred_rus1_svm))  \n",
        "print ('Accuracy:', accuracy_score(y_test, y_pred_rus1_svm))\n",
        "print(classification_report(y_test, y_pred_rus1_svm))\n",
        "# plot_confusion_matrix(y_test, y_pred)\n",
        "print ('Kappa Score:', cohen_kappa_score(y_test, y_pred_rus1_svm))"
      ],
      "execution_count": 101,
      "outputs": [
        {
          "output_type": "stream",
          "text": [
            "LinearSVC(C=1.0, class_weight=None, dual=False, fit_intercept=True,\n",
            "     intercept_scaling=1, loss='squared_hinge', max_iter=1000,\n",
            "     multi_class='ovr', penalty='l2', random_state=None, tol=0.0001,\n",
            "     verbose=0)\n",
            "Confusion Matrix for SVM on RUS1 Dataset\n",
            "[[85273    23]\n",
            " [   30   117]]\n",
            "Accuracy: 0.9993797034280163\n",
            "              precision    recall  f1-score   support\n",
            "\n",
            "           0       1.00      1.00      1.00     85296\n",
            "           1       0.84      0.80      0.82       147\n",
            "\n",
            "   micro avg       1.00      1.00      1.00     85443\n",
            "   macro avg       0.92      0.90      0.91     85443\n",
            "weighted avg       1.00      1.00      1.00     85443\n",
            "\n",
            "Kappa Score: 0.815020525525509\n"
          ],
          "name": "stdout"
        }
      ]
    },
    {
      "metadata": {
        "colab_type": "code",
        "outputId": "49ae32d8-2ece-4db5-eaf1-03221a77223b",
        "id": "uDrwVzvqjqpM",
        "colab": {
          "base_uri": "https://localhost:8080/",
          "height": 330
        }
      },
      "cell_type": "code",
      "source": [
        "lsvm = svm.LinearSVC(C=1.0, dual=False)\n",
        "sv=lsvm.fit(X_train_enn, y_train_enn.ravel())\n",
        "y_pred_enn_svm = lsvm.predict(X_test)\n",
        "print (sv)\n",
        "\n",
        "print('Confusion Matrix for SVM on ENN Dataset')\n",
        "print(confusion_matrix(y_test, y_pred_enn_svm))  \n",
        "print ('Accuracy:', accuracy_score(y_test, y_pred_enn_svm))\n",
        "print(classification_report(y_test, y_pred_enn_svm))\n",
        "# plot_confusion_matrix(y_test, y_pred)\n",
        "print ('Kappa Score:', cohen_kappa_score(y_test, y_pred_enn_svm))"
      ],
      "execution_count": 102,
      "outputs": [
        {
          "output_type": "stream",
          "text": [
            "LinearSVC(C=1.0, class_weight=None, dual=False, fit_intercept=True,\n",
            "     intercept_scaling=1, loss='squared_hinge', max_iter=1000,\n",
            "     multi_class='ovr', penalty='l2', random_state=None, tol=0.0001,\n",
            "     verbose=0)\n",
            "Confusion Matrix for SVM on ENN Dataset\n",
            "[[85284    12]\n",
            " [   51    96]]\n",
            "Accuracy: 0.9992626663389628\n",
            "              precision    recall  f1-score   support\n",
            "\n",
            "           0       1.00      1.00      1.00     85296\n",
            "           1       0.89      0.65      0.75       147\n",
            "\n",
            "   micro avg       1.00      1.00      1.00     85443\n",
            "   macro avg       0.94      0.83      0.88     85443\n",
            "weighted avg       1.00      1.00      1.00     85443\n",
            "\n",
            "Kappa Score: 0.7525806076636592\n"
          ],
          "name": "stdout"
        }
      ]
    },
    {
      "metadata": {
        "colab_type": "code",
        "id": "5r1WSE3pjqpI",
        "colab": {}
      },
      "cell_type": "code",
      "source": [
        "lsvm = svm.LinearSVC(C=1.0, dual=False)\n",
        "sv=lsvm.fit(X_train_cnn, y_train_cnn.ravel())\n",
        "y_pred_cnn_svm = lsvm.predict(X_test)\n",
        "print (sv)\n",
        "\n",
        "print('Confusion Matrix for SVM on CNN Dataset')\n",
        "print(confusion_matrix(y_test, y_pred_cnn_svm))  \n",
        "print ('Accuracy:', accuracy_score(y_test, y_pred_cnn_svm))\n",
        "print(classification_report(y_test, y_pred_cnn_svm))\n",
        "# plot_confusion_matrix(y_test, y_pred)\n",
        "print ('Kappa Score:', cohen_kappa_score(y_test, y_pred_cnn_svm))"
      ],
      "execution_count": 0,
      "outputs": []
    },
    {
      "metadata": {
        "colab_type": "code",
        "outputId": "53a3dec9-2228-452f-ffbf-5025795085a6",
        "id": "W9FSGWDZjqpD",
        "colab": {
          "base_uri": "https://localhost:8080/",
          "height": 330
        }
      },
      "cell_type": "code",
      "source": [
        "lsvm = svm.LinearSVC(C=1.0, dual=False)\n",
        "sv=lsvm.fit(X_train_ncl, y_train_ncl.ravel())\n",
        "y_pred_ncl_svm = lsvm.predict(X_test)\n",
        "print (sv)\n",
        "\n",
        "print('Confusion Matrix for SVM on NCL Dataset')\n",
        "print(confusion_matrix(y_test, y_pred_ncl_svm))  \n",
        "print ('Accuracy:', accuracy_score(y_test, y_pred_ncl_svm))\n",
        "print(classification_report(y_test, y_pred_ncl_svm))\n",
        "# plot_confusion_matrix(y_test, y_pred)\n",
        "print ('Kappa Score:', cohen_kappa_score(y_test, y_pred_ncl_svm))"
      ],
      "execution_count": 103,
      "outputs": [
        {
          "output_type": "stream",
          "text": [
            "LinearSVC(C=1.0, class_weight=None, dual=False, fit_intercept=True,\n",
            "     intercept_scaling=1, loss='squared_hinge', max_iter=1000,\n",
            "     multi_class='ovr', penalty='l2', random_state=None, tol=0.0001,\n",
            "     verbose=0)\n",
            "Confusion Matrix for SVM on NCL Dataset\n",
            "[[85282    14]\n",
            " [   42   105]]\n",
            "Accuracy: 0.9993445923013002\n",
            "              precision    recall  f1-score   support\n",
            "\n",
            "           0       1.00      1.00      1.00     85296\n",
            "           1       0.88      0.71      0.79       147\n",
            "\n",
            "   micro avg       1.00      1.00      1.00     85443\n",
            "   macro avg       0.94      0.86      0.89     85443\n",
            "weighted avg       1.00      1.00      1.00     85443\n",
            "\n",
            "Kappa Score: 0.7891491117996099\n"
          ],
          "name": "stdout"
        }
      ]
    },
    {
      "metadata": {
        "colab_type": "text",
        "id": "zCc9sl1sjqpC"
      },
      "cell_type": "markdown",
      "source": [
        "<center><Bold><font size ='+2'>NAIVE BAYES FOR UNDERBALANCED DATASETS</Bold></center></font>"
      ]
    },
    {
      "metadata": {
        "colab_type": "code",
        "outputId": "403a8d6c-8982-42c8-d780-5502b0ca1870",
        "id": "LPGDtKpojqo9",
        "colab": {
          "base_uri": "https://localhost:8080/",
          "height": 278
        }
      },
      "cell_type": "code",
      "source": [
        "classifier = GaussianNB()\n",
        "model=classifier.fit(X_train_rus50, y_train_rus50.ravel())\n",
        "y_pred_rus50_nb = model.predict(X_test)\n",
        "print (model)\n",
        "\n",
        "print('Confusion Matrix for Naive Bayes on RUS50 Dataset')\n",
        "print(confusion_matrix(y_test, y_pred_rus50_nb))  \n",
        "print ('Accuracy:', accuracy_score(y_test, y_pred_rus50_nb))\n",
        "print(classification_report(y_test, y_pred_rus50_nb))\n",
        "print ('Kappa Score:', cohen_kappa_score(y_test, y_pred_rus50_nb))"
      ],
      "execution_count": 104,
      "outputs": [
        {
          "output_type": "stream",
          "text": [
            "GaussianNB(priors=None, var_smoothing=1e-09)\n",
            "Confusion Matrix for Naive Bayes on RUS50 Dataset\n",
            "[[82003  3293]\n",
            " [   22   125]]\n",
            "Accuracy: 0.9612022049787577\n",
            "              precision    recall  f1-score   support\n",
            "\n",
            "           0       1.00      0.96      0.98     85296\n",
            "           1       0.04      0.85      0.07       147\n",
            "\n",
            "   micro avg       0.96      0.96      0.96     85443\n",
            "   macro avg       0.52      0.91      0.53     85443\n",
            "weighted avg       1.00      0.96      0.98     85443\n",
            "\n",
            "Kappa Score: 0.0670484124766213\n"
          ],
          "name": "stdout"
        }
      ]
    },
    {
      "metadata": {
        "colab_type": "code",
        "outputId": "ee5a2150-5303-426c-c584-874dfe4086a8",
        "id": "cgAynNWAjqo3",
        "colab": {
          "base_uri": "https://localhost:8080/",
          "height": 278
        }
      },
      "cell_type": "code",
      "source": [
        "classifier = GaussianNB()\n",
        "model=classifier.fit(X_train_rus10, y_train_rus10.ravel())\n",
        "y_pred_rus10_nb = model.predict(X_test)\n",
        "print (model)\n",
        "\n",
        "print('Confusion Matrix for Naive Bayes on RUS10 Dataset')\n",
        "print(confusion_matrix(y_test, y_pred_rus10_nb))  \n",
        "print ('Accuracy:', accuracy_score(y_test, y_pred_rus10_nb))\n",
        "print(classification_report(y_test, y_pred_rus10_nb))\n",
        "print ('Kappa Score:', cohen_kappa_score(y_test, y_pred_rus10_nb))"
      ],
      "execution_count": 105,
      "outputs": [
        {
          "output_type": "stream",
          "text": [
            "GaussianNB(priors=None, var_smoothing=1e-09)\n",
            "Confusion Matrix for Naive Bayes on RUS10 Dataset\n",
            "[[83466  1830]\n",
            " [   22   125]]\n",
            "Accuracy: 0.9783247311072879\n",
            "              precision    recall  f1-score   support\n",
            "\n",
            "           0       1.00      0.98      0.99     85296\n",
            "           1       0.06      0.85      0.12       147\n",
            "\n",
            "   micro avg       0.98      0.98      0.98     85443\n",
            "   macro avg       0.53      0.91      0.55     85443\n",
            "weighted avg       1.00      0.98      0.99     85443\n",
            "\n",
            "Kappa Score: 0.11610565895482139\n"
          ],
          "name": "stdout"
        }
      ]
    },
    {
      "metadata": {
        "colab_type": "code",
        "outputId": "dc532be1-e5cd-4a7f-8903-3dd6bbb5a027",
        "id": "xik9DuZ5jqou",
        "colab": {
          "base_uri": "https://localhost:8080/",
          "height": 278
        }
      },
      "cell_type": "code",
      "source": [
        "classifier = GaussianNB()\n",
        "model=classifier.fit(X_train_rus1, y_train_rus1.ravel())\n",
        "y_pred_rus1_nb = model.predict(X_test)\n",
        "print (model)\n",
        "\n",
        "print('Confusion Matrix for Naive Bayes on RUS1 Dataset')\n",
        "print(confusion_matrix(y_test, y_pred_rus1_nb))  \n",
        "print ('Accuracy:', accuracy_score(y_test, y_pred_rus1_nb))\n",
        "print(classification_report(y_test, y_pred_rus1_nb))\n",
        "print ('Kappa Score:', cohen_kappa_score(y_test, y_pred_rus1_nb))"
      ],
      "execution_count": 106,
      "outputs": [
        {
          "output_type": "stream",
          "text": [
            "GaussianNB(priors=None, var_smoothing=1e-09)\n",
            "Confusion Matrix for Naive Bayes on RUS1 Dataset\n",
            "[[83469  1827]\n",
            " [   24   123]]\n",
            "Accuracy: 0.9783364348161933\n",
            "              precision    recall  f1-score   support\n",
            "\n",
            "           0       1.00      0.98      0.99     85296\n",
            "           1       0.06      0.84      0.12       147\n",
            "\n",
            "   micro avg       0.98      0.98      0.98     85443\n",
            "   macro avg       0.53      0.91      0.55     85443\n",
            "weighted avg       1.00      0.98      0.99     85443\n",
            "\n",
            "Kappa Score: 0.1144770503129856\n"
          ],
          "name": "stdout"
        }
      ]
    },
    {
      "metadata": {
        "colab_type": "code",
        "outputId": "9aa6855c-9046-43c0-8106-eae351329f27",
        "id": "XDHrUPyKjqop",
        "colab": {
          "base_uri": "https://localhost:8080/",
          "height": 278
        }
      },
      "cell_type": "code",
      "source": [
        "classifier = GaussianNB()\n",
        "model=classifier.fit(X_train_enn, y_train_enn.ravel())\n",
        "y_pred_enn_nb = model.predict(X_test)\n",
        "print (model)\n",
        "\n",
        "print('Confusion Matrix for Naive Bayes on ENN Dataset')\n",
        "print(confusion_matrix(y_test, y_pred_enn_nb))  \n",
        "print ('Accuracy:', accuracy_score(y_test, y_pred_enn_nb))\n",
        "print(classification_report(y_test, y_pred_enn_nb))\n",
        "print ('Kappa Score:', cohen_kappa_score(y_test, y_pred_enn_nb))"
      ],
      "execution_count": 107,
      "outputs": [
        {
          "output_type": "stream",
          "text": [
            "GaussianNB(priors=None, var_smoothing=1e-09)\n",
            "Confusion Matrix for Naive Bayes on ENN Dataset\n",
            "[[83466  1830]\n",
            " [   24   123]]\n",
            "Accuracy: 0.9783013236894772\n",
            "              precision    recall  f1-score   support\n",
            "\n",
            "           0       1.00      0.98      0.99     85296\n",
            "           1       0.06      0.84      0.12       147\n",
            "\n",
            "   micro avg       0.98      0.98      0.98     85443\n",
            "   macro avg       0.53      0.91      0.55     85443\n",
            "weighted avg       1.00      0.98      0.99     85443\n",
            "\n",
            "Kappa Score: 0.11430861984827378\n"
          ],
          "name": "stdout"
        }
      ]
    },
    {
      "metadata": {
        "colab_type": "code",
        "id": "9L8k1sjSjqof",
        "colab": {}
      },
      "cell_type": "code",
      "source": [
        "classifier = GaussianNB()\n",
        "model=classifier.fit(X_train_cnn, y_train_cnn.ravel())\n",
        "y_pred_cnn_nb = model.predict(X_test)\n",
        "print (model)\n",
        "\n",
        "print('Confusion Matrix for Naive Bayes on CNN Dataset')\n",
        "print(confusion_matrix(y_test, y_pred_cnn_nb))  \n",
        "print ('Accuracy:', accuracy_score(y_test, y_pred_cnn_nb))\n",
        "print(classification_report(y_test, y_pred_cnn_nb))\n",
        "print ('Kappa Score:', cohen_kappa_score(y_test, y_pred_cnn_nb))"
      ],
      "execution_count": 0,
      "outputs": []
    },
    {
      "metadata": {
        "colab_type": "code",
        "outputId": "48753f4a-8ad7-4533-a3cb-c0ff28fd19f0",
        "id": "wtpsznrGjqoZ",
        "colab": {
          "base_uri": "https://localhost:8080/",
          "height": 278
        }
      },
      "cell_type": "code",
      "source": [
        "classifier = GaussianNB()\n",
        "model=classifier.fit(X_train_ncl, y_train_ncl.ravel())\n",
        "y_pred_ncl_nb = model.predict(X_test)\n",
        "print (model)\n",
        "\n",
        "print('Confusion Matrix for Naive Bayes on NCL Dataset')\n",
        "print(confusion_matrix(y_test, y_pred_ncl_nb))  \n",
        "print ('Accuracy:', accuracy_score(y_test, y_pred_ncl_nb))\n",
        "print(classification_report(y_test, y_pred_ncl_nb))\n",
        "print ('Kappa Score:', cohen_kappa_score(y_test, y_pred_ncl_nb))"
      ],
      "execution_count": 108,
      "outputs": [
        {
          "output_type": "stream",
          "text": [
            "GaussianNB(priors=None, var_smoothing=1e-09)\n",
            "Confusion Matrix for Naive Bayes on NCL Dataset\n",
            "[[83466  1830]\n",
            " [   24   123]]\n",
            "Accuracy: 0.9783013236894772\n",
            "              precision    recall  f1-score   support\n",
            "\n",
            "           0       1.00      0.98      0.99     85296\n",
            "           1       0.06      0.84      0.12       147\n",
            "\n",
            "   micro avg       0.98      0.98      0.98     85443\n",
            "   macro avg       0.53      0.91      0.55     85443\n",
            "weighted avg       1.00      0.98      0.99     85443\n",
            "\n",
            "Kappa Score: 0.11430861984827378\n"
          ],
          "name": "stdout"
        }
      ]
    },
    {
      "metadata": {
        "colab_type": "text",
        "id": "tI5nmqXOjqoY"
      },
      "cell_type": "markdown",
      "source": [
        "<center><Bold><font size ='+2'>RANDOM FOREST FOR UNDERBALANCED DATASETS</Bold></center></font>"
      ]
    },
    {
      "metadata": {
        "colab_type": "code",
        "outputId": "e02fb433-46a5-4d8c-ebb9-5d1c34369025",
        "id": "iFKz0OZjjqoT",
        "colab": {
          "base_uri": "https://localhost:8080/",
          "height": 382
        }
      },
      "cell_type": "code",
      "source": [
        "rf = RandomForestClassifier(n_estimators=25)\n",
        "rfmod=rf.fit(X_train_rus50, y_train_rus50.ravel())\n",
        "y_pred_rus50_rf = rf.predict(X_test)\n",
        "print (rfmod)\n",
        "\n",
        "print('Confusion Matrix for Random Forest on RUS50 Dataset')\n",
        "print(confusion_matrix(y_test, y_pred_rus50_rf))  \n",
        "print ('Accuracy:', accuracy_score(y_test, y_pred_rus50_rf))\n",
        "print(classification_report(y_test, y_pred_rus50_rf))\n",
        "print ('Kappa Score:', cohen_kappa_score(y_test, y_pred_rus50_rf))"
      ],
      "execution_count": 109,
      "outputs": [
        {
          "output_type": "stream",
          "text": [
            "RandomForestClassifier(bootstrap=True, class_weight=None, criterion='gini',\n",
            "            max_depth=None, max_features='auto', max_leaf_nodes=None,\n",
            "            min_impurity_decrease=0.0, min_impurity_split=None,\n",
            "            min_samples_leaf=1, min_samples_split=2,\n",
            "            min_weight_fraction_leaf=0.0, n_estimators=25, n_jobs=None,\n",
            "            oob_score=False, random_state=None, verbose=0,\n",
            "            warm_start=False)\n",
            "Confusion Matrix for Random Forest on RUS50 Dataset\n",
            "[[83045  2251]\n",
            " [   15   132]]\n",
            "Accuracy: 0.9734793956204721\n",
            "              precision    recall  f1-score   support\n",
            "\n",
            "           0       1.00      0.97      0.99     85296\n",
            "           1       0.06      0.90      0.10       147\n",
            "\n",
            "   micro avg       0.97      0.97      0.97     85443\n",
            "   macro avg       0.53      0.94      0.55     85443\n",
            "weighted avg       1.00      0.97      0.99     85443\n",
            "\n",
            "Kappa Score: 0.10143561020144465\n"
          ],
          "name": "stdout"
        }
      ]
    },
    {
      "metadata": {
        "colab_type": "code",
        "outputId": "5ec06a5a-e7a0-4fb2-bd24-eacc2c53c177",
        "id": "J4iQ_NACjqoK",
        "colab": {
          "base_uri": "https://localhost:8080/",
          "height": 382
        }
      },
      "cell_type": "code",
      "source": [
        "rf = RandomForestClassifier(n_estimators=25)\n",
        "rfmod=rf.fit(X_train_rus10, y_train_rus10.ravel())\n",
        "y_pred_rus10_rf = rf.predict(X_test)\n",
        "print (rfmod)\n",
        "\n",
        "print('Confusion Matrix for Random Forest on RUS10 Dataset')\n",
        "print(confusion_matrix(y_test, y_pred_rus10_rf))  \n",
        "print ('Accuracy:', accuracy_score(y_test, y_pred_rus10_rf))\n",
        "print(classification_report(y_test, y_pred_rus10_rf))\n",
        "print ('Kappa Score:', cohen_kappa_score(y_test, y_pred_rus10_rf))"
      ],
      "execution_count": 110,
      "outputs": [
        {
          "output_type": "stream",
          "text": [
            "RandomForestClassifier(bootstrap=True, class_weight=None, criterion='gini',\n",
            "            max_depth=None, max_features='auto', max_leaf_nodes=None,\n",
            "            min_impurity_decrease=0.0, min_impurity_split=None,\n",
            "            min_samples_leaf=1, min_samples_split=2,\n",
            "            min_weight_fraction_leaf=0.0, n_estimators=25, n_jobs=None,\n",
            "            oob_score=False, random_state=None, verbose=0,\n",
            "            warm_start=False)\n",
            "Confusion Matrix for Random Forest on RUS10 Dataset\n",
            "[[85193   103]\n",
            " [   23   124]]\n",
            "Accuracy: 0.9985253326779256\n",
            "              precision    recall  f1-score   support\n",
            "\n",
            "           0       1.00      1.00      1.00     85296\n",
            "           1       0.55      0.84      0.66       147\n",
            "\n",
            "   micro avg       1.00      1.00      1.00     85443\n",
            "   macro avg       0.77      0.92      0.83     85443\n",
            "weighted avg       1.00      1.00      1.00     85443\n",
            "\n",
            "Kappa Score: 0.6623965346735847\n"
          ],
          "name": "stdout"
        }
      ]
    },
    {
      "metadata": {
        "colab_type": "code",
        "outputId": "0af94795-66c2-4776-ced0-0aa771d0c22d",
        "id": "rccdPIxejqoG",
        "colab": {
          "base_uri": "https://localhost:8080/",
          "height": 382
        }
      },
      "cell_type": "code",
      "source": [
        "rf = RandomForestClassifier(n_estimators=25)\n",
        "rfmod=rf.fit(X_train_rus1, y_train_rus1.ravel())\n",
        "y_pred_rus1_rf = rf.predict(X_test)\n",
        "print (rfmod)\n",
        "\n",
        "print('Confusion Matrix for Random Forest on RUS1 Dataset')\n",
        "print(confusion_matrix(y_test, y_pred_rus1_rf))  \n",
        "print ('Accuracy:', accuracy_score(y_test, y_pred_rus1_rf))\n",
        "print(classification_report(y_test, y_pred_rus1_rf))\n",
        "print ('Kappa Score:', cohen_kappa_score(y_test, y_pred_rus1_rf))"
      ],
      "execution_count": 111,
      "outputs": [
        {
          "output_type": "stream",
          "text": [
            "RandomForestClassifier(bootstrap=True, class_weight=None, criterion='gini',\n",
            "            max_depth=None, max_features='auto', max_leaf_nodes=None,\n",
            "            min_impurity_decrease=0.0, min_impurity_split=None,\n",
            "            min_samples_leaf=1, min_samples_split=2,\n",
            "            min_weight_fraction_leaf=0.0, n_estimators=25, n_jobs=None,\n",
            "            oob_score=False, random_state=None, verbose=0,\n",
            "            warm_start=False)\n",
            "Confusion Matrix for Random Forest on RUS1 Dataset\n",
            "[[85270    26]\n",
            " [   29   118]]\n",
            "Accuracy: 0.9993562960102056\n",
            "              precision    recall  f1-score   support\n",
            "\n",
            "           0       1.00      1.00      1.00     85296\n",
            "           1       0.82      0.80      0.81       147\n",
            "\n",
            "   micro avg       1.00      1.00      1.00     85443\n",
            "   macro avg       0.91      0.90      0.91     85443\n",
            "weighted avg       1.00      1.00      1.00     85443\n",
            "\n",
            "Kappa Score: 0.8106741968892629\n"
          ],
          "name": "stdout"
        }
      ]
    },
    {
      "metadata": {
        "colab_type": "code",
        "outputId": "1a233d7f-4321-4a5f-fda6-ef417fe56e33",
        "id": "QP5_wuxYjqn2",
        "colab": {
          "base_uri": "https://localhost:8080/",
          "height": 382
        }
      },
      "cell_type": "code",
      "source": [
        "rf = RandomForestClassifier(n_estimators=25)\n",
        "rfmod=rf.fit(X_train_enn, y_train_enn.ravel())\n",
        "y_pred_enn_rf = rf.predict(X_test)\n",
        "print (rfmod)\n",
        "\n",
        "print('Confusion Matrix for Random Forest on ENN Dataset')\n",
        "print(confusion_matrix(y_test, y_pred_enn_rf))  \n",
        "print ('Accuracy:', accuracy_score(y_test, y_pred_enn_rf))\n",
        "print(classification_report(y_test, y_pred_enn_rf))\n",
        "print ('Kappa Score:', cohen_kappa_score(y_test, y_pred_enn_rf))"
      ],
      "execution_count": 112,
      "outputs": [
        {
          "output_type": "stream",
          "text": [
            "RandomForestClassifier(bootstrap=True, class_weight=None, criterion='gini',\n",
            "            max_depth=None, max_features='auto', max_leaf_nodes=None,\n",
            "            min_impurity_decrease=0.0, min_impurity_split=None,\n",
            "            min_samples_leaf=1, min_samples_split=2,\n",
            "            min_weight_fraction_leaf=0.0, n_estimators=25, n_jobs=None,\n",
            "            oob_score=False, random_state=None, verbose=0,\n",
            "            warm_start=False)\n",
            "Confusion Matrix for Random Forest on ENN Dataset\n",
            "[[85283    13]\n",
            " [   35   112]]\n",
            "Accuracy: 0.9994382219725431\n",
            "              precision    recall  f1-score   support\n",
            "\n",
            "           0       1.00      1.00      1.00     85296\n",
            "           1       0.90      0.76      0.82       147\n",
            "\n",
            "   micro avg       1.00      1.00      1.00     85443\n",
            "   macro avg       0.95      0.88      0.91     85443\n",
            "weighted avg       1.00      1.00      1.00     85443\n",
            "\n",
            "Kappa Score: 0.8232499183537003\n"
          ],
          "name": "stdout"
        }
      ]
    },
    {
      "metadata": {
        "colab_type": "code",
        "id": "qQXlXwjcjqnt",
        "colab": {}
      },
      "cell_type": "code",
      "source": [
        "rf = RandomForestClassifier(n_estimators=25)\n",
        "rfmod=rf.fit(X_train_cnn, y_train_cnn.ravel())\n",
        "y_pred_cnn_rf = rf.predict(X_test)\n",
        "print (rfmod)\n",
        "\n",
        "print('Confusion Matrix for Random Forest on CNN Dataset')\n",
        "print(confusion_matrix(y_test, y_pred_cnn_rf))  \n",
        "print ('Accuracy:', accuracy_score(y_test, y_pred_cnn_rf))\n",
        "print(classification_report(y_test, y_pred_cnn_rf))\n",
        "print ('Kappa Score:', cohen_kappa_score(y_test, y_pred_cnn_rf))"
      ],
      "execution_count": 0,
      "outputs": []
    },
    {
      "metadata": {
        "colab_type": "code",
        "outputId": "02da2890-3047-4992-f854-3f25fd09eb49",
        "id": "wePFtxSGjqno",
        "colab": {
          "base_uri": "https://localhost:8080/",
          "height": 382
        }
      },
      "cell_type": "code",
      "source": [
        "rf = RandomForestClassifier(n_estimators=25)\n",
        "rfmod=rf.fit(X_train_ncl, y_train_ncl.ravel())\n",
        "y_pred_ncl_rf = rf.predict(X_test)\n",
        "print (rfmod)\n",
        "\n",
        "print('Confusion Matrix for Random Forest on NCL Dataset')\n",
        "print(confusion_matrix(y_test, y_pred_ncl_rf))  \n",
        "print ('Accuracy:', accuracy_score(y_test, y_pred_ncl_rf))\n",
        "print(classification_report(y_test, y_pred_ncl_rf))\n",
        "print ('Kappa Score:', cohen_kappa_score(y_test, y_pred_ncl_rf))"
      ],
      "execution_count": 113,
      "outputs": [
        {
          "output_type": "stream",
          "text": [
            "RandomForestClassifier(bootstrap=True, class_weight=None, criterion='gini',\n",
            "            max_depth=None, max_features='auto', max_leaf_nodes=None,\n",
            "            min_impurity_decrease=0.0, min_impurity_split=None,\n",
            "            min_samples_leaf=1, min_samples_split=2,\n",
            "            min_weight_fraction_leaf=0.0, n_estimators=25, n_jobs=None,\n",
            "            oob_score=False, random_state=None, verbose=0,\n",
            "            warm_start=False)\n",
            "Confusion Matrix for Random Forest on NCL Dataset\n",
            "[[85285    11]\n",
            " [   35   112]]\n",
            "Accuracy: 0.9994616293903538\n",
            "              precision    recall  f1-score   support\n",
            "\n",
            "           0       1.00      1.00      1.00     85296\n",
            "           1       0.91      0.76      0.83       147\n",
            "\n",
            "   micro avg       1.00      1.00      1.00     85443\n",
            "   macro avg       0.96      0.88      0.91     85443\n",
            "weighted avg       1.00      1.00      1.00     85443\n",
            "\n",
            "Kappa Score: 0.8293621519452927\n"
          ],
          "name": "stdout"
        }
      ]
    },
    {
      "metadata": {
        "colab_type": "text",
        "id": "FytB-8AUjqnl"
      },
      "cell_type": "markdown",
      "source": [
        "<center><Bold><font size ='+2'>DECISION TREE FOR UNDERBALANCED DATASETS</Bold></center></font>"
      ]
    },
    {
      "metadata": {
        "colab_type": "code",
        "outputId": "da90c2b7-ab7e-45d9-fe55-4cd9424d3023",
        "id": "h0Af3XPtjqnf",
        "colab": {
          "base_uri": "https://localhost:8080/",
          "height": 260
        }
      },
      "cell_type": "code",
      "source": [
        "decisionTreeClf = tree.DecisionTreeClassifier()\n",
        "decisionTreeClf = decisionTreeClf.fit(X_train_rus50, y_train_rus50.ravel())\n",
        "y_pred_rus50_dt = decisionTreeClf.predict(X_test)\n",
        "decisionTreeClf\n",
        "\n",
        "print('Confusion Matrix for Decision Tree on RUS50 Dataset')\n",
        "print(confusion_matrix(y_test, y_pred_rus50_dt))  \n",
        "print ('Accuracy:', accuracy_score(y_test, y_pred_rus50_dt))\n",
        "print(classification_report(y_test, y_pred_rus50_dt))\n",
        "print ('Kappa Score:', cohen_kappa_score(y_test, y_pred_rus50_dt))"
      ],
      "execution_count": 114,
      "outputs": [
        {
          "output_type": "stream",
          "text": [
            "Confusion Matrix for Decision Tree on RUS50 Dataset\n",
            "[[78785  6511]\n",
            " [   16   131]]\n",
            "Accuracy: 0.9236098919747668\n",
            "              precision    recall  f1-score   support\n",
            "\n",
            "           0       1.00      0.92      0.96     85296\n",
            "           1       0.02      0.89      0.04       147\n",
            "\n",
            "   micro avg       0.92      0.92      0.92     85443\n",
            "   macro avg       0.51      0.91      0.50     85443\n",
            "weighted avg       1.00      0.92      0.96     85443\n",
            "\n",
            "Kappa Score: 0.03534443681436483\n"
          ],
          "name": "stdout"
        }
      ]
    },
    {
      "metadata": {
        "colab_type": "code",
        "outputId": "d5741f48-6da2-4139-fb01-c79d2e7cc965",
        "id": "8U0XV2k7jqnZ",
        "colab": {
          "base_uri": "https://localhost:8080/",
          "height": 260
        }
      },
      "cell_type": "code",
      "source": [
        "decisionTreeClf = tree.DecisionTreeClassifier()\n",
        "decisionTreeClf = decisionTreeClf.fit(X_train_rus10, y_train_rus10.ravel())\n",
        "y_pred_rus10_dt = decisionTreeClf.predict(X_test)\n",
        "decisionTreeClf\n",
        "\n",
        "print('Confusion Matrix for Decision Tree on RUS10 Dataset')\n",
        "print(confusion_matrix(y_test, y_pred_rus10_dt))  \n",
        "print ('Accuracy:', accuracy_score(y_test, y_pred_rus10_dt))\n",
        "print(classification_report(y_test, y_pred_rus10_dt))\n",
        "print ('Kappa Score:', cohen_kappa_score(y_test, y_pred_rus10_dt))"
      ],
      "execution_count": 115,
      "outputs": [
        {
          "output_type": "stream",
          "text": [
            "Confusion Matrix for Decision Tree on RUS10 Dataset\n",
            "[[84091  1205]\n",
            " [   22   125]]\n",
            "Accuracy: 0.985639549173133\n",
            "              precision    recall  f1-score   support\n",
            "\n",
            "           0       1.00      0.99      0.99     85296\n",
            "           1       0.09      0.85      0.17       147\n",
            "\n",
            "   micro avg       0.99      0.99      0.99     85443\n",
            "   macro avg       0.55      0.92      0.58     85443\n",
            "weighted avg       1.00      0.99      0.99     85443\n",
            "\n",
            "Kappa Score: 0.16668003224048233\n"
          ],
          "name": "stdout"
        }
      ]
    },
    {
      "metadata": {
        "colab_type": "code",
        "outputId": "5210c29f-f243-4019-b97e-511c36c2c196",
        "id": "GmMjT8KUjqnP",
        "colab": {
          "base_uri": "https://localhost:8080/",
          "height": 260
        }
      },
      "cell_type": "code",
      "source": [
        "decisionTreeClf = tree.DecisionTreeClassifier()\n",
        "decisionTreeClf = decisionTreeClf.fit(X_train_rus1, y_train_rus1.ravel())\n",
        "y_pred_rus1_dt = decisionTreeClf.predict(X_test)\n",
        "decisionTreeClf\n",
        "\n",
        "print('Confusion Matrix for Decision Tree on RUS1 Dataset')\n",
        "print(confusion_matrix(y_test, y_pred_rus1_dt))  \n",
        "print ('Accuracy:', accuracy_score(y_test, y_pred_rus1_dt))\n",
        "print(classification_report(y_test, y_pred_rus1_dt))\n",
        "print ('Kappa Score:', cohen_kappa_score(y_test, y_pred_rus1_dt))"
      ],
      "execution_count": 116,
      "outputs": [
        {
          "output_type": "stream",
          "text": [
            "Confusion Matrix for Decision Tree on RUS1 Dataset\n",
            "[[85143   153]\n",
            " [   26   121]]\n",
            "Accuracy: 0.997905036105942\n",
            "              precision    recall  f1-score   support\n",
            "\n",
            "           0       1.00      1.00      1.00     85296\n",
            "           1       0.44      0.82      0.57       147\n",
            "\n",
            "   micro avg       1.00      1.00      1.00     85443\n",
            "   macro avg       0.72      0.91      0.79     85443\n",
            "weighted avg       1.00      1.00      1.00     85443\n",
            "\n",
            "Kappa Score: 0.5738675549575217\n"
          ],
          "name": "stdout"
        }
      ]
    },
    {
      "metadata": {
        "colab_type": "code",
        "outputId": "c5289dc5-01e9-46b1-d553-29512394510a",
        "id": "g6HpsSZvjqnK",
        "colab": {
          "base_uri": "https://localhost:8080/",
          "height": 260
        }
      },
      "cell_type": "code",
      "source": [
        "decisionTreeClf = tree.DecisionTreeClassifier()\n",
        "decisionTreeClf = decisionTreeClf.fit(X_train_enn, y_train_enn.ravel())\n",
        "y_pred_enn_dt = decisionTreeClf.predict(X_test)\n",
        "decisionTreeClf\n",
        "\n",
        "print('Confusion Matrix for Decision Tree on ENN Dataset')\n",
        "print(confusion_matrix(y_test, y_pred_enn_dt))  \n",
        "print ('Accuracy:', accuracy_score(y_test, y_pred_enn_dt))\n",
        "print(classification_report(y_test, y_pred_enn_dt))\n",
        "print ('Kappa Score:', cohen_kappa_score(y_test, y_pred_enn_dt))"
      ],
      "execution_count": 117,
      "outputs": [
        {
          "output_type": "stream",
          "text": [
            "Confusion Matrix for Decision Tree on ENN Dataset\n",
            "[[85264    32]\n",
            " [   31   116]]\n",
            "Accuracy: 0.9992626663389628\n",
            "              precision    recall  f1-score   support\n",
            "\n",
            "           0       1.00      1.00      1.00     85296\n",
            "           1       0.78      0.79      0.79       147\n",
            "\n",
            "   micro avg       1.00      1.00      1.00     85443\n",
            "   macro avg       0.89      0.89      0.89     85443\n",
            "weighted avg       1.00      1.00      1.00     85443\n",
            "\n",
            "Kappa Score: 0.7860713778575483\n"
          ],
          "name": "stdout"
        }
      ]
    },
    {
      "metadata": {
        "colab_type": "code",
        "id": "y3QnrRyFjqnE",
        "colab": {}
      },
      "cell_type": "code",
      "source": [
        "decisionTreeClf = tree.DecisionTreeClassifier()\n",
        "decisionTreeClf = decisionTreeClf.fit(X_train_cnn, y_train_cnn.ravel())\n",
        "y_pred_cnn_dt = decisionTreeClf.predict(X_test)\n",
        "decisionTreeClf\n",
        "\n",
        "print('Confusion Matrix for Decision Tree on CNN Dataset')\n",
        "print(confusion_matrix(y_test, y_pred_cnn_dt))  \n",
        "print ('Accuracy:', accuracy_score(y_test, y_pred_cnn_dt))\n",
        "print(classification_report(y_test, y_pred_cnn_dt))\n",
        "print ('Kappa Score:', cohen_kappa_score(y_test, y_pred_cnn_dt))"
      ],
      "execution_count": 0,
      "outputs": []
    },
    {
      "metadata": {
        "colab_type": "code",
        "outputId": "09a80d90-c24c-486d-d1bb-f7a766e6ceeb",
        "id": "LZtz9O3Cjqm-",
        "colab": {
          "base_uri": "https://localhost:8080/",
          "height": 260
        }
      },
      "cell_type": "code",
      "source": [
        "decisionTreeClf = tree.DecisionTreeClassifier()\n",
        "decisionTreeClf = decisionTreeClf.fit(X_train_ncl, y_train_ncl.ravel())\n",
        "y_pred_ncl_dt = rf.predict(X_test)\n",
        "decisionTreeClf\n",
        "\n",
        "print('Confusion Matrix for Decision Tree on NCL Dataset')\n",
        "print(confusion_matrix(y_test, y_pred_ncl_dt))  \n",
        "print ('Accuracy:', accuracy_score(y_test, y_pred_ncl_dt))\n",
        "print(classification_report(y_test, y_pred_ncl_dt))\n",
        "print ('Kappa Score:', cohen_kappa_score(y_test, y_pred_ncl_dt))"
      ],
      "execution_count": 119,
      "outputs": [
        {
          "output_type": "stream",
          "text": [
            "Confusion Matrix for Decision Tree on NCL Dataset\n",
            "[[85285    11]\n",
            " [   35   112]]\n",
            "Accuracy: 0.9994616293903538\n",
            "              precision    recall  f1-score   support\n",
            "\n",
            "           0       1.00      1.00      1.00     85296\n",
            "           1       0.91      0.76      0.83       147\n",
            "\n",
            "   micro avg       1.00      1.00      1.00     85443\n",
            "   macro avg       0.96      0.88      0.91     85443\n",
            "weighted avg       1.00      1.00      1.00     85443\n",
            "\n",
            "Kappa Score: 0.8293621519452927\n"
          ],
          "name": "stdout"
        }
      ]
    },
    {
      "metadata": {
        "colab_type": "text",
        "id": "qP5cxWCpjqm8"
      },
      "cell_type": "markdown",
      "source": [
        "<center><Bold><font size ='+2'>NEURAL NETWORK (MLP) FOR UNDERBALANCED DATASETS</Bold></center></font>"
      ]
    },
    {
      "metadata": {
        "colab_type": "code",
        "outputId": "ff58f4e9-ab9c-474d-fa31-7c3a6422f68e",
        "id": "8OMR6l7Rjqmy",
        "colab": {
          "base_uri": "https://localhost:8080/",
          "height": 260
        }
      },
      "cell_type": "code",
      "source": [
        "mlp = MLPClassifier(solver='adam',hidden_layer_sizes=(15,15), alpha= 0.0001, activation= 'tanh') \n",
        "mlp.fit(X_train_rus50, y_train_rus50.ravel())  \n",
        "y_pred_rus50_mlp = mlp.predict(X_test)\n",
        "mlp\n",
        "\n",
        "print('Confusion Matrix for Neural Networks on RUS50 Dataset')\n",
        "print(confusion_matrix(y_test, y_pred_rus50_mlp))  \n",
        "print ('Accuracy:', accuracy_score(y_test, y_pred_rus50_mlp))\n",
        "print(classification_report(y_test, y_pred_rus50_mlp))\n",
        "print ('Kappa Score:', cohen_kappa_score(y_test, y_pred_rus50_mlp))"
      ],
      "execution_count": 120,
      "outputs": [
        {
          "output_type": "stream",
          "text": [
            "Confusion Matrix for Neural Networks on RUS50 Dataset\n",
            "[[80357  4939]\n",
            " [    9   138]]\n",
            "Accuracy: 0.9420900483363178\n",
            "              precision    recall  f1-score   support\n",
            "\n",
            "           0       1.00      0.94      0.97     85296\n",
            "           1       0.03      0.94      0.05       147\n",
            "\n",
            "   micro avg       0.94      0.94      0.94     85443\n",
            "   macro avg       0.51      0.94      0.51     85443\n",
            "weighted avg       1.00      0.94      0.97     85443\n",
            "\n",
            "Kappa Score: 0.04965506192921665\n"
          ],
          "name": "stdout"
        }
      ]
    },
    {
      "metadata": {
        "colab_type": "code",
        "outputId": "bb2c7681-7c49-4cac-e928-1569c77481f2",
        "id": "9kiHHHIFjqmp",
        "colab": {
          "base_uri": "https://localhost:8080/",
          "height": 315
        }
      },
      "cell_type": "code",
      "source": [
        "mlp = MLPClassifier(solver='adam',hidden_layer_sizes=(15,15), alpha= 0.0001, activation= 'tanh') \n",
        "mlp.fit(X_train_rus10, y_train_rus10.ravel())  \n",
        "y_pred_rus10_mlp = mlp.predict(X_test)\n",
        "mlp\n",
        "\n",
        "print('Confusion Matrix for Neural Networks on RUS10 Dataset')\n",
        "print(confusion_matrix(y_test, y_pred_rus10_mlp))  \n",
        "print ('Accuracy:', accuracy_score(y_test, y_pred_rus10_mlp))\n",
        "print(classification_report(y_test, y_pred_rus10_mlp))\n",
        "print ('Kappa Score:', cohen_kappa_score(y_test, y_pred_rus10_mlp))"
      ],
      "execution_count": 121,
      "outputs": [
        {
          "output_type": "stream",
          "text": [
            "/usr/local/lib/python3.6/dist-packages/sklearn/neural_network/multilayer_perceptron.py:562: ConvergenceWarning: Stochastic Optimizer: Maximum iterations (200) reached and the optimization hasn't converged yet.\n",
            "  % self.max_iter, ConvergenceWarning)\n"
          ],
          "name": "stderr"
        },
        {
          "output_type": "stream",
          "text": [
            "Confusion Matrix for Neural Networks on RUS10 Dataset\n",
            "[[84899   397]\n",
            " [   18   129]]\n",
            "Accuracy: 0.9951429608042789\n",
            "              precision    recall  f1-score   support\n",
            "\n",
            "           0       1.00      1.00      1.00     85296\n",
            "           1       0.25      0.88      0.38       147\n",
            "\n",
            "   micro avg       1.00      1.00      1.00     85443\n",
            "   macro avg       0.62      0.94      0.69     85443\n",
            "weighted avg       1.00      1.00      1.00     85443\n",
            "\n",
            "Kappa Score: 0.3816952825004387\n"
          ],
          "name": "stdout"
        }
      ]
    },
    {
      "metadata": {
        "colab_type": "code",
        "outputId": "2691bf7c-ccfb-4e22-9b94-e8d1e4b7e8d1",
        "id": "2DWUxx2Jjqmd",
        "colab": {
          "base_uri": "https://localhost:8080/",
          "height": 260
        }
      },
      "cell_type": "code",
      "source": [
        "mlp = MLPClassifier(solver='adam',hidden_layer_sizes=(15,15), alpha= 0.0001, activation= 'tanh') \n",
        "mlp.fit(X_train_rus1, y_train_rus1.ravel())  \n",
        "y_pred_rus1_mlp = mlp.predict(X_test)\n",
        "mlp\n",
        "\n",
        "print('Confusion Matrix for Neural Networks on RUS1 Dataset')\n",
        "print(confusion_matrix(y_test, y_pred_rus1_mlp))  \n",
        "print ('Accuracy:', accuracy_score(y_test, y_pred_rus1_mlp))\n",
        "print(classification_report(y_test, y_pred_rus1_mlp))\n",
        "print ('Kappa Score:', cohen_kappa_score(y_test, y_pred_rus1_mlp))"
      ],
      "execution_count": 122,
      "outputs": [
        {
          "output_type": "stream",
          "text": [
            "Confusion Matrix for Neural Networks on RUS1 Dataset\n",
            "[[85264    32]\n",
            " [   28   119]]\n",
            "Accuracy: 0.9992977774656788\n",
            "              precision    recall  f1-score   support\n",
            "\n",
            "           0       1.00      1.00      1.00     85296\n",
            "           1       0.79      0.81      0.80       147\n",
            "\n",
            "   micro avg       1.00      1.00      1.00     85443\n",
            "   macro avg       0.89      0.90      0.90     85443\n",
            "weighted avg       1.00      1.00      1.00     85443\n",
            "\n",
            "Kappa Score: 0.798306056979371\n"
          ],
          "name": "stdout"
        }
      ]
    },
    {
      "metadata": {
        "colab_type": "code",
        "outputId": "f72a9b25-5703-4f43-fe6f-106a717bd783",
        "id": "pJjgKMMEjqmO",
        "colab": {
          "base_uri": "https://localhost:8080/",
          "height": 260
        }
      },
      "cell_type": "code",
      "source": [
        "mlp = MLPClassifier(solver='adam',hidden_layer_sizes=(15,15), alpha= 0.0001, activation= 'tanh') \n",
        "mlp.fit(X_train_enn, y_train_enn.ravel())  \n",
        "y_pred_enn_mlp = mlp.predict(X_test)\n",
        "mlp\n",
        "\n",
        "print('Confusion Matrix for Neural Networks on ENN Dataset')\n",
        "print(confusion_matrix(y_test, y_pred_enn_mlp))  \n",
        "print ('Accuracy:', accuracy_score(y_test, y_pred_enn_mlp))\n",
        "print(classification_report(y_test, y_pred_enn_mlp))\n",
        "print ('Kappa Score:', cohen_kappa_score(y_test, y_pred_enn_mlp))"
      ],
      "execution_count": 123,
      "outputs": [
        {
          "output_type": "stream",
          "text": [
            "Confusion Matrix for Neural Networks on ENN Dataset\n",
            "[[85276    20]\n",
            " [   27   120]]\n",
            "Accuracy: 0.9994499256814484\n",
            "              precision    recall  f1-score   support\n",
            "\n",
            "           0       1.00      1.00      1.00     85296\n",
            "           1       0.86      0.82      0.84       147\n",
            "\n",
            "   micro avg       1.00      1.00      1.00     85443\n",
            "   macro avg       0.93      0.91      0.92     85443\n",
            "weighted avg       1.00      1.00      1.00     85443\n",
            "\n",
            "Kappa Score: 0.8359615981075268\n"
          ],
          "name": "stdout"
        }
      ]
    },
    {
      "metadata": {
        "colab_type": "code",
        "id": "-bqwZjH3jqmE",
        "colab": {}
      },
      "cell_type": "code",
      "source": [
        "mlp = MLPClassifier(solver='adam',hidden_layer_sizes=(15,15), alpha= 0.0001, activation= 'tanh')  \n",
        "mlp.fit(X_train_cnn, y_train_cnn.ravel())  \n",
        "y_pred_cnn_mlp = mlp.predict(X_test)\n",
        "mlp\n",
        "\n",
        "print('Confusion Matrix for Neural Networks on CNN Dataset')\n",
        "print(confusion_matrix(y_test, y_pred_cnn_mlp))  \n",
        "print ('Accuracy:', accuracy_score(y_test, y_pred_cnn_mlp))\n",
        "print(classification_report(y_test, y_pred_cnn_mlp))\n",
        "print ('Kappa Score:', cohen_kappa_score(y_test, y_pred_cnn_mlp))"
      ],
      "execution_count": 0,
      "outputs": []
    },
    {
      "metadata": {
        "colab_type": "code",
        "outputId": "d198638f-71a2-484b-8f3a-735403f3cd1e",
        "id": "62QyQEiYjql5",
        "colab": {
          "base_uri": "https://localhost:8080/",
          "height": 260
        }
      },
      "cell_type": "code",
      "source": [
        "mlp = MLPClassifier(solver='adam',hidden_layer_sizes=(15,15), alpha= 0.0001, activation= 'tanh')   \n",
        "mlp.fit(X_train_ncl, y_train_ncl.ravel())  \n",
        "y_pred_ncl_mlp = mlp.predict(X_test)\n",
        "mlp\n",
        "\n",
        "print('Confusion Matrix for Neural Networks on NCL Dataset')\n",
        "print(confusion_matrix(y_test, y_pred_ncl_mlp))  \n",
        "print ('Accuracy:', accuracy_score(y_test, y_pred_ncl_mlp))\n",
        "print(classification_report(y_test, y_pred_ncl_mlp))\n",
        "print ('Kappa Score:', cohen_kappa_score(y_test, y_pred_ncl_mlp))"
      ],
      "execution_count": 124,
      "outputs": [
        {
          "output_type": "stream",
          "text": [
            "Confusion Matrix for Neural Networks on NCL Dataset\n",
            "[[85275    21]\n",
            " [   29   118]]\n",
            "Accuracy: 0.9994148145547324\n",
            "              precision    recall  f1-score   support\n",
            "\n",
            "           0       1.00      1.00      1.00     85296\n",
            "           1       0.85      0.80      0.83       147\n",
            "\n",
            "   micro avg       1.00      1.00      1.00     85443\n",
            "   macro avg       0.92      0.90      0.91     85443\n",
            "weighted avg       1.00      1.00      1.00     85443\n",
            "\n",
            "Kappa Score: 0.8248819716417133\n"
          ],
          "name": "stdout"
        }
      ]
    },
    {
      "metadata": {
        "colab_type": "text",
        "id": "ZUxyPrbkjql2"
      },
      "cell_type": "markdown",
      "source": [
        "<center><Bold><font size ='+2'>LOGISTIC REGRESSION FOR UNDERBALANCED DATASETS</Bold></center></font>"
      ]
    },
    {
      "metadata": {
        "colab_type": "code",
        "outputId": "8f1b42bc-4379-4832-c565-f605e5ada59e",
        "id": "Vh0K_Zr3jqls",
        "colab": {
          "base_uri": "https://localhost:8080/",
          "height": 384
        }
      },
      "cell_type": "code",
      "source": [
        "clf = LogisticRegression(random_state=0, solver='lbfgs', multi_class='ovr').fit(X_train_rus50, y_train_rus50)\n",
        "y_pred_rus50_lr = clf.predict(X_test)\n",
        "print(clf)\n",
        "\n",
        "print('Confusion Matrix for Linear Regression on RUS50')\n",
        "print(confusion_matrix(y_test, y_pred_rus50_lr))  \n",
        "print ('Accuracy:', accuracy_score(y_test, y_pred_rus50_lr))\n",
        "print(classification_report(y_test, y_pred_rus50_lr))\n",
        "print ('Kappa Score:', cohen_kappa_score(y_test, y_pred_rus50_lr))"
      ],
      "execution_count": 125,
      "outputs": [
        {
          "output_type": "stream",
          "text": [
            "LogisticRegression(C=1.0, class_weight=None, dual=False, fit_intercept=True,\n",
            "          intercept_scaling=1, max_iter=100, multi_class='ovr',\n",
            "          n_jobs=None, penalty='l2', random_state=0, solver='lbfgs',\n",
            "          tol=0.0001, verbose=0, warm_start=False)\n",
            "Confusion Matrix for Linear Regression on RUS50\n",
            "[[82382  2914]\n",
            " [   13   134]]\n",
            "Accuracy: 0.9657432440340343\n"
          ],
          "name": "stdout"
        },
        {
          "output_type": "stream",
          "text": [
            "/usr/local/lib/python3.6/dist-packages/sklearn/linear_model/logistic.py:758: ConvergenceWarning: lbfgs failed to converge. Increase the number of iterations.\n",
            "  \"of iterations.\", ConvergenceWarning)\n"
          ],
          "name": "stderr"
        },
        {
          "output_type": "stream",
          "text": [
            "              precision    recall  f1-score   support\n",
            "\n",
            "           0       1.00      0.97      0.98     85296\n",
            "           1       0.04      0.91      0.08       147\n",
            "\n",
            "   micro avg       0.97      0.97      0.97     85443\n",
            "   macro avg       0.52      0.94      0.53     85443\n",
            "weighted avg       1.00      0.97      0.98     85443\n",
            "\n",
            "Kappa Score: 0.08086392909857398\n"
          ],
          "name": "stdout"
        }
      ]
    },
    {
      "metadata": {
        "colab_type": "code",
        "outputId": "a0c42205-7a1f-4de6-e1f5-90bfea8a2b7f",
        "id": "a4aY8JaQjqlj",
        "colab": {
          "base_uri": "https://localhost:8080/",
          "height": 384
        }
      },
      "cell_type": "code",
      "source": [
        "clf = LogisticRegression(random_state=0, solver='lbfgs', multi_class='ovr').fit(X_train_rus10, y_train_rus10)\n",
        "y_pred_rus10_lr = clf.predict(X_test)\n",
        "print(clf)\n",
        "\n",
        "print('Confusion Matrix for Linear Regression on RUS10')\n",
        "print(confusion_matrix(y_test, y_pred_rus10_lr))  \n",
        "print ('Accuracy:', accuracy_score(y_test, y_pred_rus10_lr))\n",
        "print(classification_report(y_test, y_pred_rus10_lr))\n",
        "print ('Kappa Score:', cohen_kappa_score(y_test, y_pred_rus10_lr))"
      ],
      "execution_count": 126,
      "outputs": [
        {
          "output_type": "stream",
          "text": [
            "LogisticRegression(C=1.0, class_weight=None, dual=False, fit_intercept=True,\n",
            "          intercept_scaling=1, max_iter=100, multi_class='ovr',\n",
            "          n_jobs=None, penalty='l2', random_state=0, solver='lbfgs',\n",
            "          tol=0.0001, verbose=0, warm_start=False)\n",
            "Confusion Matrix for Linear Regression on RUS10\n"
          ],
          "name": "stdout"
        },
        {
          "output_type": "stream",
          "text": [
            "/usr/local/lib/python3.6/dist-packages/sklearn/linear_model/logistic.py:758: ConvergenceWarning: lbfgs failed to converge. Increase the number of iterations.\n",
            "  \"of iterations.\", ConvergenceWarning)\n"
          ],
          "name": "stderr"
        },
        {
          "output_type": "stream",
          "text": [
            "[[85121   175]\n",
            " [   22   125]]\n",
            "Accuracy: 0.9976943693456456\n",
            "              precision    recall  f1-score   support\n",
            "\n",
            "           0       1.00      1.00      1.00     85296\n",
            "           1       0.42      0.85      0.56       147\n",
            "\n",
            "   micro avg       1.00      1.00      1.00     85443\n",
            "   macro avg       0.71      0.92      0.78     85443\n",
            "weighted avg       1.00      1.00      1.00     85443\n",
            "\n",
            "Kappa Score: 0.5582640054915886\n"
          ],
          "name": "stdout"
        }
      ]
    },
    {
      "metadata": {
        "colab_type": "code",
        "outputId": "04ca7544-ca4e-40b1-c34a-63ef46b65f4a",
        "id": "UQB5ZsOAjqlZ",
        "colab": {
          "base_uri": "https://localhost:8080/",
          "height": 384
        }
      },
      "cell_type": "code",
      "source": [
        "clf = LogisticRegression(random_state=0, solver='lbfgs', multi_class='ovr').fit(X_train_rus1, y_train_rus1)\n",
        "y_pred_rus1_lr = clf.predict(X_test)\n",
        "print(clf)\n",
        "\n",
        "print('Confusion Matrix for Linear Regression on RUS1')\n",
        "print(confusion_matrix(y_test, y_pred_rus1_lr))  \n",
        "print ('Accuracy:', accuracy_score(y_test, y_pred_rus1_lr))\n",
        "print(classification_report(y_test, y_pred_rus1_lr))\n",
        "print ('Kappa Score:', cohen_kappa_score(y_test, y_pred_rus1_lr))"
      ],
      "execution_count": 127,
      "outputs": [
        {
          "output_type": "stream",
          "text": [
            "/usr/local/lib/python3.6/dist-packages/sklearn/linear_model/logistic.py:758: ConvergenceWarning: lbfgs failed to converge. Increase the number of iterations.\n",
            "  \"of iterations.\", ConvergenceWarning)\n"
          ],
          "name": "stderr"
        },
        {
          "output_type": "stream",
          "text": [
            "LogisticRegression(C=1.0, class_weight=None, dual=False, fit_intercept=True,\n",
            "          intercept_scaling=1, max_iter=100, multi_class='ovr',\n",
            "          n_jobs=None, penalty='l2', random_state=0, solver='lbfgs',\n",
            "          tol=0.0001, verbose=0, warm_start=False)\n",
            "Confusion Matrix for Linear Regression on RUS1\n",
            "[[85265    31]\n",
            " [   27   120]]\n",
            "Accuracy: 0.9993211848834895\n",
            "              precision    recall  f1-score   support\n",
            "\n",
            "           0       1.00      1.00      1.00     85296\n",
            "           1       0.79      0.82      0.81       147\n",
            "\n",
            "   micro avg       1.00      1.00      1.00     85443\n",
            "   macro avg       0.90      0.91      0.90     85443\n",
            "weighted avg       1.00      1.00      1.00     85443\n",
            "\n",
            "Kappa Score: 0.805029188413392\n"
          ],
          "name": "stdout"
        }
      ]
    },
    {
      "metadata": {
        "colab_type": "code",
        "outputId": "05c4340e-e69e-4a2a-dfe8-9ff7c95d9c45",
        "id": "N8Dzo5iJjqlQ",
        "colab": {
          "base_uri": "https://localhost:8080/",
          "height": 384
        }
      },
      "cell_type": "code",
      "source": [
        "clf = LogisticRegression(random_state=0, solver='lbfgs', multi_class='ovr').fit(X_train_enn, y_train_enn)\n",
        "y_pred_enn_lr = clf.predict(X_test)\n",
        "print(clf)\n",
        "\n",
        "print('Confusion Matrix for Linear Regression on ENN')\n",
        "print(confusion_matrix(y_test, y_pred_enn_lr))  \n",
        "print ('Accuracy:', accuracy_score(y_test, y_pred_enn_lr))\n",
        "print(classification_report(y_test, y_pred_enn_lr))\n",
        "print ('Kappa Score:', cohen_kappa_score(y_test, y_pred_enn_lr))"
      ],
      "execution_count": 128,
      "outputs": [
        {
          "output_type": "stream",
          "text": [
            "/usr/local/lib/python3.6/dist-packages/sklearn/linear_model/logistic.py:758: ConvergenceWarning: lbfgs failed to converge. Increase the number of iterations.\n",
            "  \"of iterations.\", ConvergenceWarning)\n"
          ],
          "name": "stderr"
        },
        {
          "output_type": "stream",
          "text": [
            "LogisticRegression(C=1.0, class_weight=None, dual=False, fit_intercept=True,\n",
            "          intercept_scaling=1, max_iter=100, multi_class='ovr',\n",
            "          n_jobs=None, penalty='l2', random_state=0, solver='lbfgs',\n",
            "          tol=0.0001, verbose=0, warm_start=False)\n",
            "Confusion Matrix for Linear Regression on ENN\n",
            "[[85281    15]\n",
            " [   50    97]]\n",
            "Accuracy: 0.9992392589211521\n",
            "              precision    recall  f1-score   support\n",
            "\n",
            "           0       1.00      1.00      1.00     85296\n",
            "           1       0.87      0.66      0.75       147\n",
            "\n",
            "   micro avg       1.00      1.00      1.00     85443\n",
            "   macro avg       0.93      0.83      0.87     85443\n",
            "weighted avg       1.00      1.00      1.00     85443\n",
            "\n",
            "Kappa Score: 0.7486607681679287\n"
          ],
          "name": "stdout"
        }
      ]
    },
    {
      "metadata": {
        "colab_type": "code",
        "id": "vGktFuuMjqlH",
        "colab": {}
      },
      "cell_type": "code",
      "source": [
        "clf = LogisticRegression(random_state=0, solver='lbfgs', multi_class='ovr').fit(X_train_cnn, y_train_cnn)\n",
        "y_pred_cnn_lr = clf.predict(X_test)\n",
        "print(clf)\n",
        "\n",
        "print('Confusion Matrix for Linear Regression on CNN')\n",
        "print(confusion_matrix(y_test, y_pred_cnn_lr))  \n",
        "print ('Accuracy:', accuracy_score(y_test, y_pred_cnn_lr))\n",
        "print(classification_report(y_test, y_pred_cnn_lr))\n",
        "print ('Kappa Score:', cohen_kappa_score(y_test, y_pred_cnn_lr))"
      ],
      "execution_count": 0,
      "outputs": []
    },
    {
      "metadata": {
        "colab_type": "code",
        "outputId": "6b03856a-cf00-4252-ddb1-fb9fea576dcc",
        "id": "GAAETcg_jqki",
        "colab": {
          "base_uri": "https://localhost:8080/",
          "height": 384
        }
      },
      "cell_type": "code",
      "source": [
        "clf = LogisticRegression(random_state=0, solver='lbfgs', multi_class='ovr').fit(X_train_ncl, y_train_ncl)\n",
        "y_pred_ncl_lr = clf.predict(X_test)\n",
        "print(clf)\n",
        "\n",
        "print('Confusion Matrix for Linear Regression on NCL')\n",
        "print(confusion_matrix(y_test, y_pred_ncl_lr))  \n",
        "print ('Accuracy:', accuracy_score(y_test, y_pred_ncl_lr))\n",
        "print(classification_report(y_test, y_pred_ncl_lr))\n",
        "print ('Kappa Score:', cohen_kappa_score(y_test, y_pred_ncl_lr))"
      ],
      "execution_count": 130,
      "outputs": [
        {
          "output_type": "stream",
          "text": [
            "/usr/local/lib/python3.6/dist-packages/sklearn/linear_model/logistic.py:758: ConvergenceWarning: lbfgs failed to converge. Increase the number of iterations.\n",
            "  \"of iterations.\", ConvergenceWarning)\n"
          ],
          "name": "stderr"
        },
        {
          "output_type": "stream",
          "text": [
            "LogisticRegression(C=1.0, class_weight=None, dual=False, fit_intercept=True,\n",
            "          intercept_scaling=1, max_iter=100, multi_class='ovr',\n",
            "          n_jobs=None, penalty='l2', random_state=0, solver='lbfgs',\n",
            "          tol=0.0001, verbose=0, warm_start=False)\n",
            "Confusion Matrix for Linear Regression on NCL\n",
            "[[85283    13]\n",
            " [   43   104]]\n",
            "Accuracy: 0.9993445923013002\n",
            "              precision    recall  f1-score   support\n",
            "\n",
            "           0       1.00      1.00      1.00     85296\n",
            "           1       0.89      0.71      0.79       147\n",
            "\n",
            "   micro avg       1.00      1.00      1.00     85443\n",
            "   macro avg       0.94      0.85      0.89     85443\n",
            "weighted avg       1.00      1.00      1.00     85443\n",
            "\n",
            "Kappa Score: 0.7875548217133812\n"
          ],
          "name": "stdout"
        }
      ]
    }
  ]
}